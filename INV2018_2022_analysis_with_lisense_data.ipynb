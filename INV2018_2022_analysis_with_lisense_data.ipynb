{
  "cells": [
    {
      "cell_type": "markdown",
      "metadata": {
        "id": "view-in-github",
        "colab_type": "text"
      },
      "source": [
        "<a href=\"https://colab.research.google.com/github/galrat/parsing/blob/main/INV2018_2022_analysis_with_lisense_data.ipynb\" target=\"_parent\"><img src=\"https://colab.research.google.com/assets/colab-badge.svg\" alt=\"Open In Colab\"/></a>"
      ]
    },
    {
      "cell_type": "markdown",
      "metadata": {
        "id": "UhQgqWLdmNMj"
      },
      "source": [
        "План анализа\n",
        "1.\tКоличество заявок по годам (ИЗ)\n",
        "2.\tКоличество RU заявителей в общем числе\n",
        "3.\tКоличество выданных патентов\n",
        "4.\tВлияние беспошлинного патентования.\n",
        "5.\tСкорость принятия решения по заявкам\n",
        "6.\tКоличество экспертиз по существу на 10 тысяч заявок\n",
        "7.\tМПК, по которым подают заявки и выдают патенты\n",
        "8.\tРаспределение заявок и патентов по 4 категориям\n",
        "9.\tПоддержание патентов в силе, кто поддерживает по категориям\n"
      ]
    },
    {
      "cell_type": "code",
      "source": [
        "#!pip install stop-words"
      ],
      "metadata": {
        "id": "E5x_sibhwDae"
      },
      "execution_count": null,
      "outputs": []
    },
    {
      "cell_type": "code",
      "execution_count": null,
      "metadata": {
        "id": "38BA0pW88SRB"
      },
      "outputs": [],
      "source": [
        "import pandas as pd\n",
        "import re\n",
        "import matplotlib.pyplot as plt\n",
        "import numpy as np\n",
        "from wordcloud import WordCloud\n",
        "#from stop_words import get_stop_words\n",
        "from datetime import datetime"
      ]
    },
    {
      "cell_type": "code",
      "source": [
        "heads = ['application number', 'application url', 'INV/UM', 'filing date', 'patent number', 'patent url', 'PCT app', 'PCT publication', 'applicant', 'authors',\n",
        "            'formal exam', 'substantive exam dates', 'substantive exam amount', 'refuse date', 'withdrawal date', 'grant date', 'ipc', 'claims', 'status', 'title',\n",
        "           'address', 'alienation', 'license', 'pledge', 'abstract']"
      ],
      "metadata": {
        "id": "mQoTwM9NjAVZ"
      },
      "execution_count": null,
      "outputs": []
    },
    {
      "cell_type": "markdown",
      "source": [
        "# patents main statistic part"
      ],
      "metadata": {
        "id": "ZcXScswTwaHg"
      }
    },
    {
      "cell_type": "code",
      "execution_count": null,
      "metadata": {
        "id": "iZ-bNHAuUgTR"
      },
      "outputs": [],
      "source": [
        "file_addresses = [\n",
        "                 '/content/drive/MyDrive/Colab Notebooks/Патентование/парсинг и анализ заявок на ИЗ и ПМ/data/inv/2018INV_final_parsed_data.txt',\n",
        "                 '/content/drive/MyDrive/Colab Notebooks/Патентование/парсинг и анализ заявок на ИЗ и ПМ/data/inv/2019INV_final_parsed_data.txt',\n",
        "                 '/content/drive/MyDrive/Colab Notebooks/Патентование/парсинг и анализ заявок на ИЗ и ПМ/data/inv/2020INV_final_parsed_data.txt',\n",
        "                 '/content/drive/MyDrive/Colab Notebooks/Патентование/парсинг и анализ заявок на ИЗ и ПМ/data/inv/2021INV_final_parsed_data.txt',\n",
        "                 '/content/drive/MyDrive/Colab Notebooks/Патентование/парсинг и анализ заявок на ИЗ и ПМ/data/inv/2022INV_final_parsed_data.txt']"
      ]
    },
    {
      "cell_type": "code",
      "source": [
        "file_addresses = ['/content/drive/MyDrive/Colab Notebooks/Патентование/парсинг и анализ заявок на ИЗ и ПМ/data/inv2/2018INV_patent_parsed_data.txt',\n",
        "                 '/content/drive/MyDrive/Colab Notebooks/Патентование/парсинг и анализ заявок на ИЗ и ПМ/data/inv2/2019INV_patent_parsed_data.txt',\n",
        "                 '/content/drive/MyDrive/Colab Notebooks/Патентование/парсинг и анализ заявок на ИЗ и ПМ/data/inv2/2020INV_patent_parsed_data.txt',\n",
        "                 '/content/drive/MyDrive/Colab Notebooks/Патентование/парсинг и анализ заявок на ИЗ и ПМ/data/inv2/2021INV_patent_parsed_data.txt',\n",
        "                 '/content/drive/MyDrive/Colab Notebooks/Патентование/парсинг и анализ заявок на ИЗ и ПМ/data/inv2/2022INV_patent_parsed_data.txt']"
      ],
      "metadata": {
        "id": "0dRdQzr0M-IR"
      },
      "execution_count": null,
      "outputs": []
    },
    {
      "cell_type": "code",
      "execution_count": null,
      "metadata": {
        "colab": {
          "base_uri": "https://localhost:8080/"
        },
        "id": "oCkc285ITZdZ",
        "outputId": "ed3b9684-024a-478b-9ddc-37a2bf40ab91"
      },
      "outputs": [
        {
          "output_type": "stream",
          "name": "stdout",
          "text": [
            "2018\n"
          ]
        },
        {
          "output_type": "stream",
          "name": "stderr",
          "text": [
            "<ipython-input-145-c14175934c68>:28: FutureWarning: The default value of regex will change from True to False in a future version.\n",
            "  app_df['substantive exam amount'] = app_df['substantive exam amount'].str.replace('00.01.1900', '0')\n",
            "<ipython-input-145-c14175934c68>:29: FutureWarning: The default value of regex will change from True to False in a future version.\n",
            "  app_df['substantive exam amount'] = app_df['substantive exam amount'].str.replace('01.01.1900', '1')\n"
          ]
        },
        {
          "output_type": "stream",
          "name": "stdout",
          "text": [
            "2019\n"
          ]
        },
        {
          "output_type": "stream",
          "name": "stderr",
          "text": [
            "<ipython-input-145-c14175934c68>:28: FutureWarning: The default value of regex will change from True to False in a future version.\n",
            "  app_df['substantive exam amount'] = app_df['substantive exam amount'].str.replace('00.01.1900', '0')\n",
            "<ipython-input-145-c14175934c68>:29: FutureWarning: The default value of regex will change from True to False in a future version.\n",
            "  app_df['substantive exam amount'] = app_df['substantive exam amount'].str.replace('01.01.1900', '1')\n"
          ]
        },
        {
          "output_type": "stream",
          "name": "stdout",
          "text": [
            "2020\n"
          ]
        },
        {
          "output_type": "stream",
          "name": "stderr",
          "text": [
            "<ipython-input-145-c14175934c68>:28: FutureWarning: The default value of regex will change from True to False in a future version.\n",
            "  app_df['substantive exam amount'] = app_df['substantive exam amount'].str.replace('00.01.1900', '0')\n",
            "<ipython-input-145-c14175934c68>:29: FutureWarning: The default value of regex will change from True to False in a future version.\n",
            "  app_df['substantive exam amount'] = app_df['substantive exam amount'].str.replace('01.01.1900', '1')\n"
          ]
        },
        {
          "output_type": "stream",
          "name": "stdout",
          "text": [
            "2021\n"
          ]
        },
        {
          "output_type": "stream",
          "name": "stderr",
          "text": [
            "<ipython-input-145-c14175934c68>:28: FutureWarning: The default value of regex will change from True to False in a future version.\n",
            "  app_df['substantive exam amount'] = app_df['substantive exam amount'].str.replace('00.01.1900', '0')\n",
            "<ipython-input-145-c14175934c68>:29: FutureWarning: The default value of regex will change from True to False in a future version.\n",
            "  app_df['substantive exam amount'] = app_df['substantive exam amount'].str.replace('01.01.1900', '1')\n"
          ]
        },
        {
          "output_type": "stream",
          "name": "stdout",
          "text": [
            "2022\n"
          ]
        },
        {
          "output_type": "stream",
          "name": "stderr",
          "text": [
            "<ipython-input-145-c14175934c68>:28: FutureWarning: The default value of regex will change from True to False in a future version.\n",
            "  app_df['substantive exam amount'] = app_df['substantive exam amount'].str.replace('00.01.1900', '0')\n",
            "<ipython-input-145-c14175934c68>:29: FutureWarning: The default value of regex will change from True to False in a future version.\n",
            "  app_df['substantive exam amount'] = app_df['substantive exam amount'].str.replace('01.01.1900', '1')\n"
          ]
        }
      ],
      "source": [
        "data_voc = {}\n",
        "format = \"%d.%m.%Y\"\n",
        "years = []\n",
        "for file_address in file_addresses[:]:\n",
        "\n",
        "  year = file_address.split('/')[-1][:4]\n",
        "  print(year)\n",
        "  years.append(year)\n",
        "\n",
        "  # преобразую данные из txt в dataframe\n",
        "  with open(file_address, 'r', encoding='utf-8') as file:\n",
        "    content = file.readlines()\n",
        "\n",
        "  data = []\n",
        "  for line in content[:]:\n",
        "    trigger = 0\n",
        "    if len(line.split('\\t')) != 25:\n",
        "      print(len(line.split('\\t')), line)\n",
        "      trigger = 1\n",
        "    if trigger == 0:\n",
        "      data.append(line.replace('\\n','').split('\\t'))\n",
        "\n",
        "\n",
        "\n",
        "\n",
        "  app_df = pd.DataFrame(data, columns=heads)\n",
        "  app_df.drop(index=[0], inplace=True)\n",
        "  app_df['substantive exam amount'] = app_df['substantive exam amount'].str.replace('00.01.1900', '0')\n",
        "  app_df['substantive exam amount'] = app_df['substantive exam amount'].str.replace('01.01.1900', '1')\n",
        "\n",
        "  #app_df['filing date'] = pd.to_datetime( app_df['filing date'])\n",
        "  #break\n",
        "\n",
        "\n",
        "  data_voc[year] = app_df\n"
      ]
    },
    {
      "cell_type": "code",
      "source": [
        "# исправление ошибок\n",
        "\n",
        "# 1. \"no_data\" in claims where claims text exists\n",
        "for year in data_voc.keys():\n",
        "  print(year)\n",
        "  lines = []\n",
        "  for line in data_voc[year]['claims']:\n",
        "    if len(line) > 7 and 'no_data' in line:\n",
        "      lines.append(line[7:])\n",
        "    else:\n",
        "      lines.append(line)\n",
        "    #break\n",
        "  data_voc[year]['claims'] = lines\n",
        "  #break\n",
        "\n",
        "# нет данных вместо no_data\n",
        "for year in data_voc.keys():\n",
        "   data_voc[year]['status'] = data_voc[year]['status'].str.replace('нет данных', 'no_data')"
      ],
      "metadata": {
        "id": "nsnVKQJkKw7E",
        "colab": {
          "base_uri": "https://localhost:8080/"
        },
        "outputId": "2dae97dc-e921-4bc1-e5db-022a71afa0dc"
      },
      "execution_count": null,
      "outputs": [
        {
          "output_type": "stream",
          "name": "stdout",
          "text": [
            "2018\n",
            "2019\n",
            "2020\n",
            "2021\n",
            "2022\n"
          ]
        }
      ]
    },
    {
      "cell_type": "code",
      "source": [
        "# добавляю числовой столбец -\n",
        "'''\n",
        "действует-0\n",
        "может прекратить действие-1\n",
        "не действует, но может быть восстановлен-2\n",
        "не действует-3\n",
        "no_data -0'''"
      ],
      "metadata": {
        "id": "glhuMskypDnl",
        "colab": {
          "base_uri": "https://localhost:8080/"
        },
        "outputId": "c2abfeba-e0ed-4494-ba56-2ade55cdaa5c"
      },
      "execution_count": null,
      "outputs": [
        {
          "output_type": "execute_result",
          "data": {
            "text/plain": [
              "'\\nдействует-0\\nможет прекратить действие-1\\nне действует, но может быть восстановлен-2\\nне действует-3\\nno_data -0'"
            ],
            "application/vnd.google.colaboratory.intrinsic+json": {
              "type": "string"
            }
          },
          "metadata": {},
          "execution_count": 147
        }
      ]
    },
    {
      "cell_type": "code",
      "source": [
        "for year in years:\n",
        "  print(year)\n",
        "  status_column = data_voc[year]['status']\n",
        "  lines = []\n",
        "  for line in status_column.values:\n",
        "    status = line.split('(')[0].strip()\n",
        "    #print(line, status)\n",
        "    if status == 'действует':\n",
        "      lines.append(1)\n",
        "    elif status == 'может прекратить свое действие':\n",
        "      lines.append(2)\n",
        "    elif status == 'прекратил действие, но может быть восстановлен':\n",
        "      lines.append(3)\n",
        "    elif status == 'не действует':\n",
        "      lines.append(4)\n",
        "    elif status == 'no_data':\n",
        "      lines.append(0)\n",
        "    else:\n",
        "      lines.append(0)\n",
        "      print('остаток', [status], line)\n",
        "  data_voc[year]['status_number'] = lines\n",
        "\n",
        "\n"
      ],
      "metadata": {
        "id": "KP_Q7fz4phrT",
        "colab": {
          "base_uri": "https://localhost:8080/"
        },
        "outputId": "b81843e8-a3b1-466f-d404-7b68acb165cf"
      },
      "execution_count": null,
      "outputs": [
        {
          "output_type": "stream",
          "name": "stdout",
          "text": [
            "2018\n",
            "2019\n",
            "2020\n",
            "2021\n",
            "2022\n"
          ]
        }
      ]
    },
    {
      "cell_type": "code",
      "source": [
        "for year in years:\n",
        "  print(data_voc[year]['status_number'].value_counts())"
      ],
      "metadata": {
        "id": "_13JamXwqp-x",
        "colab": {
          "base_uri": "https://localhost:8080/"
        },
        "outputId": "b2633189-26dd-4fc0-92a5-75c261d08107"
      },
      "execution_count": null,
      "outputs": [
        {
          "output_type": "stream",
          "name": "stdout",
          "text": [
            "1    14803\n",
            "0    11768\n",
            "3     7769\n",
            "2     2377\n",
            "4     1301\n",
            "Name: status_number, dtype: int64\n",
            "1    15996\n",
            "0     9737\n",
            "3     7767\n",
            "2     2030\n",
            "4       24\n",
            "Name: status_number, dtype: int64\n",
            "1    15620\n",
            "0    11809\n",
            "3     5301\n",
            "2     2215\n",
            "4       13\n",
            "Name: status_number, dtype: int64\n",
            "1    15324\n",
            "0    10672\n",
            "2     4119\n",
            "3      682\n",
            "4        4\n",
            "Name: status_number, dtype: int64\n",
            "1    14762\n",
            "0    11980\n",
            "2       47\n",
            "3        1\n",
            "4        1\n",
            "Name: status_number, dtype: int64\n"
          ]
        }
      ]
    },
    {
      "cell_type": "code",
      "source": [],
      "metadata": {
        "id": "Y0TiWmylqp3c"
      },
      "execution_count": null,
      "outputs": []
    },
    {
      "cell_type": "markdown",
      "source": [
        "# функции"
      ],
      "metadata": {
        "id": "Jtd218mt4Ox5"
      }
    },
    {
      "cell_type": "code",
      "source": [
        "def app_categories(applicants, authors):\n",
        "  '''\n",
        "  get applicants names, authors names\n",
        "  return\n",
        "  - values - number of applicants in 5 types = ['no_data', 'education', 'government', 'legal', 'individual']\n",
        "  - app_type_col - column with 0, 1, 2, 3, 4 which correspond to types\n",
        "  - phy_app - number of autors which are applicants\n",
        "\n",
        "  '''\n",
        "  print('total documents', len(applicants))\n",
        "\n",
        "  edu = 0 # 1\n",
        "  gov = 0 # 2\n",
        "  leg = 0 # 3\n",
        "  phy = 0 # 4\n",
        "  no_data = 0\n",
        "  phy_app = 0\n",
        "  app_type_col = []\n",
        "\n",
        "  education = ['бразован', 'нститут', 'ниверс', 'ЮНИВЕРСИТИ', 'юниверсити', 'УНИВЕР', 'ИНСТИТЬЮТ', 'ИНСТИТУТ', 'ЮНИВЕРСИТЕ', 'ФГБОУ', 'ИМАШ РАН', 'ИВС РАН',\n",
        "               'ОБРАЗОВАТЕЛЬНОЕ УЧРЕЖДЕНИЕ', 'НАУЧНЫЙ ЦЕНТР', 'ГосНИИ', 'ИССЛЕДОВАТЕЛЬСКИЙ ЦЕНТР',\n",
        "               'БЮДЖЕТНОЕ НАУЧНОЕ УЧРЕЖДЕНИЕ', 'научно-исследовательское учреждение', 'академия', 'образовательная организация',\n",
        "               'Сколково', 'Научный центр', 'научно-практический центр', 'аучный центр', 'Фонд', 'ФНЦ',\n",
        "               'аучно-технический центр', 'НАУЧНО-ПРОИЗВОДСТВЕННОЕ ОБЪЕДИНЕНИЕ', 'образовательное учреждение',\n",
        "               'бразован', 'нститут', 'ниверс', 'ЮНИВЕРСИТИ', 'юниверсити', 'УНИВЕР', 'ИНСТИТЬЮТ', 'ИНСТИТУТ', 'ЮНИВЕРСИТЕ', 'ФГБОУ', 'ИМАШ РАН', 'ИВС РАН', 'учреждение науки', 'аучный центр', 'научно-производственный центр',\n",
        "               'исследовательский центр', 'Научно-учебный центр', 'НАУЧНО-ОБРАЗОВАТЕЛЬНЫЙ ЦЕНТР'\n",
        "               ]\n",
        "  government = ['осударственн', 'министерство', 'Российская Федерация', 'государственное бюджетное учреждение', 'ФГБНУ', 'ойсковая часть', 'азенное учреждение',\n",
        "                'ФБУ', 'ФГУП', 'больница',\n",
        "                'Министерство', 'Росконгресс', 'Федеральное агентство', 'ФГБУ', 'Фонд поддержки', 'МИНИСТЕРСТВО',\n",
        "                'БОЛЬНИЦА', 'ФЕДЕРАЛЬНОЕ КАЗЕННОЕ ПРЕДПРИЯТИЕ', 'Федеральное казенное предприятие',\n",
        "                'Автономное учреждение \"Технопарк - Мордовия\" (RU)', 'ФЕДЕРАЛЬНОЕ ГОСУДАРСТВЕННОЕ УНИТАРНОЕ ПРЕДПРИЯТИЕ',\n",
        "                'Федеральное казенное предприятие', 'ФГАУ', 'Федеральный центр', \"ФКУ\"]\n",
        "  legal = ['ООО', 'бщество', 'ЛТД.', 'ЛИМИТЕД', 'КОРПОРЕЙШН', 'ИНК.', 'Лимитед', 'ИНКОРПОРЕЙТЕД', 'ГМБХ', 'КОНИНКЛЕЙКЕ', 'ИНТЕРНЭШНЛ', 'ФРАНС', 'ЛЛС',\n",
        "           'КАЙСЯ', 'С.П.А', 'С.А.', 'ЛТД',\n",
        "          ' АГ', 'СИМЕНС', 'КОМПАНИ', 'Лтд', 'КОРПОРЭЙШН', 'ЭЛЕКТРОНИКС', 'Компани', 'ОБЩЕСТВО', 'ЭлЭлСи', 'ХОЛДИНГ', 'БАСФ', 'ООО', 'ГмбХ', 'Инк.',\n",
        "           'А/С', 'АКЦИЕНГЕЗЕЛЛЬШАФТ',\n",
        "          'АКЦИЕНГЕЗЕЛЬШАФТ', 'С.Р.Л.', ' АБ ', 'ЛЛК', 'Акциенгезельшафт', ' СПА ', 'СОЛЮШНС', 'ЗАО', 'ПАО', 'АКТИЕНГЕЗЕЛЛЬШАФТ', 'Текнолоджиз',\n",
        "          'олюшн', 'ЭлЭЛСи', 'орпорейшн', 'ГРУП', 'ДиЭмСиСи', '(ПАБЛ)', 'ЭЛЕКТРИК', 'ТЕКНОЛО', 'АО ', 'БОЛАГЕТ', 'САФРАН', ' ОЙ ', 'ОЮЙ', 'ОЙЙ',\n",
        "          ' САС ', ' СА ', ' АС ', 'СОЛЮШН', ' ИНК ', ' НВ ', 'АКТИЕБОЛАГ', 'ГОБЭН', 'ИНТЕРНЕЙШНЛ', 'ЛЛЦ', 'СЕРВИС', 'ФАРМА', 'ЭЛЭЛСИ',\n",
        "           'АССОЦИАЦИЯ РАЗВИТИЯ ФИНАНСОВЫХ ТЕХНОЛОГИЙ',\n",
        "          'убличное акционерное', 'OOO', 'акрытого акционерного общества', 'кооператив', 'КООПЕРАТИВ',\n",
        "          'Частное учреждение здравоохранения', 'с ограниченной ответсвеностью',\n",
        "           'Ленинградский областной центр авиационного технического творчества', 'Ассоциация', 'кционерная организация',\n",
        "           'организация', 'АССОЦИАЦИЯ', 'ЧАСТНОЕ УЧРЕЖДЕНИЕ', 'астное учреждение', 'АВТОНОМНАЯ НЕКОММЕРЧЕСКАЯ',\n",
        "           'Союз']\n",
        "  physic = [' оглы', 'анович ', 'СЕРГЕ', 'ВЛАДИМИР', 'ЕВИЧ ', 'ОВИЧ ', 'Чон-Ын', 'ЦЗИНЬ, ГЭ', 'Цой Валентин',\n",
        "            'Хамама Зина (RU)', 'Федан Дмитрий (RU)', 'Мд. Анварул Азим (RU)', 'Перцовский Давид (RU)', 'Цой ',\n",
        "            'Дорошенко Джассер', 'Шахин Махмуд']\n",
        "            #'Оденцов В.А.','Абрамов Б.Н.',]\n",
        "\n",
        "\n",
        "  others = []\n",
        "  counter = 0\n",
        "  for ap, au in zip(applicants, authors):\n",
        "    counter += 1\n",
        "    #print(counter, 'applicants, authors', ap, au)\n",
        "    if ap == 'no_data':\n",
        "      no_data += 1\n",
        "      app_type_col.append(0)\n",
        "      continue\n",
        "\n",
        "    if ap == au:\n",
        "      #print('ap == au')\n",
        "      phy += 1\n",
        "      phy_app += 1\n",
        "      app_type_col.append(4)\n",
        "      continue\n",
        "\n",
        "    if sum([x in ap for x in legal]):\n",
        "      #print('leg')\n",
        "      leg += 1\n",
        "      app_type_col.append(3)\n",
        "      continue\n",
        "\n",
        "    if sum([x in ap for x in education]):\n",
        "      #print('educ')\n",
        "      edu += 1\n",
        "      app_type_col.append(1)\n",
        "      continue\n",
        "\n",
        "    if sum([x in ap for x in government]):\n",
        "      #print('gov')\n",
        "      gov += 1\n",
        "      app_type_col.append(2)\n",
        "      continue\n",
        "\n",
        "    if sum([x in ap for x in physic]):\n",
        "      #print('physic')\n",
        "      phy += 1\n",
        "      app_type_col.append(4)\n",
        "      continue\n",
        "\n",
        "    # БОЛЬШАЯмаленькие пробел БОЛЬШАЯмаленькие пробел БОЛЬШАЯмаленькие\n",
        "    name_pattern = r'[А-ЯЁ][а-яё]+ [А-ЯЁ][а-яё]+ [А-ЯЁ][а-яё]+'\n",
        "    if len(re.findall(name_pattern, ap)) != 0:\n",
        "      phy += 1\n",
        "      app_type_col.append(4)\n",
        "      continue\n",
        "\n",
        "    # БОЛЬШАЯ ФАМИЛИЯ маленькое имя\n",
        "    name_pattern = r'[А-ЯЁ]+ [А-ЯЁ][а-яё]+'\n",
        "    if len(re.findall(name_pattern, ap)) != 0:\n",
        "      phy += 1\n",
        "      app_type_col.append(4)\n",
        "      continue\n",
        "\n",
        "    # Фамилия И.О.\n",
        "    ap = ap.replace(' .', '').replace('.', '')\n",
        "    name_pattern = r'[А-ЯЁ][а-яё]+\\s[А-ЯЁ][А-ЯЁ]'\n",
        "    if len(re.findall(name_pattern, ap)) != 0:\n",
        "      phy += 1\n",
        "      app_type_col.append(4)\n",
        "      continue\n",
        "\n",
        "        # всякие исключения\n",
        "    if 'Мешенгиссер Юрий' in ap or 'Газимиев Магомед-Салах Алхазурович' in ap or 'НАСЫРОВА НАДЕЖДА ИГОРЕВНА' in ap or ap in 'Саламех Али':\n",
        "      phy += 1\n",
        "      app_type_col.append(4)\n",
        "      continue\n",
        "            # всякие исключения\n",
        "    if 'Саламех Али' in ap or 'Ван Сяолун' in ap or 'Фаизова Алина' in ap or 'Халиков Хашимбек' in ap:\n",
        "      phy += 1\n",
        "      app_type_col.append(4)\n",
        "      continue\n",
        "\n",
        "    others.append(ap)\n",
        "    app_type_col.append(0)\n",
        "\n",
        "\n",
        "    #print()\n",
        "    #break\n",
        "  #print('app_type_col', app_type_col)\n",
        "  if len(others):\n",
        "    print('количество оставшихся', len(others)) # почти 100%, что все others - это коммерческ.ческ.\n",
        "    print('оставшиеся', others)\n",
        "    for other in others:\n",
        "      print('others', other)\n",
        "  if len(applicants) != no_data + edu + gov + leg + phy + len(others):\n",
        "    print('sum check', no_data + edu + gov + leg + phy + len(others))\n",
        "  #print('количество авторов одновременно и заявителей:', phy_app)\n",
        "\n",
        "\n",
        "  data = {}\n",
        "  values = [no_data, edu, gov, leg, phy]\n",
        "  types = ['no_data', 'education', 'government', 'legal', 'individual']\n",
        "  for value, key in zip(values, types):\n",
        "    data[key] = value\n",
        "\n",
        "\n",
        "  return values, app_type_col, phy_app"
      ],
      "metadata": {
        "id": "SG9qovfX4Nea"
      },
      "execution_count": null,
      "outputs": []
    },
    {
      "cell_type": "markdown",
      "source": [
        "# 1. Анализ актуальной статистики патентной активности в Российской Федерации\n",
        "## Аннотация\n",
        "В статье представлен анализ патентной активности в Российской Федерации за 2018-2022 года. Анализ выполнен на основе открытых данных, публикуемых Роспатентом. Целью настоящей работы являлось определение динамики патентной активности разными типами заявителей (государственные учреждения, образователные учреждения, коммерческие организации, физические лица), выявление лидеров в патентовании, выявление областей, в которых патенты наиболее эффективно используются. Анализ произведен только в отношении патентов на изобретения. Выявлено значительное снижение количества подаваемых патентов, как российскими, так и зарубежными заявителями; значительное количество не поддерживаемых в силе патентов; низкий уровень зарегистрированных распоряжений интеллектуальными правами."
      ],
      "metadata": {
        "id": "RIOEeWbv5vYR"
      }
    },
    {
      "cell_type": "markdown",
      "source": [],
      "metadata": {
        "id": "tCFlIT9B9YlH"
      }
    },
    {
      "cell_type": "markdown",
      "source": [
        "## Years dynamic"
      ],
      "metadata": {
        "id": "jWvUN9YmpUoe"
      }
    },
    {
      "cell_type": "code",
      "source": [
        "# function to add value labels\n",
        "def addlabels(x,y):\n",
        "    for i in range(len(x)):\n",
        "        plt.text(i, y[i]//2, y[i], ha = 'center')"
      ],
      "metadata": {
        "id": "OCvLSYgdAMfk"
      },
      "execution_count": null,
      "outputs": []
    },
    {
      "cell_type": "code",
      "source": [
        "year_total = []\n",
        "years = []\n",
        "for year in data_voc.keys():\n",
        "  years.append(year)\n",
        "  year_total.append(len(data_voc[year]['filing date']))\n",
        "print('подача заявок по годам', '\\n', pd.DataFrame(year_total, index=years, columns=['кол-во']))\n",
        "plt.bar(years, year_total, color='g')\n",
        "plt.xlabel('год')\n",
        "plt.ylabel('количество')\n",
        "plt.title('Динамика подачи заявок')\n",
        "addlabels(years, year_total)\n",
        "plt.show()\n",
        "\n",
        "app_per_year = year_total\n"
      ],
      "metadata": {
        "id": "LH_Dv1zu1mr8",
        "colab": {
          "base_uri": "https://localhost:8080/"
        },
        "outputId": "b2f8d6b5-b1fc-45a2-fc68-b780db4e6341"
      },
      "execution_count": null,
      "outputs": [
        {
          "output_type": "stream",
          "name": "stdout",
          "text": [
            "подача заявок по годам \n",
            "       кол-во\n",
            "2018   38018\n",
            "2019   35554\n",
            "2020   34958\n",
            "2021   30801\n",
            "2022   26791\n"
          ]
        },
        {
          "output_type": "display_data",
          "data": {
            "text/plain": [
              "<Figure size 640x480 with 1 Axes>"
            ],
            "image/png": "[encoded data removed]"
          },
          "metadata": {}
        }
      ]
    },
    {
      "cell_type": "markdown",
      "source": [
        "Мне стало интересно посмотреть динамику подачи не только по годам, но и по месяцам. Оказалось, что год от года наблюдается одна и та же картина: минимум в январе, волнообразный спад с марта по сентябрь и ударный рост с сентября по декабрь.\n",
        "Предполагаю, что в коротком явнваре люди отдыхают и отходят от ударного завершения года, до мая набирают темп подачи, в празничном мае снова отдыхают, еще два месяца изобретают, после чего следует ежегодный августо-сентябрьский провал (возможно, он объясняется отпусками), ну а пик подачи от года к году в декабре. Исходя из моего опыта работы в бюджетных учерждениях, скорее всего, во многом это они выполняют годовые планы по подаче заявок."
      ],
      "metadata": {
        "id": "5eHdb_pM-HUt"
      }
    },
    {
      "cell_type": "code",
      "execution_count": null,
      "metadata": {
        "id": "TNddd5qzPUlR",
        "colab": {
          "base_uri": "https://localhost:8080/"
        },
        "outputId": "727cda72-bf24-44c0-c729-cc6e5bdd8169"
      },
      "outputs": [
        {
          "output_type": "display_data",
          "data": {
            "text/plain": [
              "<Figure size 1000x500 with 1 Axes>"
            ],
            "image/png": "[encoded data removed]"
          },
          "metadata": {}
        }
      ],
      "source": [
        "\n",
        "each_year_month_dynamic = []\n",
        "for year in data_voc.keys():\n",
        "  moth_dynamic = []\n",
        "  filing_dates = []\n",
        "  for filing_date in data_voc[year]['filing date']:\n",
        "    if filing_date != 'no_data' and filing_date != '':\n",
        "      filing_dates.append(int(filing_date.split('.')[1]))\n",
        "\n",
        "  for month in range(1, 13):\n",
        "    moth_dynamic.append(filing_dates.count(month))\n",
        "  each_year_month_dynamic += [moth_dynamic]\n",
        "\n",
        "months_names = ['Jan', 'Feb', 'Mar', 'Apr', 'May', 'Jun', 'Jul', 'Aug', 'Sep', 'Oct', 'Nov', 'Dec']\n",
        "months_names = ['Янв', 'Фев', 'Мар', 'Апр', 'Май', 'Июн', 'Июл', 'Авг', 'Сен', 'Окт', 'Ноя', 'Дек']\n",
        "each_year_month_dynamic_df = pd.DataFrame(np.transpose(each_year_month_dynamic), columns=years)\n",
        "\n",
        "each_year_month_dynamic_df['months'] = months_names\n",
        "each_year_month_dynamic_df.plot(x='months', y = years, figsize=(10, 5), grid=True, yticks=[i*1000 for i in range(np.amax(each_year_month_dynamic)//1000+2)], title='Месячная динамика по годам', xlabel='месяц')\n",
        "plt.ylabel('количество')\n",
        "plt.show()\n",
        "\n"
      ]
    },
    {
      "cell_type": "code",
      "source": [],
      "metadata": {
        "id": "9q_4QCgLLvDU"
      },
      "execution_count": null,
      "outputs": []
    },
    {
      "cell_type": "markdown",
      "source": [
        "Посмотрим сколько российских правообладателей в общем числе выданных патентов.\n",
        "На рисунке 2 серый столбец показывает заявки, по которым нет данных, так как по ПМ публикуются только патенты, но не сами заявки, и только патенты содержат эти данные.\n",
        "Доля зарубежных правообладателей ничтожно мала и за 5 лет уменьшилась в 4 раза (примерно с 400 до примерно 100)."
      ],
      "metadata": {
        "id": "UrF5exdrGpfW"
      }
    },
    {
      "cell_type": "markdown",
      "source": [
        "## RU not RU"
      ],
      "metadata": {
        "id": "2LNrWRXMphFB"
      }
    },
    {
      "cell_type": "code",
      "source": [],
      "metadata": {
        "id": "TRzvQLB_taxH"
      },
      "execution_count": null,
      "outputs": []
    },
    {
      "cell_type": "code",
      "source": [
        "# количество RU и не RU заявителей\n",
        "\n",
        "app_ru = []\n",
        "app_not_ru = []\n",
        "app_no_country = []\n",
        "regex_country = r'(\\([A-Z]{2}\\))'\n",
        "\n",
        "for df in data_voc.values():\n",
        "  ru, not_ru, no_country = 0, 0, 0\n",
        "  for app in df['applicant']:\n",
        "    if 'RU' in app:\n",
        "      ru += 1\n",
        "    elif len(re.findall(regex_country, app)) != 0: # если нет двух заглавных букв в круглых скобках, то нет данных о стране заявителя\n",
        "      not_ru += 1\n",
        "    else:\n",
        "      no_country += 1\n",
        "  app_ru.append(ru)\n",
        "  app_not_ru.append(not_ru)\n",
        "  app_no_country.append(no_country)\n",
        "columns = ['РФ', 'Зарубеж', 'нет данных']\n",
        "applicants_df = pd.DataFrame(np.transpose([app_ru, app_not_ru, app_no_country]), columns=columns)\n",
        "applicants_df['год'] = years\n",
        "ax = applicants_df.plot(x='год', y=columns, kind='bar', stacked=True, title='Динамика подачи заявок российскими и зарубежными заявителями', color=['green', 'red', 'grey'], figsize=(10, 6), xlabel='\\nгод', table=False)\n",
        "#ax = applicants_df.plot(x='год', y=columns, kind='bar', stacked=True, title='Динамика подачи RU-(не RU) заявителями', color=['green', 'red', 'grey'], figsize=(10, 6), xlabel='\\nгод', table=False)\n",
        "\n",
        "for i in range(len(years)):\n",
        "  total = 0\n",
        "  for value in columns:\n",
        "    plt.text(i, applicants_df[value].loc[i]*0.5 + total, applicants_df[value].loc[i], ha = 'center')\n",
        "    total += applicants_df[value].loc[i]\n",
        "plt.show()\n",
        "\n"
      ],
      "metadata": {
        "id": "gXF7j51OHa6-",
        "colab": {
          "base_uri": "https://localhost:8080/",
          "height": 602
        },
        "outputId": "e3dbd57e-5125-419f-b488-56f2eb8aedbd"
      },
      "execution_count": null,
      "outputs": [
        {
          "output_type": "display_data",
          "data": {
            "text/plain": [
              "<Figure size 1000x600 with 1 Axes>"
            ],
            "image/png": "[encoded data removed]"
          },
          "metadata": {}
        }
      ]
    },
    {
      "cell_type": "code",
      "source": [
        "applicants_df[['РФ', 'Зарубеж']].to_numpy()"
      ],
      "metadata": {
        "id": "wxLxF6oCY3Gs",
        "colab": {
          "base_uri": "https://localhost:8080/"
        },
        "outputId": "b704f7a3-7f46-4be7-90f8-07efdedb9907"
      },
      "execution_count": null,
      "outputs": [
        {
          "output_type": "execute_result",
          "data": {
            "text/plain": [
              "array([[20872, 12574],\n",
              "       [21428, 11748],\n",
              "       [21690, 10742],\n",
              "       [17403, 10387],\n",
              "       [13789,  3465]])"
            ]
          },
          "metadata": {},
          "execution_count": 155
        }
      ]
    },
    {
      "cell_type": "code",
      "source": [],
      "metadata": {
        "id": "crI51ukWZLGh"
      },
      "execution_count": null,
      "outputs": []
    },
    {
      "cell_type": "code",
      "source": [
        "# количество RU и не RU патентообладателей\n",
        "need_to_reparse = []\n",
        "app_ru = []\n",
        "app_not_ru = []\n",
        "app_no_country = []\n",
        "regex_country = r'(\\([A-Z]{2}\\))'\n",
        "\n",
        "for df in data_voc.values():\n",
        "  #print(df)\n",
        "  ru, not_ru, no_country = 0, 0, 0\n",
        "  counter = 0\n",
        "  for app in df[df['patent number'] != 'no_data'].values:\n",
        "    #print(app[8])\n",
        "    #break\n",
        "    if 'RU' in app[8]:\n",
        "      ru += 1\n",
        "    elif len(re.findall(regex_country, app[8])) != 0: # нахожу не(RU), если нет двух заглавных букв в круглых скобках, то нет данных о стране заявителя\n",
        "      not_ru += 1\n",
        "    else:\n",
        "      no_country += 1\n",
        "      #print(app)\n",
        "      need_to_reparse.append(app)\n",
        "    counter += 1\n",
        "  print('=====================================')\n",
        "  #break\n",
        "  app_ru.append(ru)\n",
        "  app_not_ru.append(not_ru)\n",
        "  app_no_country.append(no_country)\n",
        "columns = ['РФ', 'Зарубеж', 'нет данных']\n",
        "patents_df = pd.DataFrame(np.transpose([app_ru, app_not_ru, app_no_country]), columns=columns)\n",
        "patents_df['год'] = years\n",
        "persent_patent_application = patents_df[['РФ', 'Зарубеж']].to_numpy()/applicants_df[['РФ', 'Зарубеж']].to_numpy()*100\n",
        "persent_patent_application_df = pd.DataFrame(persent_patent_application, columns=['РФ', 'Зарубеж'])\n",
        "\n",
        "ax = patents_df.plot(x='год', y=columns[:2], kind='bar', stacked=True, title='Динамика получения патентов российскими и зарубежными заявителями', color=['green', 'red', 'grey'], figsize=(12, 6), xlabel='\\nгод', table=False)\n",
        "#ax = applicants_df.plot(x='год', y=columns, kind='bar', stacked=True, title='Динамика подачи RU-(не RU) заявителями', color=['green', 'red', 'grey'], figsize=(10, 6), xlabel='\\nгод', table=False)\n",
        "\n",
        "persent_df = pd.DataFrame(patents_df[['РФ', 'Зарубеж', 'нет данных']].to_numpy()/applicants_df[['РФ', 'Зарубеж', 'нет данных']].to_numpy(), columns=['РФ', 'Зарубеж', 'нет данных'])\n",
        "persent_df['years'] = years\n",
        "print(persent_df)\n",
        "\n",
        "for i in range(len(years)):\n",
        "  total = 0\n",
        "  for value in columns[:2]:\n",
        "    plt.text(i, patents_df[value].loc[i]*0.5 + total, patents_df[value].loc[i], ha = 'right')\n",
        "    plt.text(i, patents_df[value].loc[i]*0.5 - 0 + total, ' (' + str(int(float(persent_patent_application_df[value].loc[i])))+\"%)\", ha = 'left')\n",
        "    total += patents_df[value].loc[i]\n",
        "plt.show()"
      ],
      "metadata": {
        "id": "w4nY0jwjKxaL",
        "colab": {
          "base_uri": "https://localhost:8080/",
          "height": 793
        },
        "outputId": "02c093f3-f2c8-4b9f-e43d-36ad728a1055"
      },
      "execution_count": null,
      "outputs": [
        {
          "output_type": "stream",
          "name": "stdout",
          "text": [
            "=====================================\n",
            "=====================================\n",
            "=====================================\n",
            "=====================================\n",
            "=====================================\n",
            "         РФ   Зарубеж  нет данных years\n",
            "0  0.772901  0.804756    0.000656  2018\n",
            "1  0.774687  0.784304    0.002103  2019\n",
            "2  0.719087  0.702756    0.001188  2020\n",
            "3  0.866230  0.486377    0.000996  2021\n",
            "4  0.945174  0.512266    0.000419  2022\n"
          ]
        },
        {
          "output_type": "display_data",
          "data": {
            "text/plain": [
              "<Figure size 1200x600 with 1 Axes>"
            ],
            "image/png": "[encoded data removed]"
          },
          "metadata": {}
        }
      ]
    },
    {
      "cell_type": "code",
      "source": [
        "persent_df"
      ],
      "metadata": {
        "id": "zB2L5Kt3siqH",
        "colab": {
          "base_uri": "https://localhost:8080/",
          "height": 206
        },
        "outputId": "e4b7874d-e992-46a1-f402-a62fc1007894"
      },
      "execution_count": null,
      "outputs": [
        {
          "output_type": "execute_result",
          "data": {
            "text/plain": [
              "         РФ   Зарубеж  нет данных years\n",
              "0  0.772901  0.804756    0.000656  2018\n",
              "1  0.774687  0.784304    0.002103  2019\n",
              "2  0.719087  0.702756    0.001188  2020\n",
              "3  0.866230  0.486377    0.000996  2021\n",
              "4  0.945174  0.512266    0.000419  2022"
            ],
            "text/html": [
              "\n",
              "  <div id=\"df-8e02390e-788e-461b-9f30-e9a7968c42f6\" class=\"colab-df-container\">\n",
              "    <div>\n",
              "<style scoped>\n",
              "    .dataframe tbody tr th:only-of-type {\n",
              "        vertical-align: middle;\n",
              "    }\n",
              "\n",
              "    .dataframe tbody tr th {\n",
              "        vertical-align: top;\n",
              "    }\n",
              "\n",
              "    .dataframe thead th {\n",
              "        text-align: right;\n",
              "    }\n",
              "</style>\n",
              "<table border=\"1\" class=\"dataframe\">\n",
              "  <thead>\n",
              "    <tr style=\"text-align: right;\">\n",
              "      <th></th>\n",
              "      <th>РФ</th>\n",
              "      <th>Зарубеж</th>\n",
              "      <th>нет данных</th>\n",
              "      <th>years</th>\n",
              "    </tr>\n",
              "  </thead>\n",
              "  <tbody>\n",
              "    <tr>\n",
              "      <th>0</th>\n",
              "      <td>0.772901</td>\n",
              "      <td>0.804756</td>\n",
              "      <td>0.000656</td>\n",
              "      <td>2018</td>\n",
              "    </tr>\n",
              "    <tr>\n",
              "      <th>1</th>\n",
              "      <td>0.774687</td>\n",
              "      <td>0.784304</td>\n",
              "      <td>0.002103</td>\n",
              "      <td>2019</td>\n",
              "    </tr>\n",
              "    <tr>\n",
              "      <th>2</th>\n",
              "      <td>0.719087</td>\n",
              "      <td>0.702756</td>\n",
              "      <td>0.001188</td>\n",
              "      <td>2020</td>\n",
              "    </tr>\n",
              "    <tr>\n",
              "      <th>3</th>\n",
              "      <td>0.866230</td>\n",
              "      <td>0.486377</td>\n",
              "      <td>0.000996</td>\n",
              "      <td>2021</td>\n",
              "    </tr>\n",
              "    <tr>\n",
              "      <th>4</th>\n",
              "      <td>0.945174</td>\n",
              "      <td>0.512266</td>\n",
              "      <td>0.000419</td>\n",
              "      <td>2022</td>\n",
              "    </tr>\n",
              "  </tbody>\n",
              "</table>\n",
              "</div>\n",
              "    <div class=\"colab-df-buttons\">\n",
              "\n",
              "  <div class=\"colab-df-container\">\n",
              "    <button class=\"colab-df-convert\" onclick=\"convertToInteractive('df-8e02390e-788e-461b-9f30-e9a7968c42f6')\"\n",
              "            title=\"Convert this dataframe to an interactive table.\"\n",
              "            style=\"display:none;\">\n",
              "\n",
              "  <svg xmlns=\"http://www.w3.org/2000/svg\" height=\"24px\" viewBox=\"0 -960 960 960\">\n",
              "    <path d=\"M120-120v-720h720v720H120Zm60-500h600v-160H180v160Zm220 220h160v-160H400v160Zm0 220h160v-160H400v160ZM180-400h160v-160H180v160Zm440 0h160v-160H620v160ZM180-180h160v-160H180v160Zm440 0h160v-160H620v160Z\"/>\n",
              "  </svg>\n",
              "    </button>\n",
              "\n",
              "  <style>\n",
              "    .colab-df-container {\n",
              "      display:flex;\n",
              "      gap: 12px;\n",
              "    }\n",
              "\n",
              "    .colab-df-convert {\n",
              "      background-color: #E8F0FE;\n",
              "      border: none;\n",
              "      border-radius: 50%;\n",
              "      cursor: pointer;\n",
              "      display: none;\n",
              "      fill: #1967D2;\n",
              "      height: 32px;\n",
              "      padding: 0 0 0 0;\n",
              "      width: 32px;\n",
              "    }\n",
              "\n",
              "    .colab-df-convert:hover {\n",
              "      background-color: #E2EBFA;\n",
              "      box-shadow: 0px 1px 2px rgba(60, 64, 67, 0.3), 0px 1px 3px 1px rgba(60, 64, 67, 0.15);\n",
              "      fill: #174EA6;\n",
              "    }\n",
              "\n",
              "    .colab-df-buttons div {\n",
              "      margin-bottom: 4px;\n",
              "    }\n",
              "\n",
              "    [theme=dark] .colab-df-convert {\n",
              "      background-color: #3B4455;\n",
              "      fill: #D2E3FC;\n",
              "    }\n",
              "\n",
              "    [theme=dark] .colab-df-convert:hover {\n",
              "      background-color: #434B5C;\n",
              "      box-shadow: 0px 1px 3px 1px rgba(0, 0, 0, 0.15);\n",
              "      filter: drop-shadow(0px 1px 2px rgba(0, 0, 0, 0.3));\n",
              "      fill: #FFFFFF;\n",
              "    }\n",
              "  </style>\n",
              "\n",
              "    <script>\n",
              "      const buttonEl =\n",
              "        document.querySelector('#df-8e02390e-788e-461b-9f30-e9a7968c42f6 button.colab-df-convert');\n",
              "      buttonEl.style.display =\n",
              "        google.colab.kernel.accessAllowed ? 'block' : 'none';\n",
              "\n",
              "      async function convertToInteractive(key) {\n",
              "        const element = document.querySelector('#df-8e02390e-788e-461b-9f30-e9a7968c42f6');\n",
              "        const dataTable =\n",
              "          await google.colab.kernel.invokeFunction('convertToInteractive',\n",
              "                                                    [key], {});\n",
              "        if (!dataTable) return;\n",
              "\n",
              "        const docLinkHtml = 'Like what you see? Visit the ' +\n",
              "          '<a target=\"_blank\" href=https://colab.research.google.com/notebooks/data_table.ipynb>data table notebook</a>'\n",
              "          + ' to learn more about interactive tables.';\n",
              "        element.innerHTML = '';\n",
              "        dataTable['output_type'] = 'display_data';\n",
              "        await google.colab.output.renderOutput(dataTable, element);\n",
              "        const docLink = document.createElement('div');\n",
              "        docLink.innerHTML = docLinkHtml;\n",
              "        element.appendChild(docLink);\n",
              "      }\n",
              "    </script>\n",
              "  </div>\n",
              "\n",
              "\n",
              "<div id=\"df-67404f83-b745-4db7-a761-e672f2990676\">\n",
              "  <button class=\"colab-df-quickchart\" onclick=\"quickchart('df-67404f83-b745-4db7-a761-e672f2990676')\"\n",
              "            title=\"Suggest charts\"\n",
              "            style=\"display:none;\">\n",
              "\n",
              "<svg xmlns=\"http://www.w3.org/2000/svg\" height=\"24px\"viewBox=\"0 0 24 24\"\n",
              "     width=\"24px\">\n",
              "    <g>\n",
              "        <path d=\"M19 3H5c-1.1 0-2 .9-2 2v14c0 1.1.9 2 2 2h14c1.1 0 2-.9 2-2V5c0-1.1-.9-2-2-2zM9 17H7v-7h2v7zm4 0h-2V7h2v10zm4 0h-2v-4h2v4z\"/>\n",
              "    </g>\n",
              "</svg>\n",
              "  </button>\n",
              "\n",
              "<style>\n",
              "  .colab-df-quickchart {\n",
              "      --bg-color: #E8F0FE;\n",
              "      --fill-color: #1967D2;\n",
              "      --hover-bg-color: #E2EBFA;\n",
              "      --hover-fill-color: #174EA6;\n",
              "      --disabled-fill-color: #AAA;\n",
              "      --disabled-bg-color: #DDD;\n",
              "  }\n",
              "\n",
              "  [theme=dark] .colab-df-quickchart {\n",
              "      --bg-color: #3B4455;\n",
              "      --fill-color: #D2E3FC;\n",
              "      --hover-bg-color: #434B5C;\n",
              "      --hover-fill-color: #FFFFFF;\n",
              "      --disabled-bg-color: #3B4455;\n",
              "      --disabled-fill-color: #666;\n",
              "  }\n",
              "\n",
              "  .colab-df-quickchart {\n",
              "    background-color: var(--bg-color);\n",
              "    border: none;\n",
              "    border-radius: 50%;\n",
              "    cursor: pointer;\n",
              "    display: none;\n",
              "    fill: var(--fill-color);\n",
              "    height: 32px;\n",
              "    padding: 0;\n",
              "    width: 32px;\n",
              "  }\n",
              "\n",
              "  .colab-df-quickchart:hover {\n",
              "    background-color: var(--hover-bg-color);\n",
              "    box-shadow: 0 1px 2px rgba(60, 64, 67, 0.3), 0 1px 3px 1px rgba(60, 64, 67, 0.15);\n",
              "    fill: var(--button-hover-fill-color);\n",
              "  }\n",
              "\n",
              "  .colab-df-quickchart-complete:disabled,\n",
              "  .colab-df-quickchart-complete:disabled:hover {\n",
              "    background-color: var(--disabled-bg-color);\n",
              "    fill: var(--disabled-fill-color);\n",
              "    box-shadow: none;\n",
              "  }\n",
              "\n",
              "  .colab-df-spinner {\n",
              "    border: 2px solid var(--fill-color);\n",
              "    border-color: transparent;\n",
              "    border-bottom-color: var(--fill-color);\n",
              "    animation:\n",
              "      spin 1s steps(1) infinite;\n",
              "  }\n",
              "\n",
              "  @keyframes spin {\n",
              "    0% {\n",
              "      border-color: transparent;\n",
              "      border-bottom-color: var(--fill-color);\n",
              "      border-left-color: var(--fill-color);\n",
              "    }\n",
              "    20% {\n",
              "      border-color: transparent;\n",
              "      border-left-color: var(--fill-color);\n",
              "      border-top-color: var(--fill-color);\n",
              "    }\n",
              "    30% {\n",
              "      border-color: transparent;\n",
              "      border-left-color: var(--fill-color);\n",
              "      border-top-color: var(--fill-color);\n",
              "      border-right-color: var(--fill-color);\n",
              "    }\n",
              "    40% {\n",
              "      border-color: transparent;\n",
              "      border-right-color: var(--fill-color);\n",
              "      border-top-color: var(--fill-color);\n",
              "    }\n",
              "    60% {\n",
              "      border-color: transparent;\n",
              "      border-right-color: var(--fill-color);\n",
              "    }\n",
              "    80% {\n",
              "      border-color: transparent;\n",
              "      border-right-color: var(--fill-color);\n",
              "      border-bottom-color: var(--fill-color);\n",
              "    }\n",
              "    90% {\n",
              "      border-color: transparent;\n",
              "      border-bottom-color: var(--fill-color);\n",
              "    }\n",
              "  }\n",
              "</style>\n",
              "\n",
              "  <script>\n",
              "    async function quickchart(key) {\n",
              "      const quickchartButtonEl =\n",
              "        document.querySelector('#' + key + ' button');\n",
              "      quickchartButtonEl.disabled = true;  // To prevent multiple clicks.\n",
              "      quickchartButtonEl.classList.add('colab-df-spinner');\n",
              "      try {\n",
              "        const charts = await google.colab.kernel.invokeFunction(\n",
              "            'suggestCharts', [key], {});\n",
              "      } catch (error) {\n",
              "        console.error('Error during call to suggestCharts:', error);\n",
              "      }\n",
              "      quickchartButtonEl.classList.remove('colab-df-spinner');\n",
              "      quickchartButtonEl.classList.add('colab-df-quickchart-complete');\n",
              "    }\n",
              "    (() => {\n",
              "      let quickchartButtonEl =\n",
              "        document.querySelector('#df-67404f83-b745-4db7-a761-e672f2990676 button');\n",
              "      quickchartButtonEl.style.display =\n",
              "        google.colab.kernel.accessAllowed ? 'block' : 'none';\n",
              "    })();\n",
              "  </script>\n",
              "</div>\n",
              "    </div>\n",
              "  </div>\n"
            ]
          },
          "metadata": {},
          "execution_count": 157
        }
      ]
    },
    {
      "cell_type": "code",
      "source": [
        "pd.DataFrame(need_to_reparse, columns=data_voc['2018'].columns).to_csv('reparse.csv')"
      ],
      "metadata": {
        "id": "0JuTLYVaE6Kk"
      },
      "execution_count": null,
      "outputs": []
    },
    {
      "cell_type": "code",
      "source": [],
      "metadata": {
        "id": "3UjjX1li6eRo"
      },
      "execution_count": null,
      "outputs": []
    },
    {
      "cell_type": "markdown",
      "source": [
        "## Рассмотрим типы заявителей\n",
        "Из рисунка видно, что лидерами по получению патентов являются коммерческ. и образовательные организации, далее с небольшим отставанием следуют физлица, доля госучреждений несоизмеримо меньше.\n",
        "Из интересного:\n",
        "1. Доля заявок по которым не был выдан патент на ПМ растет, пик приходится на 2021 год. С учетом того, что делопроизводство по ПМ достаточно быстрое, то данные могут быть неполными только для заявок второй половины 2022 года.\n",
        "2. Хуже всех динамика получения патентов у физлиц.\n"
      ],
      "metadata": {
        "id": "URa-vd2IUcET"
      }
    },
    {
      "cell_type": "code",
      "source": [
        "# оставляю только RU заявителей\n",
        "data_voc_ru = {}\n",
        "ru_applicants = []\n",
        "for year in data_voc.keys():\n",
        "  print(year)\n",
        "  print(len(data_voc[year]))\n",
        "  data_voc_ru[year] = data_voc[year][data_voc[year]['applicant'].str.contains('RU')]\n",
        "  print(len(data_voc_ru[year]))\n",
        "  print()\n",
        "  ru_applicants.append(len(data_voc_ru[year]))"
      ],
      "metadata": {
        "id": "O2qh8pDlUO7w",
        "colab": {
          "base_uri": "https://localhost:8080/"
        },
        "outputId": "f067aa79-cb3b-4f35-c815-204e8a69809b"
      },
      "execution_count": null,
      "outputs": [
        {
          "output_type": "stream",
          "name": "stdout",
          "text": [
            "2018\n",
            "38018\n",
            "20872\n",
            "\n",
            "2019\n",
            "35554\n",
            "21428\n",
            "\n",
            "2020\n",
            "34958\n",
            "21690\n",
            "\n",
            "2021\n",
            "30801\n",
            "17403\n",
            "\n",
            "2022\n",
            "26791\n",
            "13789\n",
            "\n"
          ]
        }
      ]
    },
    {
      "cell_type": "code",
      "source": [
        "ru_applicants = [ru_applicants for i in range(4)]\n",
        "pd.DataFrame(ru_applicants).transpose()"
      ],
      "metadata": {
        "id": "n-igTefa3gc4",
        "colab": {
          "base_uri": "https://localhost:8080/"
        },
        "outputId": "9332be2a-a560-4ced-c55d-4dd05f0cd54b"
      },
      "execution_count": null,
      "outputs": [
        {
          "output_type": "execute_result",
          "data": {
            "text/plain": [
              "       0      1      2      3\n",
              "0  20872  20872  20872  20872\n",
              "1  21428  21428  21428  21428\n",
              "2  21690  21690  21690  21690\n",
              "3  17403  17403  17403  17403\n",
              "4  13789  13789  13789  13789"
            ],
            "text/html": [
              "\n",
              "  <div id=\"df-6d308669-77e0-477e-a4f2-2db54c62c6a1\" class=\"colab-df-container\">\n",
              "    <div>\n",
              "<style scoped>\n",
              "    .dataframe tbody tr th:only-of-type {\n",
              "        vertical-align: middle;\n",
              "    }\n",
              "\n",
              "    .dataframe tbody tr th {\n",
              "        vertical-align: top;\n",
              "    }\n",
              "\n",
              "    .dataframe thead th {\n",
              "        text-align: right;\n",
              "    }\n",
              "</style>\n",
              "<table border=\"1\" class=\"dataframe\">\n",
              "  <thead>\n",
              "    <tr style=\"text-align: right;\">\n",
              "      <th></th>\n",
              "      <th>0</th>\n",
              "      <th>1</th>\n",
              "      <th>2</th>\n",
              "      <th>3</th>\n",
              "    </tr>\n",
              "  </thead>\n",
              "  <tbody>\n",
              "    <tr>\n",
              "      <th>0</th>\n",
              "      <td>20872</td>\n",
              "      <td>20872</td>\n",
              "      <td>20872</td>\n",
              "      <td>20872</td>\n",
              "    </tr>\n",
              "    <tr>\n",
              "      <th>1</th>\n",
              "      <td>21428</td>\n",
              "      <td>21428</td>\n",
              "      <td>21428</td>\n",
              "      <td>21428</td>\n",
              "    </tr>\n",
              "    <tr>\n",
              "      <th>2</th>\n",
              "      <td>21690</td>\n",
              "      <td>21690</td>\n",
              "      <td>21690</td>\n",
              "      <td>21690</td>\n",
              "    </tr>\n",
              "    <tr>\n",
              "      <th>3</th>\n",
              "      <td>17403</td>\n",
              "      <td>17403</td>\n",
              "      <td>17403</td>\n",
              "      <td>17403</td>\n",
              "    </tr>\n",
              "    <tr>\n",
              "      <th>4</th>\n",
              "      <td>13789</td>\n",
              "      <td>13789</td>\n",
              "      <td>13789</td>\n",
              "      <td>13789</td>\n",
              "    </tr>\n",
              "  </tbody>\n",
              "</table>\n",
              "</div>\n",
              "    <div class=\"colab-df-buttons\">\n",
              "\n",
              "  <div class=\"colab-df-container\">\n",
              "    <button class=\"colab-df-convert\" onclick=\"convertToInteractive('df-6d308669-77e0-477e-a4f2-2db54c62c6a1')\"\n",
              "            title=\"Convert this dataframe to an interactive table.\"\n",
              "            style=\"display:none;\">\n",
              "\n",
              "  <svg xmlns=\"http://www.w3.org/2000/svg\" height=\"24px\" viewBox=\"0 -960 960 960\">\n",
              "    <path d=\"M120-120v-720h720v720H120Zm60-500h600v-160H180v160Zm220 220h160v-160H400v160Zm0 220h160v-160H400v160ZM180-400h160v-160H180v160Zm440 0h160v-160H620v160ZM180-180h160v-160H180v160Zm440 0h160v-160H620v160Z\"/>\n",
              "  </svg>\n",
              "    </button>\n",
              "\n",
              "  <style>\n",
              "    .colab-df-container {\n",
              "      display:flex;\n",
              "      gap: 12px;\n",
              "    }\n",
              "\n",
              "    .colab-df-convert {\n",
              "      background-color: #E8F0FE;\n",
              "      border: none;\n",
              "      border-radius: 50%;\n",
              "      cursor: pointer;\n",
              "      display: none;\n",
              "      fill: #1967D2;\n",
              "      height: 32px;\n",
              "      padding: 0 0 0 0;\n",
              "      width: 32px;\n",
              "    }\n",
              "\n",
              "    .colab-df-convert:hover {\n",
              "      background-color: #E2EBFA;\n",
              "      box-shadow: 0px 1px 2px rgba(60, 64, 67, 0.3), 0px 1px 3px 1px rgba(60, 64, 67, 0.15);\n",
              "      fill: #174EA6;\n",
              "    }\n",
              "\n",
              "    .colab-df-buttons div {\n",
              "      margin-bottom: 4px;\n",
              "    }\n",
              "\n",
              "    [theme=dark] .colab-df-convert {\n",
              "      background-color: #3B4455;\n",
              "      fill: #D2E3FC;\n",
              "    }\n",
              "\n",
              "    [theme=dark] .colab-df-convert:hover {\n",
              "      background-color: #434B5C;\n",
              "      box-shadow: 0px 1px 3px 1px rgba(0, 0, 0, 0.15);\n",
              "      filter: drop-shadow(0px 1px 2px rgba(0, 0, 0, 0.3));\n",
              "      fill: #FFFFFF;\n",
              "    }\n",
              "  </style>\n",
              "\n",
              "    <script>\n",
              "      const buttonEl =\n",
              "        document.querySelector('#df-6d308669-77e0-477e-a4f2-2db54c62c6a1 button.colab-df-convert');\n",
              "      buttonEl.style.display =\n",
              "        google.colab.kernel.accessAllowed ? 'block' : 'none';\n",
              "\n",
              "      async function convertToInteractive(key) {\n",
              "        const element = document.querySelector('#df-6d308669-77e0-477e-a4f2-2db54c62c6a1');\n",
              "        const dataTable =\n",
              "          await google.colab.kernel.invokeFunction('convertToInteractive',\n",
              "                                                    [key], {});\n",
              "        if (!dataTable) return;\n",
              "\n",
              "        const docLinkHtml = 'Like what you see? Visit the ' +\n",
              "          '<a target=\"_blank\" href=https://colab.research.google.com/notebooks/data_table.ipynb>data table notebook</a>'\n",
              "          + ' to learn more about interactive tables.';\n",
              "        element.innerHTML = '';\n",
              "        dataTable['output_type'] = 'display_data';\n",
              "        await google.colab.output.renderOutput(dataTable, element);\n",
              "        const docLink = document.createElement('div');\n",
              "        docLink.innerHTML = docLinkHtml;\n",
              "        element.appendChild(docLink);\n",
              "      }\n",
              "    </script>\n",
              "  </div>\n",
              "\n",
              "\n",
              "<div id=\"df-739458c1-b420-49b7-a642-ffb2f9aaee3b\">\n",
              "  <button class=\"colab-df-quickchart\" onclick=\"quickchart('df-739458c1-b420-49b7-a642-ffb2f9aaee3b')\"\n",
              "            title=\"Suggest charts\"\n",
              "            style=\"display:none;\">\n",
              "\n",
              "<svg xmlns=\"http://www.w3.org/2000/svg\" height=\"24px\"viewBox=\"0 0 24 24\"\n",
              "     width=\"24px\">\n",
              "    <g>\n",
              "        <path d=\"M19 3H5c-1.1 0-2 .9-2 2v14c0 1.1.9 2 2 2h14c1.1 0 2-.9 2-2V5c0-1.1-.9-2-2-2zM9 17H7v-7h2v7zm4 0h-2V7h2v10zm4 0h-2v-4h2v4z\"/>\n",
              "    </g>\n",
              "</svg>\n",
              "  </button>\n",
              "\n",
              "<style>\n",
              "  .colab-df-quickchart {\n",
              "      --bg-color: #E8F0FE;\n",
              "      --fill-color: #1967D2;\n",
              "      --hover-bg-color: #E2EBFA;\n",
              "      --hover-fill-color: #174EA6;\n",
              "      --disabled-fill-color: #AAA;\n",
              "      --disabled-bg-color: #DDD;\n",
              "  }\n",
              "\n",
              "  [theme=dark] .colab-df-quickchart {\n",
              "      --bg-color: #3B4455;\n",
              "      --fill-color: #D2E3FC;\n",
              "      --hover-bg-color: #434B5C;\n",
              "      --hover-fill-color: #FFFFFF;\n",
              "      --disabled-bg-color: #3B4455;\n",
              "      --disabled-fill-color: #666;\n",
              "  }\n",
              "\n",
              "  .colab-df-quickchart {\n",
              "    background-color: var(--bg-color);\n",
              "    border: none;\n",
              "    border-radius: 50%;\n",
              "    cursor: pointer;\n",
              "    display: none;\n",
              "    fill: var(--fill-color);\n",
              "    height: 32px;\n",
              "    padding: 0;\n",
              "    width: 32px;\n",
              "  }\n",
              "\n",
              "  .colab-df-quickchart:hover {\n",
              "    background-color: var(--hover-bg-color);\n",
              "    box-shadow: 0 1px 2px rgba(60, 64, 67, 0.3), 0 1px 3px 1px rgba(60, 64, 67, 0.15);\n",
              "    fill: var(--button-hover-fill-color);\n",
              "  }\n",
              "\n",
              "  .colab-df-quickchart-complete:disabled,\n",
              "  .colab-df-quickchart-complete:disabled:hover {\n",
              "    background-color: var(--disabled-bg-color);\n",
              "    fill: var(--disabled-fill-color);\n",
              "    box-shadow: none;\n",
              "  }\n",
              "\n",
              "  .colab-df-spinner {\n",
              "    border: 2px solid var(--fill-color);\n",
              "    border-color: transparent;\n",
              "    border-bottom-color: var(--fill-color);\n",
              "    animation:\n",
              "      spin 1s steps(1) infinite;\n",
              "  }\n",
              "\n",
              "  @keyframes spin {\n",
              "    0% {\n",
              "      border-color: transparent;\n",
              "      border-bottom-color: var(--fill-color);\n",
              "      border-left-color: var(--fill-color);\n",
              "    }\n",
              "    20% {\n",
              "      border-color: transparent;\n",
              "      border-left-color: var(--fill-color);\n",
              "      border-top-color: var(--fill-color);\n",
              "    }\n",
              "    30% {\n",
              "      border-color: transparent;\n",
              "      border-left-color: var(--fill-color);\n",
              "      border-top-color: var(--fill-color);\n",
              "      border-right-color: var(--fill-color);\n",
              "    }\n",
              "    40% {\n",
              "      border-color: transparent;\n",
              "      border-right-color: var(--fill-color);\n",
              "      border-top-color: var(--fill-color);\n",
              "    }\n",
              "    60% {\n",
              "      border-color: transparent;\n",
              "      border-right-color: var(--fill-color);\n",
              "    }\n",
              "    80% {\n",
              "      border-color: transparent;\n",
              "      border-right-color: var(--fill-color);\n",
              "      border-bottom-color: var(--fill-color);\n",
              "    }\n",
              "    90% {\n",
              "      border-color: transparent;\n",
              "      border-bottom-color: var(--fill-color);\n",
              "    }\n",
              "  }\n",
              "</style>\n",
              "\n",
              "  <script>\n",
              "    async function quickchart(key) {\n",
              "      const quickchartButtonEl =\n",
              "        document.querySelector('#' + key + ' button');\n",
              "      quickchartButtonEl.disabled = true;  // To prevent multiple clicks.\n",
              "      quickchartButtonEl.classList.add('colab-df-spinner');\n",
              "      try {\n",
              "        const charts = await google.colab.kernel.invokeFunction(\n",
              "            'suggestCharts', [key], {});\n",
              "      } catch (error) {\n",
              "        console.error('Error during call to suggestCharts:', error);\n",
              "      }\n",
              "      quickchartButtonEl.classList.remove('colab-df-spinner');\n",
              "      quickchartButtonEl.classList.add('colab-df-quickchart-complete');\n",
              "    }\n",
              "    (() => {\n",
              "      let quickchartButtonEl =\n",
              "        document.querySelector('#df-739458c1-b420-49b7-a642-ffb2f9aaee3b button');\n",
              "      quickchartButtonEl.style.display =\n",
              "        google.colab.kernel.accessAllowed ? 'block' : 'none';\n",
              "    })();\n",
              "  </script>\n",
              "</div>\n",
              "    </div>\n",
              "  </div>\n"
            ]
          },
          "metadata": {},
          "execution_count": 160
        }
      ]
    },
    {
      "cell_type": "code",
      "source": [
        "# типы заявителей\n",
        "types = ['no_data', 'education', 'government', 'legal', 'individual']\n",
        "types = ['нет данных', 'образование и наука', 'государство', 'коммерческ.', 'физлица']\n",
        "app_types_data = []\n",
        "for year in data_voc_ru.keys():\n",
        "  print(year)\n",
        "  year_data = app_categories((data_voc_ru[year]['applicant'].values[:]), (data_voc_ru[year]['authors'].values[:]))\n",
        "  print('данные по категориям', year_data[0])\n",
        "  print('количество авторов=заявителей', year_data[2])\n",
        "  print(len( data_voc_ru[year]['application number']), len(year_data[1]))\n",
        "  #data_voc_ru[year].loc[:, \"applicant type\"] = year_data[1]\n",
        "  try:\n",
        "    data_voc_ru[year].insert(0, \"applicant type\", year_data[1])\n",
        "  except:\n",
        "    print('already exist')\n",
        "  app_types_data.append(year_data[0])\n",
        "app_types_df = pd.DataFrame(app_types_data, columns=types)\n",
        "app_types_df['years'] = years\n",
        "try:\n",
        "  app_types_df.drop(['нет данных'], axis=1, inplace=True)\n",
        "except:\n",
        "  nothing = 1\n",
        "\n",
        "persent_app_to_total_app = app_types_df[['образование и наука',\t'государство',\t'коммерческ.',\t'физлица'\t]].to_numpy()/pd.DataFrame(ru_applicants).transpose().to_numpy()*100\n",
        "persent_app_to_total_app_df = pd.DataFrame(persent_app_to_total_app, columns=['образование и наука',\t'государство',\t'коммерческ.',\t'физлица'\t])\n",
        "\n",
        "app_types_df.plot(x='years', y=types[1:], kind='bar', figsize=(12, 6), xlabel='год', ylabel='количество', title='Динамика подачи заявок разными типами российских заявителей', color = ['grey', 'red', 'green', 'yellow'], stacked=True)\n",
        "print(app_types_df)\n",
        "for i in range(len(years)):\n",
        "  total = 0\n",
        "  for value in types[1:]:\n",
        "    plt.text(i, app_types_df[value].loc[i]*0.5 + total, app_types_df[value].loc[i], ha = 'right')\n",
        "    plt.text(i, app_types_df[value].loc[i]*0.5 + total, ' ('+str(round(persent_app_to_total_app_df[value].loc[i], 1))+'%)   ', ha = 'left')\n",
        "    total += app_types_df[value].loc[i]\n",
        "plt.show()\n"
      ],
      "metadata": {
        "id": "Lbv6QDTwYccx",
        "colab": {
          "base_uri": "https://localhost:8080/"
        },
        "outputId": "a33ab39c-d870-45d3-8f31-26e511609c27"
      },
      "execution_count": null,
      "outputs": [
        {
          "output_type": "stream",
          "name": "stdout",
          "text": [
            "2018\n",
            "total documents 20872\n",
            "данные по категориям [0, 7478, 559, 5180, 7655]\n",
            "количество авторов=заявителей 6677\n",
            "20872 20872\n",
            "2019\n",
            "total documents 21428\n",
            "данные по категориям [0, 7588, 572, 5348, 7920]\n",
            "количество авторов=заявителей 6738\n",
            "21428 21428\n",
            "2020\n",
            "total documents 21690\n",
            "данные по категориям [0, 7182, 512, 5427, 8569]\n",
            "количество авторов=заявителей 7465\n",
            "21690 21690\n",
            "2021\n",
            "total documents 17403\n",
            "данные по категориям [0, 7551, 469, 5276, 4107]\n",
            "количество авторов=заявителей 3086\n",
            "17403 17403\n",
            "2022\n",
            "total documents 13789\n",
            "данные по категориям [0, 6781, 373, 3990, 2645]\n",
            "количество авторов=заявителей 2019\n",
            "13789 13789\n",
            "   образование и наука  государство  коммерческ.  физлица years\n",
            "0                 7478          559         5180     7655  2018\n",
            "1                 7588          572         5348     7920  2019\n",
            "2                 7182          512         5427     8569  2020\n",
            "3                 7551          469         5276     4107  2021\n",
            "4                 6781          373         3990     2645  2022\n"
          ]
        },
        {
          "output_type": "display_data",
          "data": {
            "text/plain": [
              "<Figure size 1200x600 with 1 Axes>"
            ],
            "image/png": "[encoded data removed]"
          },
          "metadata": {}
        }
      ]
    },
    {
      "cell_type": "code",
      "source": [
        "app_types_df.plot(x='years', y=types[1:], kind='bar', figsize=(12, 6), xlabel='год', ylabel='количество', title='Динамика подачи заявок разными типами российских заявителей', color = ['grey', 'red', 'green', 'yellow'], stacked=True)\n",
        "print(app_types_df)\n",
        "for i in range(len(years)):\n",
        "  total = 0\n",
        "  for value in types[1:]:\n",
        "    plt.text(i, app_types_df[value].loc[i]*0.5 + total, str(app_types_df[value].loc[i])+' ', ha = 'right')\n",
        "    plt.text(i, app_types_df[value].loc[i]*0.5 + total, '('+str(round(persent_app_to_total_app_df[value].loc[i], 1))+'%)', ha = 'left')\n",
        "    total += app_types_df[value].loc[i]\n",
        "plt.show()"
      ],
      "metadata": {
        "colab": {
          "base_uri": "https://localhost:8080/"
        },
        "id": "rvL7YgtV0eAB",
        "outputId": "49b71efd-f1d2-491e-f405-58bf31555d0f"
      },
      "execution_count": null,
      "outputs": [
        {
          "output_type": "stream",
          "name": "stdout",
          "text": [
            "   образование и наука  государство  коммерческ.  физлица years\n",
            "0                 7478          559         5180     7655  2018\n",
            "1                 7588          572         5348     7920  2019\n",
            "2                 7182          512         5427     8569  2020\n",
            "3                 7551          469         5276     4107  2021\n",
            "4                 6781          373         3990     2645  2022\n"
          ]
        },
        {
          "output_type": "display_data",
          "data": {
            "text/plain": [
              "<Figure size 1200x600 with 1 Axes>"
            ],
            "image/png": "[encoded data removed]"
          },
          "metadata": {}
        }
      ]
    },
    {
      "cell_type": "code",
      "source": [],
      "metadata": {
        "id": "8mCd_wc-yqgB"
      },
      "execution_count": null,
      "outputs": []
    },
    {
      "cell_type": "code",
      "source": [
        "app_types_np = app_types_df[types[1:]].to_numpy()"
      ],
      "metadata": {
        "id": "GBFC7buLDcZx"
      },
      "execution_count": null,
      "outputs": []
    },
    {
      "cell_type": "code",
      "source": [
        "# типы патентообладателей\n",
        "types = ['no_data', 'education', 'government', 'legal', 'individual']\n",
        "types = ['нет данных', 'образование и наука', 'государство', 'коммерческ.', 'физлица']\n",
        "patent_types_data = []\n",
        "for year in data_voc_ru.keys():\n",
        "  patent_df = data_voc_ru[year][data_voc_ru[year]['patent number'] != 'no_data']\n",
        "  print(year)\n",
        "  year_data = app_categories(patent_df['applicant'].values[:], (patent_df['authors'].values[:]))\n",
        "  print('данные по категориям', year_data[0])\n",
        "  print('количество авторов=заявителей', year_data[2])\n",
        "  patent_types_data.append(year_data[0])\n",
        "patents_types_df = pd.DataFrame(patent_types_data, columns=types)\n",
        "patents_types_df['years'] = years\n",
        "try:\n",
        "  patents_types_df.drop(['нет данных'], axis=1, inplace=True)\n",
        "except:\n",
        "  nothing = 1\n",
        "\n",
        "patent_types_np = patents_types_df[types[1:]].to_numpy()\n",
        "persent_df = pd.DataFrame(patent_types_np/app_types_np, columns=[types[1:]])\n"
      ],
      "metadata": {
        "id": "H9JDjl5BZly9",
        "colab": {
          "base_uri": "https://localhost:8080/"
        },
        "outputId": "5e260536-894f-4fd5-e105-1f8b75ae6948"
      },
      "execution_count": null,
      "outputs": [
        {
          "output_type": "stream",
          "name": "stdout",
          "text": [
            "2018\n",
            "total documents 16132\n",
            "данные по категориям [0, 7027, 525, 4740, 3840]\n",
            "количество авторов=заявителей 3050\n",
            "2019\n",
            "total documents 16600\n",
            "данные по категориям [0, 7222, 550, 4930, 3898]\n",
            "количество авторов=заявителей 2978\n",
            "2020\n",
            "total documents 15597\n",
            "данные по категориям [0, 6738, 473, 4931, 3455]\n",
            "количество авторов=заявителей 2604\n",
            "2021\n",
            "total documents 15075\n",
            "данные по категориям [0, 6994, 438, 4680, 2963]\n",
            "количество авторов=заявителей 2187\n",
            "2022\n",
            "total documents 13033\n",
            "данные по категориям [0, 6579, 363, 3787, 2304]\n",
            "количество авторов=заявителей 1742\n"
          ]
        }
      ]
    },
    {
      "cell_type": "code",
      "source": [],
      "metadata": {
        "id": "_Zx2pya_ErFb"
      },
      "execution_count": null,
      "outputs": []
    },
    {
      "cell_type": "code",
      "source": [
        "\n",
        "persent_df['years'] = years\n",
        "\n",
        "print(persent_df)\n",
        "print(patents_types_df)\n",
        "patents_types_df.plot(x='years', y=types[1:], kind='bar', figsize=(12, 6), xlabel='год', ylabel='количество', title='Динамика получения патентов разными типами российских заявителей', color = ['grey', 'red', 'green', 'yellow'], stacked=True)\n",
        "\n",
        "persent_patent_to_total_app = patents_types_df[['образование и наука',\t'государство',\t'коммерческ.',\t'физлица'\t]].to_numpy()/pd.DataFrame(ru_applicants).transpose().to_numpy()*100\n",
        "persent_patent_to_total_app_df = pd.DataFrame(persent_patent_to_total_app, columns=['образование и наука',\t'государство',\t'коммерческ.',\t'физлица'\t])\n",
        "\n",
        "for i in range(len(years)):\n",
        "  # Aprint('i', i)\n",
        "  total = 0\n",
        "  for value in types[1:]:\n",
        "    #print('value', value)\n",
        "    #print(persent_df[value].loc[i].values[0])\n",
        "    plt.text(i, patents_types_df[value].loc[i]*0.5 + total, str(patents_types_df[value].loc[i])+' ', ha = 'right')\n",
        "    plt.text(i, patents_types_df[value].loc[i]*0.5 + total, '('+str(round(persent_patent_to_total_app_df[value].loc[i], 1))+'%) ', ha = 'left')\n",
        "    #plt.text(i, patents_types_df[value].loc[i]*0.5 - 0 + total, ' (' + str(int(float(persent_patent_to_total_app_df[value].loc[i].values[0])*100))+\"%)\", ha = 'left')\n",
        "    total += patents_types_df[value].loc[i]\n",
        "\n",
        "plt.show()"
      ],
      "metadata": {
        "id": "PU5kz95__-wN",
        "colab": {
          "base_uri": "https://localhost:8080/",
          "height": 793
        },
        "outputId": "62ecc060-5c7a-46ed-be56-b8b21422fd4e"
      },
      "execution_count": null,
      "outputs": [
        {
          "output_type": "stream",
          "name": "stdout",
          "text": [
            "  образование и наука государство коммерческ.   физлица years\n",
            "0            0.939690    0.939177    0.915058  0.501633  2018\n",
            "1            0.951766    0.961538    0.921840  0.492172  2019\n",
            "2            0.938179    0.923828    0.908605  0.403198  2020\n",
            "3            0.926235    0.933902    0.887036  0.721451  2021\n",
            "4            0.970211    0.973190    0.949123  0.871078  2022\n",
            "   образование и наука  государство  коммерческ.  физлица years\n",
            "0                 7027          525         4740     3840  2018\n",
            "1                 7222          550         4930     3898  2019\n",
            "2                 6738          473         4931     3455  2020\n",
            "3                 6994          438         4680     2963  2021\n",
            "4                 6579          363         3787     2304  2022\n"
          ]
        },
        {
          "output_type": "display_data",
          "data": {
            "text/plain": [
              "<Figure size 1200x600 with 1 Axes>"
            ],
            "image/png": "[encoded data removed]"
          },
          "metadata": {}
        }
      ]
    },
    {
      "cell_type": "code",
      "source": [
        "# динамика поддержания патентов в силе\n",
        "# типы патентообладателей\n",
        "types = ['no_data', 'education', 'government', 'legal', 'individual']\n",
        "types = ['нет данных', 'образование и наука', 'государство', 'коммерческ.', 'физлица']\n",
        "patent_types_data = []\n",
        "for year in data_voc_ru.keys():\n",
        "  patent_df = data_voc_ru[year][(data_voc_ru[year]['patent number'] != 'no_data') & (data_voc_ru[year]['status_number'] == 1)]\n",
        "  print(year)\n",
        "  year_data = app_categories(patent_df['applicant'].values[:], (patent_df['authors'].values[:]))\n",
        "  print('данные по категориям', year_data[0])\n",
        "  print('количество авторов=заявителей', year_data[2])\n",
        "  patent_types_data.append(year_data[0])\n",
        "patents_types_df = pd.DataFrame(patent_types_data, columns=types)\n",
        "patents_types_df['years'] = years\n",
        "try:\n",
        "  patents_types_df.drop(['нет данных'], axis=1, inplace=True)\n",
        "except:\n",
        "  nothing = 1\n",
        "\n",
        "patent_types_np = patents_types_df[types[1:]].to_numpy()\n",
        "persent_df = pd.DataFrame(patent_types_np/app_types_np, columns=[types[1:]])\n",
        "\n",
        "persent_active_patent_to_total_app = patents_types_df[['образование и наука',\t'государство',\t'коммерческ.',\t'физлица'\t]].to_numpy()/pd.DataFrame(ru_applicants).transpose().to_numpy()*100\n",
        "persent_active_patent_to_total_app_df = pd.DataFrame(persent_active_patent_to_total_app, columns=['образование и наука',\t'государство',\t'коммерческ.',\t'физлица'\t])\n",
        "\n",
        "persent_df['years'] = years\n",
        "\n",
        "print(persent_df)\n",
        "print(patents_types_df)\n",
        "patents_types_df.plot(x='years', y=types[1:], kind='bar', figsize=(12, 6), xlabel='год', ylabel='количество', title='Динамика поддержания в силе патентов разными типами российских заявителей', color = ['grey', 'red', 'green', 'yellow'], stacked=True)\n",
        "\n",
        "for i in range(len(years)):\n",
        "  # Aprint('i', i)\n",
        "  total = 0\n",
        "  for value in types[1:]:\n",
        "    #print('value', value)\n",
        "    #print(persent_df[value].loc[i].values[0])\n",
        "    plt.text(i, patents_types_df[value].loc[i]*0.4 + total, str(patents_types_df[value].loc[i]) + ' ', ha = 'right')\n",
        "    plt.text(i, patents_types_df[value].loc[i]*0.4 - 0 + total, '('+str(round(persent_active_patent_to_total_app_df[value].loc[i], 1))+'%) ', ha = 'left')\n",
        "    total += patents_types_df[value].loc[i]\n",
        "\n",
        "plt.show()"
      ],
      "metadata": {
        "id": "xJov-lvCBkI8",
        "colab": {
          "base_uri": "https://localhost:8080/"
        },
        "outputId": "5b5e09cf-2ba4-43d6-9e58-d0ece1453d7b"
      },
      "execution_count": null,
      "outputs": [
        {
          "output_type": "stream",
          "name": "stdout",
          "text": [
            "2018\n",
            "total documents 7907\n",
            "данные по категориям [0, 2300, 253, 3411, 1943]\n",
            "количество авторов=заявителей 1668\n",
            "2019\n",
            "total documents 9011\n",
            "данные по категориям [0, 3140, 235, 3720, 1916]\n",
            "количество авторов=заявителей 1623\n",
            "2020\n",
            "total documents 9247\n",
            "данные по категориям [0, 3308, 214, 3824, 1901]\n",
            "количество авторов=заявителей 1552\n",
            "2021\n",
            "total documents 10647\n",
            "данные по категориям [0, 4545, 218, 3963, 1921]\n",
            "количество авторов=заявителей 1536\n",
            "2022\n",
            "total documents 13011\n",
            "данные по категориям [0, 6570, 363, 3777, 2301]\n",
            "количество авторов=заявителей 1739\n",
            "  образование и наука государство коммерческ.   физлица years\n",
            "0            0.307569    0.452594    0.658494  0.253821  2018\n",
            "1            0.413811    0.410839    0.695587  0.241919  2019\n",
            "2            0.460596    0.417969    0.704625  0.221846  2020\n",
            "3            0.601907    0.464819    0.751137  0.467738  2021\n",
            "4            0.968884    0.973190    0.946617  0.869943  2022\n",
            "   образование и наука  государство  коммерческ.  физлица years\n",
            "0                 2300          253         3411     1943  2018\n",
            "1                 3140          235         3720     1916  2019\n",
            "2                 3308          214         3824     1901  2020\n",
            "3                 4545          218         3963     1921  2021\n",
            "4                 6570          363         3777     2301  2022\n"
          ]
        },
        {
          "output_type": "display_data",
          "data": {
            "text/plain": [
              "<Figure size 1200x600 with 1 Axes>"
            ],
            "image/png": "[encoded data removed]"
          },
          "metadata": {}
        }
      ]
    },
    {
      "cell_type": "markdown",
      "source": [
        "# 2. Часть, связанная с лицензиями"
      ],
      "metadata": {
        "id": "mdbntwpavzmE"
      }
    },
    {
      "cell_type": "markdown",
      "source": [
        "## defs"
      ],
      "metadata": {
        "id": "HTepkj-0wAhx"
      }
    },
    {
      "cell_type": "code",
      "source": [
        "def owner_license_type(license_data_unique):\n",
        "  owner_types = ['education', 'government', 'legal', 'physic']\n",
        "  licens_types = license_data_unique['license type details'].value_counts().index.to_list()\n",
        "  sub_data1 = pd.DataFrame()\n",
        "  sub_data2 = pd.DataFrame()\n",
        "  license_owner_types = {}\n",
        "\n",
        "  for owner_type in owner_types:\n",
        "    try:\n",
        "      sub_data1 = license_data_unique[license_data_unique[owner_type]==1]\n",
        "    except:\n",
        "      sub_data1 = pd.DataFrame()\n",
        "    license_data = []\n",
        "    for licens_type in licens_types:\n",
        "      try:\n",
        "        sub_data2 = sub_data1[sub_data1['license type details']==licens_type]\n",
        "      except:\n",
        "        sub_data2 = pd.DataFrame()\n",
        "      license_data.append(len(sub_data2))\n",
        "    license_owner_types[owner_type] = license_data\n",
        "  #print('распределение по типам заявителей и типам распоряжений', license_owner_types)\n",
        "  return license_owner_types, licens_types"
      ],
      "metadata": {
        "id": "C4Rh7O-qv_s0"
      },
      "execution_count": null,
      "outputs": []
    },
    {
      "cell_type": "code",
      "source": [
        "def ru_not_ru(data):\n",
        "  # количество RU-не RU распорядителей\n",
        "  license_data_unique_ru = data[data['owner'].str.contains('RU')]\n",
        "  ru_license = len(license_data_unique_ru)\n",
        "  # количество заруб распорядителей\n",
        "  not_ru_license = len(data) - len(license_data_unique_ru)\n",
        "  print('общее количество распоряжений', len(data),\n",
        "        '\\nколичество распоряжений у Заруб распорядителей', len(data) - len(license_data_unique_ru))\n",
        "  print('количество распоряжений у RU распорядителей', len(license_data_unique_ru))\n",
        "\n",
        "  ru_patents = len(set(license_data_unique_ru['patent number']))\n",
        "  not_ru_patents = len(set(data['patent number'])) - len(set(license_data_unique_ru['patent number']))\n",
        "  print('общее количество патентов', len(set(data['patent number'])),\n",
        "  '\\nколичество патентов у Заруб распорядителей',\n",
        "        len(set(data['patent number'])) - len(set(license_data_unique_ru['patent number'])))\n",
        "  print('количество патентов у RU распорядителей', len(set(license_data_unique_ru['patent number'])))\n",
        "\n",
        "  # зарубежные распорядители наименования\n",
        "  foreign_owners = []\n",
        "  for i in data['owner'].value_counts().index:\n",
        "    if ('RU') not in i:\n",
        "      foreign_owners.append(i)\n",
        "  print('foreign_owners', foreign_owners)\n",
        "\n",
        "  foreign_licenses_title = []\n",
        "  foreign_licenses_patent_number = []\n",
        "  not_ru_numbers = []\n",
        "  for i in foreign_owners:\n",
        "    not_ru_numbers.append(len(data[data['owner']==i]))\n",
        "    #print('foreign_owners title', (data[data['owner']==i]['title'].values.tolist()))\n",
        "    foreign_licenses_title += data[data['owner']==i]['title'].values.tolist()\n",
        "    foreign_licenses_patent_number += data[data['owner']==i]['patent number'].values.tolist()\n",
        "  print('количеста распоряжений по правообладателям', not_ru_numbers)\n",
        "  #print('названия патентов заруб распорядителей', foreign_licenses_title)\n",
        "  #print('номера патентов зарубежных распорядителей', foreign_licenses_patent_number)\n",
        "  print('количество патентов зарубежных распорядителей', len(set(foreign_licenses_patent_number)))\n",
        "  return ru_license, not_ru_license, ru_patents, not_ru_patents"
      ],
      "metadata": {
        "id": "x_UEa30CzYsk"
      },
      "execution_count": null,
      "outputs": []
    },
    {
      "cell_type": "code",
      "source": [
        "def app_categories_2(column):\n",
        "  '''\n",
        "  column - column from dataframe for dividing into categories\n",
        "  return vocabulary which comprise 4 categories and number of applicants in the categories\n",
        "  '''\n",
        "  edu_group = []\n",
        "  leg_group = []\n",
        "  phy_group = []\n",
        "  gov_group = []\n",
        "\n",
        "  grouped_cat = []\n",
        "  applicants = column # column\n",
        "  print('total documents', len(applicants))\n",
        "  edu = 0\n",
        "  gov = 0\n",
        "  leg = 0\n",
        "  phy = 0\n",
        "  no_data = 0\n",
        "  appl = []\n",
        "  app_edu = []\n",
        "  app_gov = []\n",
        "  app_leg = []\n",
        "  app_phy = []\n",
        "\n",
        "\n",
        "  education = ['бразован', 'нститут', 'ниверс', 'ЮНИВЕРСИТИ', 'юниверсити', 'УНИВЕР', 'ИНСТИТЬЮТ', 'ИНСТИТУТ', 'ЮНИВЕРСИТЕ', 'ФГБОУ', 'ИМАШ РАН', 'ИВС РАН', 'учреждение науки', 'аучный центр', 'научно-производственный центр',\n",
        "               'исследовательский центр', 'Научно-учебный центр']\n",
        "  government = ['осударственн', 'министерство', 'Российская Федерация', 'государственное бюджетное учреждение', 'ФГБНУ', 'ойсковая часть', 'азенное учреждение', 'ФБУ', 'ФГУП',\n",
        "                'Министерство обороны', 'Росконгресс']\n",
        "  legal = ['ООО', 'бщество', 'ЛТД.', 'ЛИМИТЕД', 'КОРПОРЕЙШН', 'ИНК.', 'Лимитед', 'ИНКОРПОРЕЙТЕД', 'ГМБХ', 'КОНИНКЛЕЙКЕ', 'ИНТЕРНЭШНЛ', 'ФРАНС', 'ЛЛС', 'КАЙСЯ', 'С.П.А', 'С.А.', 'ЛТД',\n",
        "          ' АГ', 'СИМЕНС', 'КОМПАНИ', 'Лтд', 'КОРПОРЭЙШН', 'ЭЛЕКТРОНИКС', 'Компани', 'ОБЩЕСТВО', 'ЭлЭлСи', 'ХОЛДИНГ', 'БАСФ', 'ООО', 'ГмбХ', 'Инк.', 'А/С', 'АКЦИЕНГЕЗЕЛЛЬШАФТ',\n",
        "          'АКЦИЕНГЕЗЕЛЬШАФТ', 'С.Р.Л.', ' АБ ', 'ЛЛК', 'Акциенгезельшафт', ' СПА ', 'СОЛЮШНС', 'ЗАО', 'ПАО', 'АКТИЕНГЕЗЕЛЛЬШАФТ', 'Текнолоджиз',\n",
        "          'олюшн', 'ЭлЭЛСи', 'орпорейшн', 'ГРУП', 'ДиЭмСиСи', '(ПАБЛ)', 'ЭЛЕКТРИК', 'ТЕКНОЛО', 'АО ', 'БОЛАГЕТ', 'САФРАН', ' ОЙ ', 'ОЮЙ', 'ОЙЙ',\n",
        "          ' САС ', ' СА ', ' АС ', 'СОЛЮШН', ' ИНК ', ' НВ ', 'АКТИЕБОЛАГ', 'ГОБЭН', 'ИНТЕРНЕЙШНЛ', 'ЛЛЦ', 'СЕРВИС', 'ФАРМА', 'ЭЛЭЛСИ', 'АССОЦИАЦИЯ РАЗВИТИЯ ФИНАНСОВЫХ ТЕХНОЛОГИЙ',\n",
        "           'убличное акционерно', 'OOO', 'кционерн']\n",
        "  physic = [' оглы', 'анович ', 'СЕРГЕ', 'ВЛАДИМИР', 'ЕВИЧ ', 'ОВИЧ ', 'Чон-Ын', 'ЦЗИНЬ, ГЭ', 'Цой Валентин']\n",
        "\n",
        "\n",
        "  others = []\n",
        "  for applicant in applicants[:]:\n",
        "    phy_trigger = 0\n",
        "    edu_trigger = 0\n",
        "    gov_trigger = 0\n",
        "    leg_trigger = 0\n",
        "    #print('\\n\\n', applicant)\n",
        "    trigger = 0\n",
        "\n",
        "    for l in legal:\n",
        "      if l in applicant:\n",
        "        leg += 1\n",
        "        leg_trigger = 1\n",
        "        #print('education')\n",
        "        trigger = 1\n",
        "        app_leg.append(applicant)\n",
        "        break\n",
        "\n",
        "    if not trigger:\n",
        "      for e in education:\n",
        "        if e in applicant:\n",
        "          edu += 1\n",
        "          edu_trigger = 1\n",
        "          #print('education')\n",
        "          trigger = 1\n",
        "          app_edu.append(applicant)\n",
        "          break\n",
        "\n",
        "    if not trigger:\n",
        "      for g in government:\n",
        "        if g in applicant:\n",
        "          gov += 1\n",
        "          gov_trigger = 1\n",
        "          #print('government')\n",
        "          trigger = 1\n",
        "          app_gov.append(applicant)\n",
        "          break\n",
        "\n",
        "    if not trigger:\n",
        "      for l in legal:\n",
        "        if l in applicant:\n",
        "          leg += 1\n",
        "          leg_trigger = 1\n",
        "          #print('legal')\n",
        "          trigger = 1\n",
        "          app_leg.append(applicant)\n",
        "          break\n",
        "\n",
        "    if not trigger:\n",
        "      for p in physic:\n",
        "        if p in applicant:\n",
        "          phy += 1\n",
        "          phy_trigger = 1\n",
        "          #print('physic', applicant)\n",
        "          trigger = 1\n",
        "          app_phy.append(applicant)\n",
        "          break\n",
        "\n",
        "    if not trigger:\n",
        "      if (len(re.findall(r'\\s', applicant.split(' (')[0]))) == 0 or len(re.findall(r'\\.', applicant.split('(')[0])) > 0 or len(re.findall(r'\\s', applicant.split(' (')[0])) > 3:\n",
        "        #print()\n",
        "        leg += 1\n",
        "        leg_trigger = 1\n",
        "        app_leg.append(applicant)\n",
        "        #print('legal')\n",
        "        trigger = 1\n",
        "\n",
        "      #print(applicant)\n",
        "      if not trigger:\n",
        "        # БОЛЬШАЯмаленькие пробел БОЛЬШАЯмаленькие пробел БОЛЬШАЯмаленькие\n",
        "        name_pattern = r'[А-ЯЁ][а-яё]+ [А-ЯЁ][а-яё]+ [А-ЯЁ][а-яё]+'\n",
        "        if len(re.findall(name_pattern, applicant)) != 0:\n",
        "          phy += 1\n",
        "          phy_trigger = 1\n",
        "          app_phy.append(applicant)\n",
        "          #print('physic', applicant)\n",
        "          trigger = 1\n",
        "\n",
        "      if not trigger:\n",
        "        # БОЛЬШАЯ ФАМИЛИЯ маленькое имя\n",
        "        name_pattern = r'[А-ЯЁ]+ [А-ЯЁ][а-яё]+'\n",
        "        if len(re.findall(name_pattern, applicant)) != 0:\n",
        "          phy += 1\n",
        "          phy_trig = 1\n",
        "          #print('physic', applicant)\n",
        "          app_phy.append(applicant)\n",
        "          trigger = 1\n",
        "\n",
        "        # всякие исключения\n",
        "        if not trigger:\n",
        "          if 'Мешенгиссер Юрий' in applicant or 'Газимиев Магомед-Салах Алхазурович' in applicant or 'НАСЫРОВА НАДЕЖДА ИГОРЕВНА' in applicant:\n",
        "            phy += 1\n",
        "            phy_trig = 1\n",
        "            #print('physic', applicant)\n",
        "            app_phy.append(applicant)\n",
        "            trigger = 1\n",
        "\n",
        "\n",
        "    if trigger == 0:\n",
        "      others.append(applicant)\n",
        "\n",
        "    if edu_trigger:\n",
        "      edu_group.append(1)\n",
        "    else:\n",
        "      edu_group.append(0)\n",
        "    if gov_trigger:\n",
        "      gov_group.append(1)\n",
        "    else:\n",
        "      gov_group.append(0)\n",
        "    if phy_trigger:\n",
        "      phy_group.append(1)\n",
        "    else:\n",
        "      phy_group.append(0)\n",
        "    if leg_trigger:\n",
        "      leg_group.append(1)\n",
        "    else:\n",
        "      leg_group.append(0)\n",
        "\n",
        "\n",
        "\n",
        "  #print(edu_group)\n",
        "  #print(gov_group)\n",
        "  #print(phy_group)\n",
        "  #print(leg_group)\n",
        "  #print('total', edu + gov + leg + phy)\n",
        "  data = {}\n",
        "  values = [edu, gov, leg, phy]\n",
        "  types = ['education', 'government', 'legal', 'physic']\n",
        "  for value, key in zip(values, types):\n",
        "    data[key] = value\n",
        "  print('not grouped - shall be []', others)\n",
        "\n",
        "  return values, edu_group, gov_group, leg_group, phy_group"
      ],
      "metadata": {
        "id": "1QLEVO9iz-Z0"
      },
      "execution_count": null,
      "outputs": []
    },
    {
      "cell_type": "markdown",
      "source": [
        "## code"
      ],
      "metadata": {
        "id": "65S8t8S-wC9K"
      }
    },
    {
      "cell_type": "code",
      "source": [
        "file_addresses = ['/content/drive/MyDrive/Colab Notebooks/Патентование/парсинг и анализ заявок на ИЗ и ПМ/data/2018INV_patent_parsed_data.txt',\n",
        "                 '/content/drive/MyDrive/Colab Notebooks/Патентование/парсинг и анализ заявок на ИЗ и ПМ/data/2019INV_patent_parsed_data.txt',\n",
        "                 '/content/drive/MyDrive/Colab Notebooks/Патентование/парсинг и анализ заявок на ИЗ и ПМ/data/2020INV_patent_parsed_data.txt',\n",
        "                 '/content/drive/MyDrive/Colab Notebooks/Патентование/парсинг и анализ заявок на ИЗ и ПМ/data/2021INV_patent_parsed_data.txt',\n",
        "                 '/content/drive/MyDrive/Colab Notebooks/Патентование/парсинг и анализ заявок на ИЗ и ПМ/data/2022INV_patent_parsed_data.txt']\n",
        "\n",
        "file_addresses = ['/content/drive/MyDrive/Colab Notebooks/Патентование/парсинг и анализ заявок на ИЗ и ПМ/data/inv2/2018INV_patent_parsed_data.txt',\n",
        "                 '/content/drive/MyDrive/Colab Notebooks/Патентование/парсинг и анализ заявок на ИЗ и ПМ/data/inv2/2019INV_patent_parsed_data.txt',\n",
        "                 '/content/drive/MyDrive/Colab Notebooks/Патентование/парсинг и анализ заявок на ИЗ и ПМ/data/inv2/2020INV_patent_parsed_data.txt',\n",
        "                 '/content/drive/MyDrive/Colab Notebooks/Патентование/парсинг и анализ заявок на ИЗ и ПМ/data/inv2/2021INV_patent_parsed_data.txt',\n",
        "                 '/content/drive/MyDrive/Colab Notebooks/Патентование/парсинг и анализ заявок на ИЗ и ПМ/data/inv2/2022INV_patent_parsed_data.txt']"
      ],
      "metadata": {
        "id": "_Fzb8jUqw0-E"
      },
      "execution_count": null,
      "outputs": []
    },
    {
      "cell_type": "code",
      "source": [
        "licensed_patents_voc = {}\n",
        "for year in years:\n",
        "  df = data_voc_ru[year]\n",
        "  df = df.loc[df['alienation']!='no_data']\n",
        "  #df = df.loc[(df['alienation']!='0') | (df['license']!='0') | (df['pledge']!='0')] # здесь учитываю залог\n",
        "  df = df.loc[(df['alienation']!='0') | (df['license']!='0')] # здесь только лицензионный договор или договор отчуждения\n",
        "  print(year, len(df))\n",
        "  licensed_patents_voc[year] = df"
      ],
      "metadata": {
        "colab": {
          "base_uri": "https://localhost:8080/"
        },
        "id": "yZVPBEicC1-f",
        "outputId": "42f28d17-8138-42eb-fd14-4d7ceb2ba4aa"
      },
      "execution_count": null,
      "outputs": [
        {
          "output_type": "stream",
          "name": "stdout",
          "text": [
            "2018 1193\n",
            "2019 1100\n",
            "2020 692\n",
            "2021 402\n",
            "2022 167\n"
          ]
        }
      ]
    },
    {
      "cell_type": "code",
      "source": [
        "# проверка, все ли распоряжения попали в данные для обработки\n",
        "patent_type = 'INV' # INV or UM\n",
        "license_data_df = pd.DataFrame()\n",
        "license_data_voc = {}\n",
        "\n",
        "header = ['patent number', 'title', 'patent url', 'owner', 'ipc', 'license type', 'license number date', 'licensor', 'licensee', 'license type details', 'license conditions', 'address']\n",
        "for year in years[:]:\n",
        "  print(year)\n",
        "  license_data_df = pd.read_csv('/content/drive/MyDrive/Colab Notebooks/Патентование/парсинг и анализ заявок на ИЗ и ПМ/data/license/' + str(year) + patent_type + '_licenses_info.csv', sep='\\t', encoding='utf8', header=None)\n",
        "  license_data_df = license_data_df[[columns for columns in range(1, 13)]]\n",
        "  license_data_df.columns = header\n",
        "  license_data_df = license_data_df.drop(index= 0)\n",
        "  license_data_df = license_data_df[license_data_df['patent number'] != 'h']\n",
        "  print(len(set(licensed_patents_voc[year]['patent number'].astype(int))))\n",
        "  print(len(set(license_data_df['patent number'])))\n",
        "  print((set(licensed_patents_voc[year]['patent number'].astype(int))) - (set(license_data_df['patent number'].astype(int))))\n",
        "  print(len((set(licensed_patents_voc[year]['patent number'].astype(int))) - (set(license_data_df['patent number'].astype(int)))))\n",
        "  print('====================================')\n",
        "  license_data_voc[year] = license_data_df\n"
      ],
      "metadata": {
        "id": "2bAdGKPlwM-R",
        "colab": {
          "base_uri": "https://localhost:8080/"
        },
        "outputId": "c0407a18-45a4-49c6-e514-5af2bd6b5c34"
      },
      "execution_count": null,
      "outputs": [
        {
          "output_type": "stream",
          "name": "stdout",
          "text": [
            "2018\n",
            "1192\n",
            "1547\n",
            "{2685061, 2674123, 2677142, 2677146, 2691645}\n",
            "5\n",
            "====================================\n",
            "2019\n",
            "1100\n",
            "1422\n",
            "{2719078}\n",
            "1\n",
            "====================================\n",
            "2020\n",
            "692\n",
            "803\n",
            "set()\n",
            "0\n",
            "====================================\n",
            "2021\n",
            "402\n",
            "442\n",
            "{2769770}\n",
            "1\n",
            "====================================\n",
            "2022\n",
            "167\n",
            "171\n",
            "set()\n",
            "0\n",
            "====================================\n"
          ]
        }
      ]
    },
    {
      "cell_type": "code",
      "source": [
        "0/0"
      ],
      "metadata": {
        "colab": {
          "base_uri": "https://localhost:8080/",
          "height": 175
        },
        "id": "Sp9gewrwhRJm",
        "outputId": "03de2ad0-5de2-43c5-9e7d-449c07516562"
      },
      "execution_count": null,
      "outputs": [
        {
          "output_type": "error",
          "ename": "ZeroDivisionError",
          "evalue": "ignored",
          "traceback": [
            "\u001b[0;31m---------------------------------------------------------------------------\u001b[0m",
            "\u001b[0;31mZeroDivisionError\u001b[0m                         Traceback (most recent call last)",
            "\u001b[0;32m<ipython-input-173-9ab73e148374>\u001b[0m in \u001b[0;36m<cell line: 1>\u001b[0;34m()\u001b[0m\n\u001b[0;32m----> 1\u001b[0;31m \u001b[0;36m0\u001b[0m\u001b[0;34m/\u001b[0m\u001b[0;36m0\u001b[0m\u001b[0;34m\u001b[0m\u001b[0;34m\u001b[0m\u001b[0m\n\u001b[0m",
            "\u001b[0;31mZeroDivisionError\u001b[0m: division by zero"
          ]
        }
      ]
    },
    {
      "cell_type": "code",
      "source": [
        "# убираю лишнюю информацию, привожу к более удобному виду\n",
        "total = np.array([])\n",
        "unique = np.array([])\n",
        "open_lic = np.array([])\n",
        "license_data_final_voc = {}\n",
        "\n",
        "for year in years[:]:\n",
        "  print('year', year)\n",
        "  license_data = license_data_voc[year]\n",
        "  total = np.append(total, len(license_data['patent number']))\n",
        "  unique = np.append(unique, len(set(license_data['patent number'])))\n",
        "\n",
        "  # licensee correction\n",
        "  new_licensee = []\n",
        "  for i in license_data.licensee:\n",
        "    #print(i.split('\\n')[0])\n",
        "    new_licensee.append(i.split('\\n')[0])\n",
        "  license_data.licensee = new_licensee\n",
        "\n",
        "  # license_type_details correction\n",
        "  new_license_type_details = []\n",
        "  for i in license_data['license type details']:\n",
        "    #print(i.split('\\n')[0])\n",
        "    new_license_type_details.append(i.split('\\n')[0])\n",
        "  license_data.license_type_details = new_license_type_details\n",
        "\n",
        "  # open license removing\n",
        "  open_lic = np.append(open_lic, len(license_data[license_data['license type'] == 'Открытая лицензия']))\n",
        "  print('количество открытых лицензий', open_lic)\n",
        "  license_data = license_data[license_data['license type'] != 'Открытая лицензия']\n",
        "\n",
        "  ## save unique only\n",
        "  # part 1 removing copies with the same contract number\n",
        "  license_data_dupl = license_data[license_data.duplicated(subset=['patent number', 'license number date'])]\n",
        "  print('number of duplicates, где повторяются распоряжения и изменения', len(license_data_dupl))\n",
        "  license_data_unique = license_data.drop_duplicates(subset=['patent number', 'license number date'], keep='first', inplace=False, ignore_index=False)\n",
        "  # part 2 removing alienations between the same participants\n",
        "  license_data_dupl2 = license_data_unique[(license_data_unique.duplicated(subset=['patent number', 'owner', 'license type', 'licensor', 'licensee'])&(license_data_unique['license type details']=='Договор отчуждения'))]\n",
        "  print('number of duplicates2, где несколько раз фиксируется идентичное отчуждение', len(license_data_dupl2))\n",
        "  license_data_unique = license_data_unique.drop_duplicates(subset=['patent number', 'owner', 'license type', 'licensor', 'licensee'], keep='first', inplace=False, ignore_index=False)\n",
        "\n",
        "  # change in registration details removing\n",
        "  #print('changes\\n', license_data_unique[license_data_unique['license type'] == 'QZ9K Государственная регистрация изменений, касающихся предоставления права использования по договору'])\n",
        "  print('количество зарегистрированных изменений, попавших в данные', len(license_data_unique[license_data_unique['license type'] == 'QZ9K Государственная регистрация изменений, касающихся предоставления права использования по договору']))\n",
        "  license_data_unique = license_data_unique[license_data_unique['license type'] != 'QZ9K Государственная регистрация изменений, касающихся предоставления права использования по договору']\n",
        "\n",
        "  # замена сходных терминов одним\n",
        "  license_data_unique.loc[license_data_unique['license type details']=='о последующем залоге исключительного права', ['license type details']] = 'о залоге исключительного права'\n",
        "  license_data_unique.loc[license_data_unique['license type details']=='об отчуждении исключительного права', ['license type details']] = 'Договор отчуждения'\n",
        "\n",
        "  print('number of unique', len(license_data_unique), ', number of RU unique', len(license_data_unique[license_data_unique['owner'].str.contains('RU')]))\n",
        "  license_data_final_voc[year] = license_data_unique\n",
        "\n",
        "  print('общее количество уникальных распоряжений', len(license_data_unique['patent number']),\n",
        "        ', количество патентов с раcпоряжениями', len(set(license_data_unique['patent number'])),\n",
        "        ', количество RU патентов с раcпоряжениями', len(set(license_data_unique[license_data_unique['owner'].str.contains('RU')]['patent number'])),\n",
        "        ', difference', len(license_data_unique['patent number']) - len(set(license_data_unique['patent number'])))\n",
        "\n",
        "  print('==============================\\n\\n')"
      ],
      "metadata": {
        "id": "qkeQ759Qyt5g"
      },
      "execution_count": null,
      "outputs": []
    },
    {
      "cell_type": "code",
      "source": [
        "# убираю дату осуществления распоряжения\n",
        "\n",
        "for year in license_data_final_voc.keys():\n",
        "  #print(license_data_voc[year]['license type details'])\n",
        "  license_data_final_voc[year]['license type details'] = (license_data_final_voc[year]['license type details'].apply(lambda x: x.split('Дата')[0].strip()))\n",
        "\n",
        "  print(license_data_final_voc[year]['license type details'].value_counts())"
      ],
      "metadata": {
        "id": "LyKSBn_Ry1wL"
      },
      "execution_count": null,
      "outputs": []
    },
    {
      "cell_type": "code",
      "source": [
        "main_data_df = pd.DataFrame(np.transpose([total, unique, open_lic]), index=years, columns=['общее количество распоряжений', 'количество патентов с распоряжениями', 'количество открытых лицензий'])\n",
        "\n",
        "ax = main_data_df.plot(kind='bar') # ADD NUMBERS\n",
        "ax.bar_label(ax.containers[0])\n",
        "ax.bar_label(ax.containers[1])\n",
        "ax.bar_label(ax.containers[2])"
      ],
      "metadata": {
        "id": "F2lfWoCgzB6w"
      },
      "execution_count": null,
      "outputs": []
    },
    {
      "cell_type": "code",
      "source": [
        "data_line = []\n",
        "license_data_voc_ru = {}\n",
        "for year in license_data_final_voc.keys():\n",
        "  print(year)\n",
        "  ru_not_ru_data = ru_not_ru(license_data_final_voc[year])\n",
        "  print('количество рос-зарубежн распорядителей', ru_not_ru_data)\n",
        "  data_line.append([ru_not_ru_data[0], ru_not_ru_data[2], ru_not_ru_data[1], ru_not_ru_data[3]])\n",
        "  print()\n",
        "  license_data_final_voc[year] = license_data_final_voc[year][license_data_final_voc[year]['owner'].str.contains('RU')]\n",
        "#df = pd.DataFrame(data_line, columns=years)\n",
        "print(data_line)\n",
        "df_ru_not_ru = pd.DataFrame(data_line, index=years, columns=['ru_license', 'ru_patents', 'not_ru_license', 'not_ru_patents'])\n",
        "ax = df_ru_not_ru.plot(kind='bar')\n",
        "ax.bar_label(ax.containers[0])\n",
        "ax.bar_label(ax.containers[1])\n",
        "ax.bar_label(ax.containers[2])\n",
        "ax.bar_label(ax.containers[3])"
      ],
      "metadata": {
        "id": "54Nue4I2zEw9"
      },
      "execution_count": null,
      "outputs": []
    },
    {
      "cell_type": "code",
      "source": [
        "license_data_final_voc[year].columns"
      ],
      "metadata": {
        "id": "n5x4hHHjX9CX"
      },
      "execution_count": null,
      "outputs": []
    },
    {
      "cell_type": "code",
      "source": [
        "# считаю именно !!!!!!!!распоряжения!!!!!!!!!!!!!!\n",
        "data_line = []\n",
        "types_visualisation = ['образование и наука', 'государство', 'коммерческ.', 'физлица']\n",
        "types = ['education', 'government', 'legal', 'physic']\n",
        "for year in license_data_final_voc.keys():\n",
        "  print(year)\n",
        "  # смотрю распределение распорядителей по 4 категориям\n",
        "  groups_data = app_categories(license_data_final_voc[year]['owner'], license_data_final_voc[year]['title'])\n",
        "  #print(groups_data)\n",
        "  print(types_visualisation, groups_data[0], 'сумма', sum(groups_data[0]))\n",
        "  data_line.append(groups_data[0][1:])\n",
        "  try:\n",
        "    license_data_final_voc[year].insert(len(license_data_final_voc[year].columns), types[0], groups_data[1])\n",
        "    license_data_final_voc[year].insert(len(license_data_final_voc[year].columns), types[1], groups_data[2])\n",
        "    license_data_final_voc[year].insert(len(license_data_final_voc[year].columns), types[2], groups_data[3])\n",
        "    license_data_final_voc[year].insert(len(license_data_final_voc[year].columns), types[3], groups_data[4])\n",
        "  except:\n",
        "    print('already inserted')\n",
        "df_app_types = (pd.DataFrame(data_line, columns=types_visualisation, index=years))\n",
        "df_app_types['years'] = years\n",
        "\n",
        "persent_licenses_to_total_app = df_app_types[['образование и наука',\t'государство',\t'коммерческ.',\t'физлица'\t]].to_numpy()/pd.DataFrame(ru_applicants).transpose().to_numpy()*100\n",
        "persent_licenses_to_total_app_df = pd.DataFrame(persent_licenses_to_total_app, columns=['образование и наука',\t'государство',\t'коммерческ.',\t'физлица'\t])\n",
        "\n",
        "ax = df_app_types.plot(x='years', y=types_visualisation, kind='bar', stacked=True, title='Динамика распоряжений правами российскими патентообладателями', color=['grey', 'red', 'green', 'yellow'], figsize=(12, 6), xlabel='год', ylabel='количество', table=False)\n",
        "#ax = applicants_df.plot(x='год', y=columns, kind='bar', stacked=True, title='Динамика подачи RU-(не RU) заявителями', color=['green', 'red', 'grey'], figsize=(10, 6), xlabel='\\nгод', table=False)\n",
        "\n",
        "for i in range(len(years)-1):\n",
        "  total = 0\n",
        "  for value in types_visualisation:\n",
        "    plt.text(i, df_app_types[value].iloc[i]*0.4 + total, '  '+str(df_app_types[value].iloc[i]) + '  ', ha = 'right')\n",
        "    plt.text(i, df_app_types[value].iloc[i]*0.4 + total, '(' + str(round(float(persent_licenses_to_total_app_df[value].iloc[i]), 1))+\"%)  \", ha = 'left')\n",
        "    total += df_app_types[value].iloc[i]\n",
        "\n",
        "for i in range(len(years))[-1:]:\n",
        "  total = 0\n",
        "  for value in types_visualisation:\n",
        "    plt.text(i, df_app_types[value].iloc[i]*0 +240 + total, '  '+str(df_app_types[value].iloc[i])+'  ', ha = 'right')\n",
        "    plt.text(i, df_app_types[value].iloc[i]*0 +240 + total, '(' + str(round(float(persent_licenses_to_total_app_df[value].iloc[i]), 1))+\"%)  \", ha = 'left')\n",
        "    total += 50\n",
        "plt.show()"
      ],
      "metadata": {
        "id": "1w_QMKDPzP28"
      },
      "execution_count": null,
      "outputs": []
    },
    {
      "cell_type": "code",
      "source": [
        "persent_licenses_to_total_app_df"
      ],
      "metadata": {
        "id": "ycQiZekd2ik5"
      },
      "execution_count": null,
      "outputs": []
    },
    {
      "cell_type": "code",
      "source": [
        "# считаю только !!!!!!!!!патенты!!!!!!!!!, то есть оставляю только одно распоряжение\n",
        "\n",
        "data_line = []\n",
        "types_visualisation = ['образование и наука', 'государство', 'коммерческ.', 'физлица']\n",
        "types = ['education', 'government', 'legal', 'physic']\n",
        "for year in license_data_final_voc.keys():\n",
        "  print(year)\n",
        "  # смотрю распределение распорядителей по 4 категориям\n",
        "  license_data_unique_patents[year] = license_data_final_voc[year].drop_duplicates(subset=['patent number'], keep='first', inplace=False, ignore_index=False)\n",
        "  groups_data = app_categories(license_data_unique_patents[year]['owner'], license_data_unique_patents[year]['title'])\n",
        "  #print(groups_data)\n",
        "  print(types_visualisation, groups_data[0], 'сумма', sum(groups_data[0]))\n",
        "  data_line.append(groups_data[0][1:])\n",
        "  try:\n",
        "    license_data_unique_patents[year].insert(len(license_data_unique_patents[year].columns), types[0], groups_data[1])\n",
        "    license_data_unique_patents[year].insert(len(license_data_unique_patents[year].columns), types[1], groups_data[2])\n",
        "    license_data_unique_patents[year].insert(len(license_data_unique_patents[year].columns), types[2], groups_data[3])\n",
        "    license_data_unique_patents[year].insert(len(license_data_unique_patents[year].columns), types[3], groups_data[4])\n",
        "  except:\n",
        "    print('already inserted')\n",
        "df_app_types = (pd.DataFrame(data_line, columns=types_visualisation, index=years))\n",
        "df_app_types['years'] = years\n",
        "\n",
        "persent_licenses_to_total_app = df_app_types[['образование и наука',\t'государство',\t'коммерческ.',\t'физлица'\t]].to_numpy()/pd.DataFrame(ru_applicants).transpose().to_numpy()*100\n",
        "persent_licenses_to_total_app_df = pd.DataFrame(persent_licenses_to_total_app, columns=['образование и наука',\t'государство',\t'коммерческ.',\t'физлица'\t])\n",
        "\n",
        "ax = df_app_types.plot(x='years', y=types_visualisation, kind='bar', stacked=True, title='Динамика распоряжений правами российскими патентообладателями', color=['grey', 'red', 'green', 'yellow'], figsize=(12, 6), xlabel='год', ylabel='количество', table=False)\n",
        "#ax = applicants_df.plot(x='год', y=columns, kind='bar', stacked=True, title='Динамика подачи RU-(не RU) заявителями', color=['green', 'red', 'grey'], figsize=(10, 6), xlabel='\\nгод', table=False)\n",
        "\n",
        "for i in range(len(years)-1):\n",
        "  total = 0\n",
        "  for value in types_visualisation:\n",
        "    plt.text(i, df_app_types[value].iloc[i]*0.4 + total, '  '+str(df_app_types[value].iloc[i]) + '  ', ha = 'right')\n",
        "    plt.text(i, df_app_types[value].iloc[i]*0.4 + total, '(' + str(round(float(persent_licenses_to_total_app_df[value].iloc[i]), 1))+\"%)  \", ha = 'left')\n",
        "    total += df_app_types[value].iloc[i]\n",
        "\n",
        "for i in range(len(years))[-1:]:\n",
        "  total = 0\n",
        "  for value in types_visualisation:\n",
        "    plt.text(i, df_app_types[value].iloc[i]*0 +200 + total, '  '+str(df_app_types[value].iloc[i])+'  ', ha = 'right')\n",
        "    plt.text(i, df_app_types[value].iloc[i]*0 +200 + total, '(' + str(round(float(persent_licenses_to_total_app_df[value].iloc[i]), 1))+\"%)  \", ha = 'left')\n",
        "    total += 50\n",
        "plt.show()"
      ],
      "metadata": {
        "id": "7aEYx43WvN1N"
      },
      "execution_count": null,
      "outputs": []
    },
    {
      "cell_type": "code",
      "source": [
        "stop 0/0"
      ],
      "metadata": {
        "id": "ok84o1C_Z_Qk"
      },
      "execution_count": null,
      "outputs": []
    },
    {
      "cell_type": "code",
      "source": [
        "types = ['no_data', 'education', 'government', 'legal', 'individual']\n",
        "types = ['нет данных', 'образование и наука', 'государство', 'коммерческ.', 'физлица']\n",
        "colors = {'нет данных':'grey',\n",
        "          'образование и наука':'red',\n",
        "          'государство':'orange',\n",
        "          'коммерческ.':'green',\n",
        "          'физлица':'blue'}\n",
        "data_line = []\n",
        "for year in data_voc_ru.keys():\n",
        "  print(year)\n",
        "  # смотрю распределение распорядителей по 4 категориям\n",
        "  groups_data = app_categories(data_voc_ru[year]['applicant'], data_voc_ru[year]['authors'])\n",
        "  #print(data_voc_ru[year]['applicant'])\n",
        "  #print('groups_data', groups_data[1])\n",
        "  print('education', 'government', 'legal', 'physic', groups_data[0], 'сумма', sum(groups_data[0]))\n",
        "  data_line.append(groups_data[0])\n",
        "  try:\n",
        "    data_voc_ru[year].insert(len(data_voc_ru[year].columns), 'education', groups_data[1])\n",
        "    data_voc_ru[year].insert(len(data_voc_ru[year].columns), 'government', groups_data[2])\n",
        "    data_voc_ru[year].insert(len(data_voc_ru[year].columns), 'physic', groups_data[3])\n",
        "    data_voc_ru[year].insert(len(data_voc_ru[year].columns), 'legal', groups_data[4])\n",
        "  except:\n",
        "    print('already inserted')\n",
        "df_app_types = (pd.DataFrame(data_line, columns=['no_data', 'education', 'government', 'legal', 'individual'], index=years))\n",
        "#df_app_types.plot(kind='bar', title='Распределение распоряжений по типам правообладателей')\n",
        "ax = df_app_types.plot(kind='bar', figsize=(10, 7))\n",
        "for i in range(len('types')):\n",
        "  ax.bar_label(ax.containers[i])\n",
        "\n"
      ],
      "metadata": {
        "id": "5b_iQ8POf6SK"
      },
      "execution_count": null,
      "outputs": []
    },
    {
      "cell_type": "code",
      "source": [
        "data_voc_ru[year].columns"
      ],
      "metadata": {
        "id": "YjQIp_ZUHUhh"
      },
      "execution_count": null,
      "outputs": []
    },
    {
      "cell_type": "code",
      "source": [
        "# правообладатели действующих патентов\n",
        "types = ['no_data', 'education', 'government', 'legal', 'individual']\n",
        "types = ['нет данных', 'образование и наука', 'государство', 'коммерческ.', 'физлица']\n",
        "data_line = []\n",
        "for year in data_voc.keys():\n",
        "  print(year)\n",
        "  # смотрю распределение распорядителей по 4 категориям\n",
        "  active_patents_df = data_voc[year][data_voc[year]['patent number'] != 'no_data']\n",
        "  groups_data = app_categories(active_patents_df['applicant'], active_patents_df['authors'])\n",
        "  #print(data_voc[year]['applicant'])\n",
        "  #print('groups_data', groups_data[1])\n",
        "  print('education', 'government', 'legal', 'physic', groups_data[0], 'сумма', sum(groups_data[0]))\n",
        "  data_line.append(groups_data[0])\n",
        "  try:\n",
        "    data_voc[year].insert(len(data_voc[year].columns), 'education', groups_data[1])\n",
        "    data_voc[year].insert(len(data_voc[year].columns), 'government', groups_data[2])\n",
        "    data_voc[year].insert(len(data_voc[year].columns), 'physic', groups_data[3])\n",
        "    data_voc[year].insert(len(data_voc[year].columns), 'legal', groups_data[4])\n",
        "  except:\n",
        "    #print('already inserted')\n",
        "    nothing = 0\n",
        "df_app_types = (pd.DataFrame(data_line, columns=['no_data', 'education', 'government', 'legal', 'individual'], index=years))\n",
        "#df_app_types.plot(kind='bar', title='Распределение распоряжений по типам правообладателей')\n",
        "ax = df_app_types.plot(kind='bar', figsize=(15, 7))\n",
        "for i in range(len('types')):\n",
        "  ax.bar_label(ax.containers[i])\n",
        "ax.legend(bbox_to_anchor=(0., 1.02, 1., .102), loc='lower left', ncols=5, mode=\"expand\", borderaxespad=0.)"
      ],
      "metadata": {
        "id": "9dfWMpKyUp-M"
      },
      "execution_count": null,
      "outputs": []
    },
    {
      "cell_type": "code",
      "source": [
        "\n"
      ],
      "metadata": {
        "id": "44nQ7xFzu_4P"
      },
      "execution_count": null,
      "outputs": []
    },
    {
      "cell_type": "code",
      "source": [],
      "metadata": {
        "id": "ntXcuqFOsg6p"
      },
      "execution_count": null,
      "outputs": []
    },
    {
      "cell_type": "markdown",
      "source": [
        "# Давайте посмотрим наиболее активных авторов\n"
      ],
      "metadata": {
        "id": "2y8XAbYmgzhX"
      }
    },
    {
      "cell_type": "code",
      "source": [
        "def plot_cloud(wordcloud):\n",
        "    # Устанавливаем размер картинки\n",
        "    plt.figure(figsize=(15, 10))\n",
        "    # Показать изображение\n",
        "    plt.imshow(wordcloud)\n",
        "    # Без подписей на осях\n",
        "    plt.axis(\"off\")"
      ],
      "metadata": {
        "id": "C1eVOIWernmS"
      },
      "execution_count": null,
      "outputs": []
    },
    {
      "cell_type": "code",
      "source": [
        "# функция сбора массива с названиями патентов автора\n",
        "\n",
        "def author_titles_check(author_name):\n",
        "  author_titles = ''\n",
        "  print(author_name)\n",
        "  author_patents = data_voc['2018'][data_voc['2018']['authors'].str.contains(author_name)]['claims'].tolist()\n",
        "  #print(author_patents)\n",
        "  for title in author_patents:\n",
        "    #print(title.split(',')[0].replace('1. ',''))\n",
        "    author_titles += title.split(',')[0].replace('1. ','').replace('\\n', '') + ' '\n",
        "\n",
        "  return author_titles.lower()"
      ],
      "metadata": {
        "id": "n-dSZDxVrxVN"
      },
      "execution_count": null,
      "outputs": []
    },
    {
      "cell_type": "code",
      "source": [],
      "metadata": {
        "id": "S1_waAl3rjPq"
      },
      "execution_count": null,
      "outputs": []
    },
    {
      "cell_type": "markdown",
      "source": [
        "Курдюмов Владимир Иванович, Зыкин Евгений Сергеевич, Сутягин Сергей Алексеевич, Смирнов Алексей Сергеевич - представители профессорско-преподавательского состава, патенты принадлежат вузам, в которых они работали, но все они не действуют.\n",
        "\n"
      ],
      "metadata": {
        "id": "NxNNSI-XwhN9"
      }
    },
    {
      "cell_type": "markdown",
      "source": [
        "Отдельно следует выделить Бороненко Юрия Павловича, патенты под его авторством принадлежат Акционерному обществу \"Научно-внедренческий центр \"Вагоны\" (АО \"НВЦ \"Вагоны\"). Это коммерческое предприятие, а он его основатель. Почти все патенты действуют.\n",
        "Вполне могу поверить, что 35 патентов на ПМ были получены с его творческим вкладом. Во-первых, он основатель НВЦ \"Вагоны\", во-вторых, он профессионал в этой области, в-третьих, он не выглядит, как \"успешный\" бизнесмен, а выглядит, как представитель творческой интеллигенции. Понятно, что субъективно, но вот фильм о нем: https://www.youtube.com/watch?app=desktop&v=7JPKBhPU7Wg\n",
        "\n",
        "А ниже облако из названий патентов с его авторством.\n"
      ],
      "metadata": {
        "id": "tj-OKRHrw0jd"
      }
    },
    {
      "cell_type": "code",
      "source": [
        "author_name = 'Бороненко Юрий Павлович'\n",
        "STOPWORDS_RU = get_stop_words('russian')\n",
        "text = author_titles_check(author_name)\n",
        "print(text)\n",
        "wordcloud = WordCloud(width = 2000,\n",
        "                      height = 1500,\n",
        "                      random_state=1,\n",
        "                      background_color='black',\n",
        "                      margin=20,\n",
        "                      colormap='Pastel1',\n",
        "                      collocations=False,\n",
        "                      stopwords = STOPWORDS_RU).generate(text)\n",
        "plot_cloud(wordcloud)"
      ],
      "metadata": {
        "id": "tMBdwbtAF60Y"
      },
      "execution_count": null,
      "outputs": []
    },
    {
      "cell_type": "code",
      "source": [],
      "metadata": {
        "id": "T_MxZBDMswmb"
      },
      "execution_count": null,
      "outputs": []
    },
    {
      "cell_type": "code",
      "source": [],
      "metadata": {
        "id": "CtRwbuS4hCf5"
      },
      "execution_count": null,
      "outputs": []
    },
    {
      "cell_type": "code",
      "source": [
        "# проверка действуют ли патенты автора\n",
        "def author_status_check(author_name, year):\n",
        "  author_status = []\n",
        "  total = 0\n",
        "  active = 0\n",
        "\n",
        "  author_patents = data_voc[year][data_voc[year]['authors'].str.contains(author_name)]['status'].tolist()\n",
        "  for status in author_patents:\n",
        "    author_status.append(status.split('(')[0].strip())\n",
        "  author_status_df = pd.DataFrame(author_status)\n",
        "  print(author_status_df.value_counts())\n",
        "  try:\n",
        "    active1 = author_status_df.value_counts().loc[['действует']][0]\n",
        "  except:\n",
        "    active1 = 0\n",
        "  try:\n",
        "    active2 = author_status_df.value_counts().loc[['может прекратить свое действие']][0]\n",
        "  except:\n",
        "    active2 = 0\n",
        "  active = active1 + active2\n",
        "  non_active = sum(author_status_df.value_counts().values) - active\n",
        "  authhor_data_line = [author_name, non_active, active]\n",
        "\n",
        "  return authhor_data_line\n",
        "\n",
        "# топ авторов\n",
        "for app_df, year in zip(data_voc.values(), years):\n",
        "  print('====================', year, '====================')\n",
        "  author_patent_status_voc = {}\n",
        "  all = []\n",
        "  authors_status = []\n",
        "  authors_column = app_df['authors']\n",
        "  authors_column = authors_column\n",
        "  for author in authors_column[:]:\n",
        "    regex = r' \\(\\w\\w\\)'\n",
        "    separated = re.split(regex, author)[:-1]\n",
        "    for s in separated:\n",
        "      all.append(s.replace(',', '').replace(';', ''))\n",
        "\n",
        "  all_authors_df = pd.DataFrame(all)\n",
        "  top_10_authors = all_authors_df.value_counts()[:10]\n",
        "\n",
        "  counter = 1\n",
        "  for author_name in top_10_authors.index:\n",
        "    print('author_name', author_name)\n",
        "    author_patent_status = author_status_check(author_name[0], year)\n",
        "    authors_status.append(author_patent_status + [counter])\n",
        "    counter += 1\n",
        "  authors_df = pd.DataFrame(authors_status, columns=['name', 'Не действует', 'Действует', 'number'])\n",
        "\n",
        "  names = ''\n",
        "  for name, num in zip(authors_df['name'], authors_df['number']):\n",
        "    names += str(num) + '. ' + name + '\\n'\n",
        "  authors_df.plot(x='number', y=[ 'Действует', 'Не действует'], kind='bar', figsize=(10, 5), stacked=True, color=['green', 'red'], xlabel=names,  grid=True, title = year)\n"
      ],
      "metadata": {
        "id": "0VpSLd27nZ81"
      },
      "execution_count": null,
      "outputs": []
    },
    {
      "cell_type": "code",
      "source": [],
      "metadata": {
        "id": "yezFXxBO_pba"
      },
      "execution_count": null,
      "outputs": []
    },
    {
      "cell_type": "code",
      "source": [
        "# active - not-active by years\n",
        "columns_act_non_active = ['действует', 'может прекратить действие', 'может быть восстановлен', 'не действует']\n",
        "active_non_active_data = []\n",
        "for year in years:\n",
        "  #print(len(data_voc[year]), year)\n",
        "  active_patents = (len(data_voc[year][data_voc[year]['status'].str.contains('действует')])) - (len(data_voc[year][data_voc[year]['status'].str.contains('не действует')]))\n",
        "  #print('active_patents', active_patents)\n",
        "  semi_active_patents = (len(data_voc[year][data_voc[year]['status'].str.contains('может прекратить')]))\n",
        "  #print('semi_active_patents', semi_active_patents)\n",
        "  can_become_active_patents = (len(data_voc[year][data_voc[year]['status'].str.contains('может быть восстановлен')]))\n",
        "  non_active_patents = (len(data_voc[year][data_voc[year]['status'].str.contains('не действует')]))\n",
        "  #print('non_active_patents', non_active_patents)\n",
        "\n",
        "  #print('can_become_active_patents', can_become_active_patents)\n",
        "  no_data_patents = (len(data_voc[year][data_voc[year]['status'].str.contains('no_data')]))\n",
        "  #print('no_data_patents', no_data_patents)\n",
        "  print('sum', (active_patents+semi_active_patents+non_active_patents+can_become_active_patents + no_data_patents))\n",
        "  active_non_active_data.append([active_patents, semi_active_patents, can_become_active_patents, non_active_patents])\n",
        "active_non_active_df = pd.DataFrame(active_non_active_data, columns=columns_act_non_active, index=years)\n",
        "active_non_active_df.plot(kind='bar', figsize=(10, 8), xlabel='год', color = ['green', 'blue', 'grey', 'red'])\n"
      ],
      "metadata": {
        "id": "M9kBLBKhtsRf"
      },
      "execution_count": null,
      "outputs": []
    },
    {
      "cell_type": "code",
      "source": [
        "#data_voc['2018'][data_voc['2018']['status'].str.contains('не действует')]"
      ],
      "metadata": {
        "id": "XB5egx2ObkQo"
      },
      "execution_count": null,
      "outputs": []
    },
    {
      "cell_type": "code",
      "source": [
        "active_non_active_df"
      ],
      "metadata": {
        "id": "AnfHEjFmITlf"
      },
      "execution_count": null,
      "outputs": []
    },
    {
      "cell_type": "code",
      "source": [],
      "metadata": {
        "id": "UBH0OWfKDBVV"
      },
      "execution_count": null,
      "outputs": []
    },
    {
      "cell_type": "markdown",
      "source": [
        "# На этом с анализом авторов закончу, посмотрим, что интересного можно найти у правообладателей"
      ],
      "metadata": {
        "id": "rG7sbbUFalqC"
      }
    },
    {
      "cell_type": "code",
      "source": [],
      "metadata": {
        "id": "O25ZAvfYgVGp"
      },
      "execution_count": null,
      "outputs": []
    },
    {
      "cell_type": "code",
      "source": [
        "app_status = []\n",
        "all_data = pd.Series([0, 0, 0 , 0, 0])\n",
        "for year in years:\n",
        "  status_active = 0\n",
        "  status_not_active = 0\n",
        "  status_can_be_active = 0\n",
        "  status_can_be_not_active = 0\n",
        "  status_no_data = 0\n",
        "\n",
        "  all_app_status = data_voc_ru[year]['status'].tolist()\n",
        "  print('общее количество', len(all_app_status))\n",
        "  for status in all_app_status[:]:\n",
        "    #print(status)\n",
        "    if status.split('(')[0].strip() == 'действует':\n",
        "      status_active += 1\n",
        "    elif status.split('(')[0].strip() == 'не действует':\n",
        "      status_not_active += 1\n",
        "    elif status.split('(')[0].strip() == 'может прекратить свое действие':\n",
        "      status_can_be_not_active += 1\n",
        "    elif status.split('(')[0].strip() == 'прекратил действие, но может быть восстановлен':\n",
        "      status_can_be_active += 1\n",
        "    else:\n",
        "      status_no_data += 1\n",
        "  app_status.append([status_active/len(all_app_status), status_not_active/len(all_app_status), status_can_be_not_active/len(all_app_status), status_can_be_active/len(all_app_status), status_no_data/len(all_app_status)])\n",
        "\n",
        "app_status_df = pd.DataFrame(app_status, columns = ['действует', 'не действует', 'может прекратить свое действие', 'может быть восстановлен', 'no_data'])\n",
        "app_status_df['years'] = years\n",
        "print(app_status_df)\n",
        "app_status_df.plot(x='years', y=['действует', 'не действует', 'может прекратить свое действие', 'может быть восстановлен', 'no_data'], kind='bar', figsize=(14, 7), xlabel='Years', stacked=True, grid=True)\n",
        "\n",
        "\n",
        "all_data.dropna(inplace=True)\n",
        "#print(all_data)"
      ],
      "metadata": {
        "id": "bs1811sNgU5K"
      },
      "execution_count": null,
      "outputs": []
    },
    {
      "cell_type": "code",
      "source": [
        "app_df.info()"
      ],
      "metadata": {
        "id": "NvHricKDgxs_"
      },
      "execution_count": null,
      "outputs": []
    },
    {
      "cell_type": "markdown",
      "source": [
        "#патенты РЕЙЛ Кипр"
      ],
      "metadata": {
        "id": "KBgnaupCdzz1"
      }
    },
    {
      "cell_type": "code",
      "source": [
        "x_visual= x_visual.replace('Российская Федерация, от имени которой выступает Государственная корпорация по атомной энергии \"Росатом\" (Госкорпорация \"Росатом\")', 'Росатом')\n",
        "x_visual= x_visual.replace('Федеральное государственное унитарное предприятие', 'ФГУП')\n",
        "x_visual= x_visual.replace('Российский федеральный ядерный центр - Всероссийский научно-исследовательский институт экспериментальной физики\" (ФГУП \"РФЯЦ-ВНИИЭФ\")', 'ФГУП \"РФЯЦ-ВНИИЭФ\"')\n",
        "x_visual"
      ],
      "metadata": {
        "id": "JKG27AHnVCIz"
      },
      "execution_count": null,
      "outputs": []
    },
    {
      "cell_type": "code",
      "source": [
        "# проверка действуют ли патенты заявителя\n",
        "def app_status_check(data_voc, app_name, year):\n",
        "  applicant = ''\n",
        "  original_app_name = app_name\n",
        "  app_name = app_name.split('(')[0]\n",
        "  app_patents = data_voc[year][data_voc[year]['applicant'].str.contains(app_name)]['status'].tolist()\n",
        "  app_status_active = 0\n",
        "  app_status_total = 0\n",
        "  for status in app_patents:\n",
        "    app_status_total += 1\n",
        "    if status.split('(')[0].strip() == 'действует':\n",
        "      app_status_active += 1\n",
        "    original_app_name = original_app_name.replace('Федеральное государственное бюджетное образовательное учреждение высшего образования', '')\n",
        "    original_app_name = original_app_name.replace('Публичное акционерное общество', 'ПАО')\n",
        "    original_app_name = original_app_name.replace('Общество с ограниченной ответственностью', 'ООО')\n",
        "    original_app_name = original_app_name.replace('Федеральное государственное автономное образовательное учреждение высшего образования', '')\n",
        "    original_app_name = original_app_name.replace('Федеральное государственное автономное образовательное учреждение высшего образования', '')\n",
        "    original_app_name = original_app_name.replace('Федеральное государственное казенное военное образовательное учреждение высшего образования', '')\n",
        "    original_app_name = original_app_name.replace('Федеральное государственное автономное образовательное учреждение высшего образования', '')\n",
        "    original_app_name = original_app_name.replace('Федеральное государственное бюджетное образовательное учреждение высшего образования', '')\n",
        "    original_app_name = original_app_name.replace('Федеральное государственное казенное военное образовательное учреждение высшего образования', '')\n",
        "    original_app_name = original_app_name.replace('Федеральное государственное бюджетное образовательное учреждение высшего образования', '')\n",
        "    original_app_name = original_app_name.replace('Федеральное государственное бюджетное научное учреждение', '')\n",
        "    original_app_name = original_app_name.replace('ФЕДЕРАЛЬНОЕ ГОСУДАРСТВЕННОЕ КАЗЕННОЕ ВОЕННОЕ ОБРАЗОВАТЕЛЬНОЕ УЧРЕЖДЕНИЕ ВЫСШЕГО ОБРАЗОВАНИЯ', '')\n",
        "    original_app_name = original_app_name.replace('Федеральное государственное казенное военное образовательное учреждение высшего образования', '')\n",
        "    original_app_name = original_app_name.replace('Министерства обороны Российской Федерации', '')\n",
        "    original_app_name = original_app_name.replace('ОБЩЕСТВО С ОГРАНИЧЕННОЙ ОТВЕТСТВЕННОСТЬЮ', 'ООО')\n",
        "    original_app_name = original_app_name.replace('Акционерное общество', 'АО')\n",
        "\n",
        "  app_status_info = [original_app_name, app_status_total, app_status_total-app_status_active, app_status_active]\n",
        "  return app_status_info\n",
        "\n",
        "# топ заявителей\n",
        "for app_df, year in zip(data_voc_ru.values(), years):\n",
        "  print('====================', year, '====================')\n",
        "  all = []\n",
        "  app_column = app_df['applicant']\n",
        "  top_10_app = app_column.value_counts()[0:10]\n",
        "  #print(top_10_app, '\\n')\n",
        "  applicant_visualisation = []\n",
        "  counter = [i for i in range(1, 11)]\n",
        "  for app_name in (top_10_app.index):\n",
        "    app_status_results = app_status_check(data_voc_ru, app_name, year)\n",
        "    applicant_visualisation.append(app_status_results)\n",
        "  applicant_visualisation_df = pd.DataFrame(applicant_visualisation, columns=['Патентообладатель', 'Всего', 'Не действуют', 'Дейсвуют']).sort_values(by='Всего', ascending=False)\n",
        "  applicant_visualisation_df['№'] = counter\n",
        "  x_visual = ''\n",
        "  for num, app in zip(applicant_visualisation_df['№'], applicant_visualisation_df['Патентообладатель']):\n",
        "    x_visual += (str(num) + ' ' + app + '\\n')\n",
        "  x_visual= x_visual.replace('Российская Федерация, от имени которой выступает Государственная корпорация по атомной энергии \"Росатом\" (Госкорпорация \"Росатом\")', 'Росатом')\n",
        "  x_visual= x_visual.replace('Федеральное государственное унитарное предприятие', 'ФГУП')\n",
        "  x_visual= x_visual.replace('Российский федеральный ядерный центр - Всероссийский научно-исследовательский институт экспериментальной физики\" (ФГУП \"РФЯЦ-ВНИИЭФ\")', 'ФГУП \"РФЯЦ-ВНИИЭФ\"')\n",
        "  x_visual= x_visual.replace('Федеральное государственное автономное учреждение \"Национальный медицинский исследовательский центр \"Межотраслевой научно-технический комплекс \"Микрохирургия глаза\" имени академика С.Н. Федорова\" Министерства здравоохранения Российской Федерации ', 'МНТК «Микрохирургия глаза» им. акад. С.Н. Федорова')\n",
        "  x_visual= x_visual.replace('Военный учебно-научный центр Военно-воздушных сил \"Военно-воздушная академия имени профессора Н.Е. Жуковского и Ю.А. Гагарина', 'ВУНЦ ВВС \"ВВА им. Н.Е. Жуковского и Ю.А. Гагарина\"')\n",
        "  x_visual= x_visual.replace('федеральное государственное бюджетное образовательное учреждение высшего образования \"Волгоградский государственный аграрный университет\" (ФГБОУ ВО Волгоградский ГАУ)', 'ФГБОУ ВО Волгоградский ГАУ')\n",
        "  x_visual= x_visual.replace('федеральное государственное автономное образовательное учреждение высшего образования \"Белгородский государственный национальный исследовательский университет\" (НИУ \"БелГУ\")', 'НИУ \"БелГУ\"')\n",
        "  x_visual= x_visual.replace('федеральное государственное бюджетное образовательное учреждение высшего образования «Санкт-Петербургский горный университет»', 'ФГБОУ ВО')\n",
        "  print(x_visual)\n",
        "  applicant_visualisation_df.plot(x='№', y=[ 'Дейсвуют', 'Не действуют'], kind='bar', figsize=(10, 5), xlabel=x_visual, stacked=True, grid=True, title = year, color=['green', 'red'])\n"
      ],
      "metadata": {
        "id": "rvouaHd8ecek"
      },
      "execution_count": null,
      "outputs": []
    },
    {
      "cell_type": "markdown",
      "source": [
        "Что мы видим. Патенты поддерживают в силе в основном только коммерческие организации. Вузы, которые являются лидерами по подаче, патенты за поддержание патентов в силе не платят, потому что они им не нужны.\n",
        "Исключение - это последние года, потому что пошлину за поддержание в силе за первый год все платят.\n",
        "Камаз стабильно в десятке лидеров и поддерживает свои патенты, посмотрим, что он защищает."
      ],
      "metadata": {
        "id": "uN-kkroCTCE1"
      }
    },
    {
      "cell_type": "code",
      "source": [
        "\n"
      ],
      "metadata": {
        "id": "jZsSAt7ige2J"
      },
      "execution_count": null,
      "outputs": []
    },
    {
      "cell_type": "code",
      "source": [
        "# функция сбора массива с названиями патентов заявителя\n",
        "\n",
        "def applicant_titles_check(applicant_name):\n",
        "  applicant_titles = ''\n",
        "  print(applicant_name)\n",
        "  applicant_patents = app_df[app_df['applicant'].str.contains(applicant_name)]['claims'].tolist()\n",
        "  #print(author_patents)\n",
        "  for title in applicant_patents:\n",
        "    #print(title.split(',')[0].replace('1. ',''))\n",
        "    applicant_titles += title.split(',')[0].replace('1. ','').replace('\\n', '') + ' '\n",
        "\n",
        "  return applicant_titles.lower()"
      ],
      "metadata": {
        "id": "Cj8n-OEKU6pK"
      },
      "execution_count": null,
      "outputs": []
    },
    {
      "cell_type": "code",
      "source": [
        "# облако названий патентов Камаза\n",
        "\n",
        "applicant_name = 'КАМАЗ'\n",
        "STOPWORDS_RU = get_stop_words('russian')\n",
        "text = applicant_titles_check(applicant_name)\n",
        "print(text)\n",
        "wordcloud = WordCloud(width = 2000,\n",
        "                      height = 1500,\n",
        "                      random_state=1,\n",
        "                      background_color='black',\n",
        "                      margin=20,\n",
        "                      colormap='Pastel1',\n",
        "                      collocations=False,\n",
        "                      stopwords = STOPWORDS_RU).generate(text)\n",
        "plot_cloud(wordcloud)"
      ],
      "metadata": {
        "id": "J4g5et6sU6pK"
      },
      "execution_count": null,
      "outputs": []
    },
    {
      "cell_type": "markdown",
      "source": [
        "В последние два года как-то очень активно начал патентовать \"Рузхиммаш\", посмотрим, что он защищает.\n"
      ],
      "metadata": {
        "id": "lvhcJ0jaWfqF"
      }
    },
    {
      "cell_type": "code",
      "source": [
        "# облако слов названий патентов Рузхиммаша\n",
        "applicant_name = 'Рузхиммаш'\n",
        "STOPWORDS_RU = get_stop_words('russian')\n",
        "text = applicant_titles_check(applicant_name)\n",
        "print(text)\n",
        "text = text.replace('вагона', 'вагон')\n",
        "wordcloud = WordCloud(width = 2000,\n",
        "                      height = 1500,\n",
        "                      random_state=1,\n",
        "                      background_color='black',\n",
        "                      margin=20,\n",
        "                      colormap='Pastel1',\n",
        "                      collocations=False,\n",
        "                      stopwords = STOPWORDS_RU).generate(text)\n",
        "plot_cloud(wordcloud)"
      ],
      "metadata": {
        "id": "o1urcrMXVm10"
      },
      "execution_count": null,
      "outputs": []
    },
    {
      "cell_type": "markdown",
      "source": [
        "Вопреки названию Рузхиммаш - крупнейший российский производитель грузового подвижного состава, и патенты его относятся к этой теме, конечно.\n",
        "Посмотрим, что у этой компании с авторами."
      ],
      "metadata": {
        "id": "AHgYDAodXXtx"
      }
    },
    {
      "cell_type": "code",
      "source": [
        "applicant_authors = app_df[app_df['applicant'].str.contains('Рузхиммаш')]['authors'].to_list()\n",
        "all_authors = (','.join(applicant_authors).split(','))\n",
        "print(pd.DataFrame(all_authors).value_counts()[:5])\n"
      ],
      "metadata": {
        "id": "9pUrPymDtG_g"
      },
      "execution_count": null,
      "outputs": []
    },
    {
      "cell_type": "markdown",
      "source": [
        "Среди топ-5 авторов четверо первых технические специалисты. Про Лаврова гугл ничего не знает, что говорит о том, что он, скорее всего, тоже инженер.\n",
        "Это грамотный подход к организации патентной деятельности, настоящие авторы должны быть указаны в патенте, хочется верить, что они также получают авторские вознаграждения за свой интеллектуальный труд."
      ],
      "metadata": {
        "id": "39nImj_xZzi7"
      }
    },
    {
      "cell_type": "code",
      "source": [],
      "metadata": {
        "id": "W9tHeADfZyXD"
      },
      "execution_count": null,
      "outputs": []
    },
    {
      "cell_type": "markdown",
      "source": [
        "Вернемся к первончальной задаче, посмотрим динамику отказов в выдаче патентов и динамику заявок, которые оказались отозванными (то есть их забросил заявитель).\n",
        "\n"
      ],
      "metadata": {
        "id": "gLAAR5D3azoD"
      }
    },
    {
      "cell_type": "code",
      "source": [
        "year_total = []\n",
        "years = []\n",
        "for year in data_voc.keys():\n",
        "  years.append(year)\n",
        "  total = len(data_voc[year])/100\n",
        "  year_total.append(len(data_voc[year][data_voc[year]['withdrawal date'] != 'no_data'])/total)\n",
        "print(year_total)\n",
        "plt.bar(years, year_total, color='g')\n",
        "plt.title('Dynamics of withdrawing applications by years')\n",
        "plt.xlabel('year\\n\\n fig.1')\n",
        "plt.show()"
      ],
      "metadata": {
        "id": "Ua645fNQTujO"
      },
      "execution_count": null,
      "outputs": []
    },
    {
      "cell_type": "code",
      "source": [
        "year_total = []\n",
        "years = []\n",
        "for year in data_voc.keys():\n",
        "  years.append(year)\n",
        "  total = len(data_voc[year])/100\n",
        "  year_total.append(len(data_voc[year][data_voc[year]['refuse date'] != 'no_data'])/total)\n",
        "\n",
        "print(year_total)\n",
        "plt.bar(years, year_total, color='g')\n",
        "plt.title('Dynamics of refusing applications by years')\n",
        "plt.xlabel('year\\n\\n fig.1')\n",
        "plt.show()\n",
        "\n"
      ],
      "metadata": {
        "id": "0jGEbBCldAws"
      },
      "execution_count": null,
      "outputs": []
    },
    {
      "cell_type": "code",
      "source": [],
      "metadata": {
        "id": "nIuSXoXfi1pY"
      },
      "execution_count": null,
      "outputs": []
    },
    {
      "cell_type": "code",
      "source": [
        "year_total = []\n",
        "years = []\n",
        "for year in data_voc.keys():\n",
        "  years.append(year)\n",
        "  total = len(data_voc[year])/100\n",
        "  year_total.append(len(data_voc[year][data_voc[year]['grant date'] != 'no_data'])/1)\n",
        "print(year_total)\n",
        "plt.bar(years, year_total, color='g')\n",
        "plt.title('Dynamics of granting applications by years')\n",
        "plt.title('Динамика выдачи патентов по годам')\n",
        "plt.xlabel('год')\n",
        "plt.ylabel('количество')\n",
        "for x, y in zip(years, year_total):\n",
        "    plt.text(x, y + 0.05, '%d' % y, ha='center', va = 'bottom')\n",
        "plt.show()"
      ],
      "metadata": {
        "id": "H_xyjPuggo7G"
      },
      "execution_count": null,
      "outputs": []
    },
    {
      "cell_type": "markdown",
      "source": [
        "Посмотрим как часто не выдают патенты год от года\n",
        "Как видно из рисунка в 20,21 годах произошел резкий рост количества заявок, по которым по разным причинам не выдан патент.\n",
        "Посмотрим на какие решения не выдавали патенты больше всего."
      ],
      "metadata": {
        "id": "956EZ4RpxFIL"
      }
    },
    {
      "cell_type": "code",
      "source": [
        "year_total = []\n",
        "years = []\n",
        "for year in data_voc.keys():\n",
        "  years.append(year)\n",
        "  total = len(data_voc[year])/100\n",
        "  year_total.append(len(data_voc[year][data_voc[year]['grant date'] == 'no_data'])/total)\n",
        "  ipc_non_grant = (data_voc[year][data_voc[year]['grant date'] == 'no_data']['ipc'])\n",
        "  ipc_non_grant.to_list()\n",
        "print(year_total)\n",
        "plt.bar(years, year_total, color='g')\n",
        "plt.title('Dynamics of non-granting applications by years')\n",
        "plt.title('Динамика невыдачи патентов по годам')\n",
        "plt.xlabel('year')\n",
        "plt.xlabel('год')\n",
        "plt.ylabel('persent')\n",
        "plt.ylabel('процент')\n",
        "for x, y in zip(years, year_total):\n",
        "    plt.text(x, y + 0.05, '%d' % y, ha='center', va = 'bottom')\n",
        "plt.show()"
      ],
      "metadata": {
        "id": "mURm4DR-jGBS"
      },
      "execution_count": null,
      "outputs": []
    },
    {
      "cell_type": "code",
      "source": [],
      "metadata": {
        "id": "b82HXwDLHTKv"
      },
      "execution_count": null,
      "outputs": []
    },
    {
      "cell_type": "code",
      "source": [
        "# облака слов названий по годам\n",
        "for year in data_voc.keys():\n",
        "  claims_data = (';'.join(data_voc[year].claims.str.split(',')[0]))\n",
        "  STOPWORDS_RU = get_stop_words('russian')\n",
        "  text = claims_data\n",
        "  print(text)\n",
        "  wordcloud = WordCloud(width = 2000,\n",
        "                        height = 1500,\n",
        "                        random_state=1,\n",
        "                        background_color='black',\n",
        "                        margin=20,\n",
        "                        colormap='Pastel1',\n",
        "                        collocations=False,\n",
        "                        stopwords = STOPWORDS_RU).generate(text)\n",
        "  plot_cloud(wordcloud)"
      ],
      "metadata": {
        "id": "IvuyORcSx3Oe"
      },
      "execution_count": null,
      "outputs": []
    },
    {
      "cell_type": "code",
      "source": [
        "# выдача патентов по МПК\n",
        "new_df = pd.DataFrame()\n",
        "year_total = []\n",
        "years = []\n",
        "ipc_stat_df = pd.DataFrame()\n",
        "for year in data_voc.keys():\n",
        "  total = len(data_voc[year])/100\n",
        "  ipc_short = []\n",
        "  years.append(year)\n",
        "  for i in (','.join(data_voc[year][data_voc[year]['grant date'] != 'no_data']['ipc'].to_list()).replace(' ','').split(',')):\n",
        "    ipc_short.append(i[:1])\n",
        "  ipc_stat_df = pd.concat([ipc_stat_df, pd.DataFrame(ipc_short).value_counts()[:100]], axis=1)\n",
        "ipc_stat_df.columns = years\n",
        "\n",
        "\n",
        "ipc_stat_df.iloc[:8].plot(kind='bar', color = ['grey', 'black', 'red',  'green', 'blue'], xlabel='класс МПК')\n",
        "print(new_df.transpose().iloc[:8])"
      ],
      "metadata": {
        "id": "rqp8SYyaQBaT"
      },
      "execution_count": null,
      "outputs": []
    },
    {
      "cell_type": "code",
      "source": [
        "# выдача патентов по МПК\n",
        "new_df = pd.DataFrame()\n",
        "year_total = []\n",
        "years = []\n",
        "ipc_stat_df = pd.DataFrame()\n",
        "for year in data_voc.keys():\n",
        "  total = len(data_voc[year])/100\n",
        "  ipc_short = []\n",
        "  years.append(year)\n",
        "  for i in (','.join(data_voc[year][data_voc[year]['grant date'] != 'no_data']['ipc'].to_list()).replace(' ','').split(',')):\n",
        "    ipc_short.append(i[:3])\n",
        "  ipc_stat_df = pd.concat([ipc_stat_df, pd.DataFrame(ipc_short).value_counts()[:100]], axis=1)\n",
        "ipc_stat_df.columns = years\n",
        "\n",
        "for i in ipc_stat_df.index:\n",
        "  if 'G' in i[0]:\n",
        "    new_df = pd.concat([new_df, ipc_stat_df.loc[i]], axis=1)\n",
        "new_df.transpose().iloc[:8].plot(kind='bar', color = ['grey', 'black', 'red',  'green', 'blue'], xlabel='класс МПК')\n",
        "print(new_df.transpose().iloc[:8])"
      ],
      "metadata": {
        "id": "9oFeX-EQykNh"
      },
      "execution_count": null,
      "outputs": []
    },
    {
      "cell_type": "code",
      "source": [
        "# выдача патентов по МПК\n",
        "year_total = []\n",
        "years = []\n",
        "ipc_stat_df = pd.DataFrame()\n",
        "for year in data_voc.keys():\n",
        "  total = len(data_voc[year])/100\n",
        "  ipc_short = []\n",
        "  years.append(year)\n",
        "  for i in (','.join(data_voc[year][data_voc[year]['grant date'] != 'no_data']['ipc'].to_list()).replace(' ','').split(',')):\n",
        "    ipc_short.append(i[:2])\n",
        "  ipc_stat_df = pd.concat([ipc_stat_df, pd.DataFrame(ipc_short).value_counts()[:50]], axis=1)\n",
        "ipc_stat_df.columns = years\n",
        "#ipc_stat_df = ipc_stat_df.drop(index='n')\n",
        "ipc_stat_df.plot(kind='bar', color=['grey', 'black', 'red',  'green', 'blue'], figsize=(15, 7), xlabel='класс МПК', ylabel='количество', title='Динамика выдачи патентов по классам МПК')\n",
        "\n",
        "# нормализация к общему числу патентов, поданных в год\n",
        "ipc_stat_df_normalized = pd.DataFrame()\n",
        "for column, total in zip(ipc_stat_df, app_per_year):\n",
        "  ipc_stat_df_normalized = pd.concat([ipc_stat_df_normalized, (ipc_stat_df[column]/int(total)*100)], axis=1)\n",
        "ipc_stat_df_normalized.plot(kind='bar', color = ['grey', 'black', 'red',  'green', 'blue'], figsize=(15, 7), xlabel='класс МПК', ylabel='процент', title = 'Динамика выдачи патентов по классам МПК \\n(нормализовано к общему числу патентов)')"
      ],
      "metadata": {
        "id": "HxOIx5j5EJCz"
      },
      "execution_count": null,
      "outputs": []
    },
    {
      "cell_type": "code",
      "source": [],
      "metadata": {
        "id": "p1JK2QWAeEb6"
      },
      "execution_count": null,
      "outputs": []
    },
    {
      "cell_type": "code",
      "source": [
        "ipc_stat_df.iloc[[2, 3]]"
      ],
      "metadata": {
        "id": "7BvAGXavhAvr"
      },
      "execution_count": null,
      "outputs": []
    },
    {
      "cell_type": "code",
      "source": [
        "ipc_stat_df.iloc[[2, 3]].plot(kind='bar', color=['grey', 'black', 'red',  'green', 'blue'], xlabel='класс МПК', ylabel='количество', title='Динамика выдачи патентов по классам МПК')\n",
        "ax = ipc_stat_df.iloc[[2, 3]].plot(kind='bar')\n",
        "for p in ax.patches:\n",
        "  ax.annotate(str(p.get_height()), (p.get_x() * 1.005, p.get_height() * 1.005))\n"
      ],
      "metadata": {
        "id": "f37TlzY7d0Vj"
      },
      "execution_count": null,
      "outputs": []
    },
    {
      "cell_type": "markdown",
      "source": [
        "Я не могу определить, по каким МПК отказы, так как нет данных по тем заявкам, по которым получен отказ, поэтому я могу посмотреть только по каким заявкам вдруг стали выдавать меньше патентов."
      ],
      "metadata": {
        "id": "wH7SMlgh9ytW"
      }
    },
    {
      "cell_type": "code",
      "source": [],
      "metadata": {
        "id": "-4HVYmft9_3A"
      },
      "execution_count": null,
      "outputs": []
    },
    {
      "cell_type": "code",
      "source": [
        "# количество запросов по годам (сколько было 0, 1, 2, 3, 4 запроса)\n",
        "for year in years:\n",
        "  print(year, data_voc[year]['substantive exam amount'].value_counts())"
      ],
      "metadata": {
        "id": "u737E7399E2-"
      },
      "execution_count": null,
      "outputs": []
    },
    {
      "cell_type": "code",
      "source": [
        "# факт запросов по существу по МПК\n",
        "year_total = []\n",
        "years = []\n",
        "ipc_stat_df = pd.DataFrame()\n",
        "for year in data_voc.keys():\n",
        "  ipc_short = []\n",
        "  years.append(year)\n",
        "  for i in (','.join(data_voc[year][(data_voc[year]['substantive exam amount'] != '0')]['ipc'].to_list()).replace(' ','').split(',')):\n",
        "    ipc_short.append(i[:1])\n",
        "  ipc_stat_df = pd.concat([ipc_stat_df, pd.DataFrame(ipc_short).value_counts()[:30]], axis=1)\n",
        "ipc_stat_df.columns = years\n",
        "print(ipc_stat_df)\n",
        "try:\n",
        "  ipc_stat_df = ipc_stat_df.drop(index='n')\n",
        "except:\n",
        "  nothing = 0\n",
        "\n",
        "# нормализация к общему числу патентов, поданных в год\n",
        "ipc_stat_df_normalized = pd.DataFrame()\n",
        "for column, total in zip(ipc_stat_df, app_per_year):\n",
        "  ipc_stat_df_normalized = pd.concat([ipc_stat_df_normalized, (ipc_stat_df[column]/int(total)*100)], axis=1)\n",
        "ipc_stat_df_normalized.plot(kind='bar', color = ['grey', 'black', 'red',  'green', 'blue'])"
      ],
      "metadata": {
        "id": "am6EYjmIMb2-"
      },
      "execution_count": null,
      "outputs": []
    },
    {
      "cell_type": "code",
      "source": [
        "# 1 запрос по существу по МПК\n",
        "year_total = []\n",
        "years = []\n",
        "ipc_stat_df = pd.DataFrame()\n",
        "for year in data_voc.keys():\n",
        "  ipc_short = []\n",
        "  years.append(year)\n",
        "  for i in (','.join(data_voc[year][(data_voc[year]['substantive exam amount'] == '1')]['ipc'].to_list()).replace(' ','').split(',')):\n",
        "    ipc_short.append(i[:1])\n",
        "  ipc_stat_df = pd.concat([ipc_stat_df, pd.DataFrame(ipc_short).value_counts()[:30]], axis=1)\n",
        "ipc_stat_df.columns = years\n",
        "print(ipc_stat_df)\n",
        "try:\n",
        "  ipc_stat_df = ipc_stat_df.drop(index='n')\n",
        "except:\n",
        "  nothing = 0\n",
        "\n",
        "# нормализация к общему числу патентов, поданных в год\n",
        "ipc_stat_df_normalized = pd.DataFrame()\n",
        "for column, total in zip(ipc_stat_df, app_per_year):\n",
        "  ipc_stat_df_normalized = pd.concat([ipc_stat_df_normalized, (ipc_stat_df[column]/int(total)*100)], axis=1)\n",
        "ipc_stat_df_normalized.plot(kind='bar', color = ['grey', 'black', 'red',  'green', 'blue'])"
      ],
      "metadata": {
        "id": "HUUMseaL8dCw"
      },
      "execution_count": null,
      "outputs": []
    },
    {
      "cell_type": "code",
      "source": [
        "# 2 запроса по существу по МПК\n",
        "year_total = []\n",
        "years = []\n",
        "ipc_stat_df = pd.DataFrame()\n",
        "for year in data_voc.keys():\n",
        "  ipc_short = []\n",
        "  years.append(year)\n",
        "  for i in (','.join(data_voc[year][(data_voc[year]['substantive exam amount'] == '2')]['ipc'].to_list()).replace(' ','').split(',')):\n",
        "    ipc_short.append(i[:1])\n",
        "  ipc_stat_df = pd.concat([ipc_stat_df, pd.DataFrame(ipc_short).value_counts()[:30]], axis=1)\n",
        "ipc_stat_df.columns = years\n",
        "print(ipc_stat_df)\n",
        "try:\n",
        "  ipc_stat_df = ipc_stat_df.drop(index='n')\n",
        "except:\n",
        "  nothing = 0\n",
        "\n",
        "# нормализация к общему числу патентов, поданных в год\n",
        "ipc_stat_df_normalized = pd.DataFrame()\n",
        "for column, total in zip(ipc_stat_df, app_per_year):\n",
        "  ipc_stat_df_normalized = pd.concat([ipc_stat_df_normalized, (ipc_stat_df[column]/int(total)*100)], axis=1)\n",
        "ipc_stat_df_normalized.plot(kind='bar', color = ['grey', 'black', 'red',  'green', 'blue'])"
      ],
      "metadata": {
        "id": "l0q-tBK88pOe"
      },
      "execution_count": null,
      "outputs": []
    },
    {
      "cell_type": "code",
      "source": [
        "# 3 запроса по существу по МПК\n",
        "year_total = []\n",
        "years = []\n",
        "ipc_stat_df = pd.DataFrame()\n",
        "for year in data_voc.keys():\n",
        "  ipc_short = []\n",
        "  years.append(year)\n",
        "  for i in (','.join(data_voc[year][(data_voc[year]['substantive exam amount'] == '3')]['ipc'].to_list()).replace(' ','').split(',')):\n",
        "    ipc_short.append(i[:1])\n",
        "  ipc_stat_df = pd.concat([ipc_stat_df, pd.DataFrame(ipc_short).value_counts()[:30]], axis=1)\n",
        "ipc_stat_df.columns = years\n",
        "print(ipc_stat_df)\n",
        "try:\n",
        "  ipc_stat_df = ipc_stat_df.drop(index='n')\n",
        "except:\n",
        "  nothing = 0\n",
        "\n",
        "# нормализация к общему числу патентов, поданных в год\n",
        "ipc_stat_df_normalized = pd.DataFrame()\n",
        "for column, total in zip(ipc_stat_df, app_per_year):\n",
        "  ipc_stat_df_normalized = pd.concat([ipc_stat_df_normalized, (ipc_stat_df[column]/int(total)*100)], axis=1)\n",
        "ipc_stat_df_normalized.plot(kind='bar', color = ['grey', 'black', 'red',  'green', 'blue'])"
      ],
      "metadata": {
        "id": "b7E2K-jOSBiD"
      },
      "execution_count": null,
      "outputs": []
    },
    {
      "cell_type": "code",
      "source": [
        "# 4 запроса по существу по МПК\n",
        "year_total = []\n",
        "years = []\n",
        "ipc_stat_df = pd.DataFrame()\n",
        "for year in data_voc.keys():\n",
        "  ipc_short = []\n",
        "  years.append(year)\n",
        "  for i in (','.join(data_voc[year][(data_voc[year]['substantive exam amount'] == '4')]['ipc'].to_list()).replace(' ','').split(',')):\n",
        "    ipc_short.append(i[:1])\n",
        "  ipc_stat_df = pd.concat([ipc_stat_df, pd.DataFrame(ipc_short).value_counts()[:30]], axis=1)\n",
        "ipc_stat_df.columns = years\n",
        "print(ipc_stat_df)\n",
        "try:\n",
        "  ipc_stat_df = ipc_stat_df.drop(index='n')\n",
        "except:\n",
        "  nothing = 0\n",
        "\n",
        "# нормализация к общему числу патентов, поданных в год\n",
        "ipc_stat_df_normalized = pd.DataFrame()\n",
        "for column, total in zip(ipc_stat_df, app_per_year):\n",
        "  ipc_stat_df_normalized = pd.concat([ipc_stat_df_normalized, (ipc_stat_df[column]/int(total)*100)], axis=1)\n",
        "ipc_stat_df_normalized.plot(kind='bar', color = ['grey', 'black', 'red',  'green', 'blue'])"
      ],
      "metadata": {
        "id": "M0UCe_lNSJBb"
      },
      "execution_count": null,
      "outputs": []
    },
    {
      "cell_type": "markdown",
      "source": [
        "Виден какой-то огромный скачок в МПК А в 2021 году. При этом величина этого скачка в 0,5% от общего числа заявок, поэтому выявить причину достаточно тяжело"
      ],
      "metadata": {
        "id": "CAloZqgDANTY"
      }
    },
    {
      "cell_type": "code",
      "source": [
        "year_total = []\n",
        "years = []\n",
        "\n",
        "for year in data_voc.keys():\n",
        "  hard_patents = ''\n",
        "  data = (data_voc[year][(data_voc[year]['ipc'].str[0] == 'F') & (data_voc[year]['substantive exam amount'] == '1')]['claims'])\n",
        "  #print(data.tolist())\n",
        "  for i in data.tolist():\n",
        "\n",
        "    hard_patents = hard_patents + i.split(',')[0] + '; '\n",
        "\n",
        "\n",
        "  STOPWORDS_RU = get_stop_words('russian')\n",
        "  text = hard_patents\n",
        "  print(text)\n",
        "  wordcloud = WordCloud(width = 2000,\n",
        "                        height = 1500,\n",
        "                        random_state=1,\n",
        "                        background_color='black',\n",
        "                        margin=20,\n",
        "                        colormap='Pastel1',\n",
        "                        collocations=False,\n",
        "                        stopwords = STOPWORDS_RU).generate(text)\n",
        "  #plot_cloud(wordcloud)\n",
        "\n"
      ],
      "metadata": {
        "id": "LWd2aRCgAd4N"
      },
      "execution_count": null,
      "outputs": []
    },
    {
      "cell_type": "markdown",
      "source": [
        "Количество заявок без запросов по существу"
      ],
      "metadata": {
        "id": "J_rIxFCRwk84"
      }
    },
    {
      "cell_type": "code",
      "source": [
        "data_voc[year].columns"
      ],
      "metadata": {
        "id": "QPgzPRcQUpPR"
      },
      "execution_count": null,
      "outputs": []
    },
    {
      "cell_type": "code",
      "source": [
        "## ЗДЕСЬ НУЖНО УБРАТЬ ЗАЯВКИ, КОТОРЫЕ НЕ ПРОШЛИ ФОРМАЛЬНУЮ ЭКСПЕРТИЗУ ИЛИ УЧИТЫВАТЬ ТОЛЬКО ВЫДАННЫЕ ПАТЕНТЫ\n",
        "year_total = []\n",
        "years = []\n",
        "for year in data_voc.keys():\n",
        "  years.append(year)\n",
        "  total = len(data_voc[year])/100\n",
        "  subs_ex = data_voc[year][(data_voc[year]['substantive exam amount'] == '0') & (data_voc[year]['formal exam'] != 'no_data')]\n",
        "  year_total.append(len(subs_ex)/total)\n",
        "  ipc_non_grant = (data_voc[year][data_voc[year]['grant date'] == 'no_data']['ipc'])\n",
        "  ipc_non_grant.to_list()\n",
        "print(year_total)\n",
        "plt.bar(years, year_total, color='g')\n",
        "plt.title('Dynamics of no substantive examinations by years')\n",
        "plt.xlabel('year')\n",
        "plt.ylabel('persent')\n",
        "plt.show()"
      ],
      "metadata": {
        "id": "A_Iis7qycw0I"
      },
      "execution_count": null,
      "outputs": []
    },
    {
      "cell_type": "markdown",
      "source": [
        "Количество заявок, по которым без запроса по существу выдают патент падает с 65 до 55%."
      ],
      "metadata": {
        "id": "UMQipxY7EzAM"
      }
    },
    {
      "cell_type": "markdown",
      "source": [
        "Посмотрим на количество запросов по существу"
      ],
      "metadata": {
        "id": "BZ3bWMoxq6wO"
      }
    },
    {
      "cell_type": "code",
      "source": [
        "all_exams = []\n",
        "years = []\n",
        "for year in data_voc.keys():\n",
        "  years.append(year)\n",
        "  total = (len(data_voc[year]))/100\n",
        "  exams_0 = len(data_voc[year][(data_voc[year]['substantive exam amount'] == '0') & (data_voc[year]['formal exam'] != 'no_data')])\n",
        "  exams_1 = len(data_voc[year][(data_voc[year]['substantive exam amount'] == '1') & (data_voc[year]['formal exam'] != 'no_data')])\n",
        "  exams_2 = len(data_voc[year][(data_voc[year]['substantive exam amount'] == '2') & (data_voc[year]['formal exam'] != 'no_data')])\n",
        "\n",
        "  #print(exams_0, exams_1, exams_2)\n",
        "\n",
        "  all_exams.append([\n",
        "          exams_0/total,\n",
        "          exams_1/total,\n",
        "          exams_2/total\n",
        "        ])\n",
        "print(years)\n",
        "exams_df = pd.DataFrame(all_exams, columns=['0 examinations', '1 examination', '2 examinations'], index=years)\n",
        "print(exams_df)\n",
        "exams_df.plot(kind='bar')\n"
      ],
      "metadata": {
        "id": "W2tXa8eHFQKU"
      },
      "execution_count": null,
      "outputs": []
    },
    {
      "cell_type": "markdown",
      "source": [
        "Посмотрим на динамику отказов и на динамику отзывов"
      ],
      "metadata": {
        "id": "aw6SqOWCymem"
      }
    },
    {
      "cell_type": "code",
      "source": [
        "all_exams = []\n",
        "years = []\n",
        "for year in data_voc.keys():\n",
        "  years.append(year)\n",
        "  total = (len(data_voc[year]))/100\n",
        "  refuse = len(data_voc[year][data_voc[year]['refuse date'] != 'no_data'])\n",
        "  withdrawn = len(data_voc[year][data_voc[year]['withdrawal date'] != 'no_data'])\n",
        "  grant = len(data_voc[year][data_voc[year]['grant date'] != 'no_data'])\n",
        "  rest = len(data_voc[year][(data_voc[year]['grant date'] == 'no_data') & (data_voc[year]['withdrawal date'] == 'no_data') & (data_voc[year]['refuse date'] == 'no_data')])\n",
        "  rest2 =(data_voc[year][(data_voc[year]['grant date'] == 'no_data') & (data_voc[year]['withdrawal date'] == 'no_data') & (data_voc[year]['refuse date'] == 'no_data')])\n",
        "  all_exams.append([\n",
        "          refuse/total,\n",
        "          withdrawn/total,\n",
        "          rest/total\n",
        "        ])\n",
        "\n",
        "exams_df = pd.DataFrame(all_exams, columns=['refusal number', 'withdrawal number',  'no data number'], index=years)\n",
        "print(exams_df)\n",
        "exams_df.plot(kind='bar')"
      ],
      "metadata": {
        "id": "ctCJrMX9ymHM"
      },
      "execution_count": null,
      "outputs": []
    },
    {
      "cell_type": "code",
      "source": [
        "\n"
      ],
      "metadata": {
        "id": "5OwtuUG_rUCf"
      },
      "execution_count": null,
      "outputs": []
    },
    {
      "cell_type": "markdown",
      "metadata": {
        "id": "7qcDV-_2oLU1"
      },
      "source": [
        "# 8. Кто чаще получает отказы в этих МПК (физики, юрики, госучреждения)\n",
        "\n",
        "Это можно сделать только для ИЗ, для ПМ такие заявки не публикуются"
      ]
    },
    {
      "cell_type": "markdown",
      "metadata": {
        "id": "WMuBtb9CoM69"
      },
      "source": [
        "# 9. Кто несмотря ни на что получает патенты в этих МПК"
      ]
    },
    {
      "cell_type": "code",
      "execution_count": null,
      "metadata": {
        "id": "NN8Gwoem8S1U"
      },
      "outputs": [],
      "source": []
    },
    {
      "cell_type": "code",
      "execution_count": null,
      "metadata": {
        "id": "fWbv2cYwYcea"
      },
      "outputs": [],
      "source": [
        "\n"
      ]
    },
    {
      "cell_type": "code",
      "execution_count": null,
      "metadata": {
        "id": "LVp6EZ5pcdtE"
      },
      "outputs": [],
      "source": []
    },
    {
      "cell_type": "code",
      "execution_count": null,
      "metadata": {
        "id": "RfSsto29jiyC"
      },
      "outputs": [],
      "source": []
    },
    {
      "cell_type": "code",
      "execution_count": null,
      "metadata": {
        "id": "DIrhL4V27Q5I"
      },
      "outputs": [],
      "source": []
    },
    {
      "cell_type": "code",
      "execution_count": null,
      "metadata": {
        "id": "AjcTigrbuQ75"
      },
      "outputs": [],
      "source": []
    },
    {
      "cell_type": "code",
      "execution_count": null,
      "metadata": {
        "id": "kD2QODq4kAF2"
      },
      "outputs": [],
      "source": []
    }
  ],
  "metadata": {
    "colab": {
      "provenance": [],
      "collapsed_sections": [
        "HTepkj-0wAhx"
      ],
      "mount_file_id": "1K6LUeTa-OvWTbWEqyYXCpboJpv-nRkjT",
      "authorship_tag": "ABX9TyOxuS+IsVtMSWae6wyMa80R",
      "include_colab_link": true
    },
    "kernelspec": {
      "display_name": "Python 3",
      "name": "python3"
    },
    "language_info": {
      "name": "python"
    }
  },
  "nbformat": 4,
  "nbformat_minor": 0
}