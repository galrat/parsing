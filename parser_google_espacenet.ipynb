{
  "nbformat": 4,
  "nbformat_minor": 0,
  "metadata": {
    "colab": {
      "provenance": [],
      "authorship_tag": "ABX9TyMG5qtU4RZ3QVOP/buKEj3C",
      "include_colab_link": true
    },
    "kernelspec": {
      "name": "python3",
      "display_name": "Python 3"
    },
    "language_info": {
      "name": "python"
    }
  },
  "cells": [
    {
      "cell_type": "markdown",
      "metadata": {
        "id": "view-in-github",
        "colab_type": "text"
      },
      "source": [
        "<a href=\"https://colab.research.google.com/github/galrat/parsing/blob/main/parser_google_espacenet.ipynb\" target=\"_parent\"><img src=\"https://colab.research.google.com/assets/colab-badge.svg\" alt=\"Open In Colab\"/></a>"
      ]
    },
    {
      "cell_type": "markdown",
      "source": [
        "1. Взять список номеров, получить список ссылок для гугл-патентов\n",
        "2. Пройтись по всем ссылкам и спарсить данные\n",
        "3. Одновременно получить ссылки на espacenet спарсить данные оттуда\n",
        "4. объединить данные с гугл и espacenet\n",
        "5. сохранить результаты на диске"
      ],
      "metadata": {
        "id": "HkbPbzy4daIi"
      }
    },
    {
      "cell_type": "code",
      "execution_count": 1,
      "metadata": {
        "colab": {
          "base_uri": "https://localhost:8080/"
        },
        "id": "8ZIq2SFhdUqX",
        "outputId": "e106b236-3375-4ad1-fb7a-bd3eb370a24c"
      },
      "outputs": [
        {
          "output_type": "stream",
          "name": "stdout",
          "text": [
            "Collecting selenium\n",
            "  Downloading selenium-4.16.0-py3-none-any.whl (10.0 MB)\n",
            "\u001b[2K     \u001b[90m━━━━━━━━━━━━━━━━━━━━━━━━━━━━━━━━━━━━━━━━\u001b[0m \u001b[32m10.0/10.0 MB\u001b[0m \u001b[31m36.8 MB/s\u001b[0m eta \u001b[36m0:00:00\u001b[0m\n",
            "\u001b[?25hRequirement already satisfied: urllib3[socks]<3,>=1.26 in /usr/local/lib/python3.10/dist-packages (from selenium) (2.0.7)\n",
            "Collecting trio~=0.17 (from selenium)\n",
            "  Downloading trio-0.23.2-py3-none-any.whl (461 kB)\n",
            "\u001b[2K     \u001b[90m━━━━━━━━━━━━━━━━━━━━━━━━━━━━━━━━━━━━━━━━\u001b[0m \u001b[32m461.6/461.6 kB\u001b[0m \u001b[31m27.7 MB/s\u001b[0m eta \u001b[36m0:00:00\u001b[0m\n",
            "\u001b[?25hCollecting trio-websocket~=0.9 (from selenium)\n",
            "  Downloading trio_websocket-0.11.1-py3-none-any.whl (17 kB)\n",
            "Requirement already satisfied: certifi>=2021.10.8 in /usr/local/lib/python3.10/dist-packages (from selenium) (2023.11.17)\n",
            "Requirement already satisfied: attrs>=20.1.0 in /usr/local/lib/python3.10/dist-packages (from trio~=0.17->selenium) (23.1.0)\n",
            "Requirement already satisfied: sortedcontainers in /usr/local/lib/python3.10/dist-packages (from trio~=0.17->selenium) (2.4.0)\n",
            "Requirement already satisfied: idna in /usr/local/lib/python3.10/dist-packages (from trio~=0.17->selenium) (3.6)\n",
            "Collecting outcome (from trio~=0.17->selenium)\n",
            "  Downloading outcome-1.3.0.post0-py2.py3-none-any.whl (10 kB)\n",
            "Requirement already satisfied: sniffio>=1.3.0 in /usr/local/lib/python3.10/dist-packages (from trio~=0.17->selenium) (1.3.0)\n",
            "Requirement already satisfied: exceptiongroup in /usr/local/lib/python3.10/dist-packages (from trio~=0.17->selenium) (1.2.0)\n",
            "Collecting wsproto>=0.14 (from trio-websocket~=0.9->selenium)\n",
            "  Downloading wsproto-1.2.0-py3-none-any.whl (24 kB)\n",
            "Requirement already satisfied: pysocks!=1.5.7,<2.0,>=1.5.6 in /usr/local/lib/python3.10/dist-packages (from urllib3[socks]<3,>=1.26->selenium) (1.7.1)\n",
            "Collecting h11<1,>=0.9.0 (from wsproto>=0.14->trio-websocket~=0.9->selenium)\n",
            "  Downloading h11-0.14.0-py3-none-any.whl (58 kB)\n",
            "\u001b[2K     \u001b[90m━━━━━━━━━━━━━━━━━━━━━━━━━━━━━━━━━━━━━━━━\u001b[0m \u001b[32m58.3/58.3 kB\u001b[0m \u001b[31m3.7 MB/s\u001b[0m eta \u001b[36m0:00:00\u001b[0m\n",
            "\u001b[?25hInstalling collected packages: outcome, h11, wsproto, trio, trio-websocket, selenium\n",
            "Successfully installed h11-0.14.0 outcome-1.3.0.post0 selenium-4.16.0 trio-0.23.2 trio-websocket-0.11.1 wsproto-1.2.0\n"
          ]
        }
      ],
      "source": [
        "!pip install selenium\n"
      ]
    },
    {
      "cell_type": "code",
      "source": [
        "from selenium import webdriver\n",
        "from selenium.webdriver.chrome.options import Options\n",
        "\n",
        "import requests\n",
        "import time\n",
        "\n",
        "from selenium.webdriver.common.by import By\n",
        "from bs4 import BeautifulSoup\n",
        "from selenium.webdriver.support.ui import WebDriverWait\n",
        "from selenium.webdriver.support import expected_conditions as ec\n",
        "import pandas as pd\n",
        "from google.colab import files\n",
        "from selenium.webdriver.common.by import By"
      ],
      "metadata": {
        "id": "5wTHdaYLelVg"
      },
      "execution_count": 34,
      "outputs": []
    },
    {
      "cell_type": "markdown",
      "source": [
        "# defs"
      ],
      "metadata": {
        "id": "abomb5QSgsiu"
      }
    },
    {
      "cell_type": "code",
      "source": [
        "def get_claim_google(soup):\n",
        "  all = soup.find_all('div', class_='flex flex-width style-scope patent-result')[-1].find_all('div', class_='claim-text style-scope patent-text')[1]\n",
        "  return all.text\n",
        "\n",
        "def get_claim_google_2(soup):\n",
        "  try:\n",
        "      # all\n",
        "      try:\n",
        "          try:\n",
        "              all = soup.find('div', class_='claim-text style-scope patent-text').find('span', class_='notranslate style-scope patent-text').text\n",
        "          except:\n",
        "              all = soup.find('div', class_='claim-text style-scope patent-text').text\n",
        "          #print('all', all)\n",
        "      except:\n",
        "          all = soup.find('section', id='claims').find('span', class_='notranslate style-scope patent-text').text\n",
        "          print('all', all)\n",
        "\n",
        "      # original\n",
        "      try:\n",
        "          original = soup.find('div', class_='claim-text style-scope patent-text').find('span',\n",
        "                                                                                        class_='notranslate style-scope patent-text').find(\n",
        "              'span').text\n",
        "      except:\n",
        "          try:\n",
        "              original = soup.find('section', id='claims').find('span',\n",
        "                                                                class_='notranslate style-scope patent-text').find(\n",
        "                  'span').text\n",
        "          except:\n",
        "              original = ''\n",
        "      print('original', original)\n",
        "\n",
        "      # translation\n",
        "      claim_1 = all.replace(original, '')\n",
        "      #print('claim 1:', claim_1)\n",
        "  except:\n",
        "      claim_1 = 'no_data'\n",
        "  if claim_1 == '' or claim_1 == 'no_data':\n",
        "    try:\n",
        "      claim_1 = soup.find_all('div', class_='flex flex-width style-scope patent-result')[-1].find_all('div', class_='claim-text style-scope patent-text')[1].text\n",
        "    except:\n",
        "      claim_1 = 'no_data'\n",
        "  return claim_1"
      ],
      "metadata": {
        "id": "xBzTYo8AMeB6"
      },
      "execution_count": 35,
      "outputs": []
    },
    {
      "cell_type": "code",
      "source": [
        "def get_data_from_google_patent(soup):\n",
        "\n",
        "  # title\n",
        "  title = soup.find('div', id='wrapper').find('h1', id='title').text.replace('\\n', '').strip()\n",
        "  #print('title:', title)\n",
        "\n",
        "  # patent_number\n",
        "  patent_number = soup.find('h2', id='pubnum').text.strip().replace('\\n', '').replace('\\t', '')\n",
        "  #print('patent_number:', patent_number)\n",
        "\n",
        "  # applicant\n",
        "  author_counter = 0\n",
        "  applicant_counter = 0\n",
        "  counter = 0\n",
        "  author_check = 0\n",
        "  applicant_check = 0\n",
        "  important_people_data = soup.find('dl', class_='important-people style-scope patent-result')\n",
        "  for i in important_people_data.find_all('dt', class_='style-scope patent-result'):\n",
        "      if 'Inventor' in i.text:\n",
        "          author_counter = counter\n",
        "          author_check = 1\n",
        "      if 'Assignee' in i.text:\n",
        "          applicant_counter = counter\n",
        "          applicant_check = 1\n",
        "      counter += 1\n",
        "  #print('author_counter', author_counter, 'applicant_counter', applicant_counter)\n",
        "\n",
        "  authors = ''\n",
        "  if author_check == 1:\n",
        "      try:\n",
        "          authors_data = soup.find('dl', class_='important-people style-scope patent-result')\n",
        "          authors_data = authors_data.find_all('dt', class_='style-scope patent-result')[\n",
        "              author_counter].find_next_siblings('dd')\n",
        "          for author in authors_data:\n",
        "              if '\\n' in author.text:\n",
        "                  break\n",
        "              authors = authors + author.text + ';'\n",
        "          authors = authors.replace('\\n', '')\n",
        "      except:\n",
        "          #print('no authors data')\n",
        "          authors = ('no authors data')\n",
        "  else:\n",
        "      authors = 'no_data'\n",
        "\n",
        "  applicants = ''\n",
        "  if applicant_check == 1:\n",
        "      try:\n",
        "          applicants_data = soup.find('dl', class_='important-people style-scope patent-result')\n",
        "          applicants_data = applicants_data.find_all('dt', class_='style-scope patent-result')[\n",
        "              applicant_counter].find_next_siblings('dd')\n",
        "          for applicant in applicants_data:\n",
        "              applicants = applicants + applicant.text.strip() + ';'\n",
        "          applicants = applicants.replace('\\n', '').strip()\n",
        "      except:\n",
        "          #print('no applicants data')\n",
        "          applicants = ('no applicants data')\n",
        "  else:\n",
        "      applicants = 'no_data'\n",
        "\n",
        "  # filing_date\n",
        "  filind_date = 'no_data'\n",
        "  publication_date = 'no_data'\n",
        "  status = 'no_data'\n",
        "  dates_data = soup.find_all('div', class_='event layout horizontal style-scope application-timeline')\n",
        "  for data in dates_data:\n",
        "      if 'filed by' in data.text:\n",
        "          filind_date = data.text.split('Application')[0]\n",
        "          #print('filing date:', filind_date)\n",
        "      if 'Publication' in data.text:\n",
        "          publication_date = data.text.split('Publication')[0]\n",
        "          #print('Publication date:', publication_date)\n",
        "      if 'Status' in  data.text:\n",
        "          status = data.text.split('Status')[1].replace('\\n', '').replace('\\t', '')\n",
        "          #print('Status:', status)\n",
        "\n",
        "  # application number\n",
        "  try:\n",
        "      application_number = soup.find_all('div', class_='header style-scope application-timeline')[1].text\n",
        "      application_number = application_number.split('Application')[1].split('events')[0].replace(' ','')\n",
        "  except:\n",
        "      print('no application number data')\n",
        "      application_number = 'no data'\n",
        "  #print('application_number', application_number)\n",
        "\n",
        "\n",
        "  patent_type = 'no_data'\n",
        "  #print('ipc text', soup.find('div', class_='style-scope classification-viewer').find('div', 'style-scope classification-tree').text)\n",
        "\n",
        "  ipc_data = 'no_data'\n",
        "  try:\n",
        "      ipcs = soup.find('div', class_='style-scope classification-viewer').find_all('div', class_='style-scope classification-tree')\n",
        "      for ipc in ipcs:\n",
        "          ipc_class = ipc.find(first=True).text.strip().replace('\\n', '').replace('\\t', '')\n",
        "          #print('ipc', ipc_class)\n",
        "      #print(ipc_class)\n",
        "  except:\n",
        "      ipc_data = 'no_data'\n",
        "\n",
        "  ipc_datas = soup.find_all('div', class_='style-scope classification-tree')\n",
        "  for i in ipc_datas[:1]:\n",
        "      target = i.find_all(class_='code style-scope classification-tree')\n",
        "      #print('target ipc', target[-1].text)\n",
        "      # print(i.text.strip())\n",
        "      ipc_data = target[-1].text\n",
        "\n",
        "  # claim 1\n",
        "  claim_1 = ''\n",
        "  try:\n",
        "    claim_1 = get_claim_google_2(soup)\n",
        "    #print('claim_1 google', claim_1)\n",
        "  except:\n",
        "    print('no claims')\n",
        "\n",
        "  # abstract\n",
        "  abstract = ''\n",
        "  try:\n",
        "    abstract_orig = soup.find('section', id='abstract').find('span', class_='google-src-text style-scope patent-text').text#.text.replace('\\n', '').replace('\\t', '').replace('Abstracttranslated from ', '')\n",
        "    #print('abstract_orig', abstract_orig)\n",
        "    abstract_all = soup.find('section', id='abstract').text\n",
        "    #print('abstract_all', abstract_all)\n",
        "    abstract_eng = abstract_all.replace(abstract_orig, '').strip()\n",
        "    abstract_eng = abstract_eng.replace('\\n', '')\n",
        "    #print('abstract_eng', abstract_eng)\n",
        "    abstract = abstract_eng\n",
        "  except:\n",
        "    abstract = soup.find('section', id='abstract').text.replace('\\n', '')\n",
        "\n",
        "\n",
        "  # other applications county code\n",
        "  others = ''\n",
        "  other_app = soup.find('div', class_='wrap style-scope application-timeline').find('div',\n",
        "                                                                                    class_='event style-scope application-timeline').find_all(\n",
        "      'a')\n",
        "  for other in other_app:\n",
        "      country_code = other.text.strip()\n",
        "      others += country_code + ','\n",
        "  #print(others)\n",
        "\n",
        "  printing = 0\n",
        "  while printing:\n",
        "      print('patent_number:', patent_number)\n",
        "      print('application_number:', application_number)\n",
        "      print('title:', title)\n",
        "      print('type:', patent_type)\n",
        "      print('filind_date:', filind_date)\n",
        "      print('applicant:', applicants)\n",
        "      print('authors:', authors)\n",
        "      print('ipc_data:', ipc_data)\n",
        "      print('publication_date:', publication_date)\n",
        "      print('abstract:', abstract)\n",
        "      print('claim_1:', claim_1)\n",
        "      print('status:', status)\n",
        "      print('others:', others)\n",
        "      break\n",
        "\n",
        "  header = ['patent number', 'application_number', 'title', 'INV/UM', 'filing_date', 'applicant', 'autors',\n",
        "                          'publiction_date', 'ipc', 'claims', 'status', 'abstract', 'other_applications']\n",
        "  data_line = []\n",
        "  data_line.append(patent_number)\n",
        "  data_line.append(application_number)\n",
        "  data_line.append(title)\n",
        "  data_line.append(patent_type)\n",
        "  data_line.append(filind_date)\n",
        "  data_line.append(applicants)\n",
        "  data_line.append(authors)\n",
        "  data_line.append(publication_date)\n",
        "  data_line.append(ipc_data)\n",
        "  data_line.append(claim_1.replace('\\n', ''))\n",
        "  data_line.append(status)\n",
        "  data_line.append(abstract.replace('\\n', ''))\n",
        "  data_line.append(others[:-1])\n",
        "  return data_line\n"
      ],
      "metadata": {
        "id": "1MEGPidAgu5N"
      },
      "execution_count": 49,
      "outputs": []
    },
    {
      "cell_type": "code",
      "source": [
        "def get_from_espacenet(espacenet_url):\n",
        "    #print('def', espacenet_url)\n",
        "    data_line2 = []\n",
        "\n",
        "    options = Options()\n",
        "    options.add_argument(\"--headless\")\n",
        "    options.add_argument('--no-sandbox')\n",
        "    options.add_argument('--user-agent=Mozilla/5.0 (X11; Linux x86_64) AppleWebKit/537.36 (KHTML, like Gecko) Chrome/92.0.4515.131 Safari/537.36')\n",
        "    driver = webdriver.Chrome(options=options)\n",
        "    driver.get(espacenet_url)\n",
        "    time.sleep(2)\n",
        "    WebDriverWait(driver, 20).until(ec.visibility_of_element_located((By.ID, 'pagebody')))\n",
        "\n",
        "    soup = BeautifulSoup(driver.page_source, 'lxml')\n",
        "\n",
        "    #print(soup)\n",
        "    #print('---------------------\\n')\n",
        "    # title\n",
        "    title = soup.find('h3').text.strip().replace('\\n', '').replace('\\t', '')\n",
        "    #print('title:', title)\n",
        "    table = soup.find('table', class_='tableType3')\n",
        "    #print(table.text.strip())\n",
        "    app_num = soup.find('h1', class_='noBottomMargin').text.split('―')[0].split('\\n')[-1].strip().replace('\\xa0', '').replace('(', '').replace(')', '')\n",
        "\n",
        "    applicant = ''\n",
        "    authors = ''\n",
        "    ipc = ''\n",
        "    priority = ''\n",
        "    original_application = ''\n",
        "    others= ''\n",
        "\n",
        "    table_lines = table.find_all('tr')\n",
        "    for line in table_lines:\n",
        "      if 'Applicant(s):' in line.text:\n",
        "        applicant = ' '.join(line.find('td').text.replace('\\n', '').replace('\\t', '').strip().split())\n",
        "        applicant = applicant.split('+')[0].strip()\n",
        "        #print('applicant:', applicant)\n",
        "\n",
        "      if 'Inventor(s):' in line.text:\n",
        "        authors = ' '.join(line.find('td').text.replace('\\n', '').replace('\\t', '').strip().split())\n",
        "        authors = authors.split('+')[0].strip()\n",
        "        #print('authors:', authors)\n",
        "\n",
        "      if 'Classification:' in line.text:\n",
        "        ipc = ' '.join(line.find('td').text.replace('\\n', '').replace('\\t', '').strip().split()).split('- cooperative')[0]\n",
        "        ipc = ipc.replace('- international:', '').strip()\n",
        "        ipc = ipc.split('(IPC1-7)')[0].strip()\n",
        "        #print('ipc:', ipc)\n",
        "\n",
        "      if 'Priority number(s):' in line.text:\n",
        "        priority = ' '.join(line.find('td').text.replace('\\n', '').replace('\\t', '').strip().split()).split('- cooperative')[0]\n",
        "        #print('Priority:', priority)\n",
        "\n",
        "      if 'Application number:' in line.text:\n",
        "        original_application = ' '.join(line.find('td').text.replace('\\n', '').replace('\\t', '').strip().split()).split('- cooperative')[0]\n",
        "        original_application = original_application.replace('Global Dossier', '').strip()\n",
        "        #print('original_application:', original_application)\n",
        "\n",
        "      if 'Also published as:' in line.text:\n",
        "        others = ' '.join(line.find('div', id='lessPublishedAs').text.replace('\\n', '').replace('\\t', '').strip().split()).split('- cooperative')[0]\n",
        "        #others = soup.find('div', id='lessPublishedAs').text.strip()\n",
        "        #print('others:', others)\n",
        "\n",
        "\n",
        "    publication = 'no_data'\n",
        "\n",
        "    abstract = soup.find('div', class_='application article clearfix').find('p').text\n",
        "    #print(abstract)\n",
        "\n",
        "    printing = 0\n",
        "    while printing:\n",
        "        print('title:', title)\n",
        "        print('applicant:', applicant)\n",
        "        print('authors:', authors)\n",
        "        print('ipc:', ipc)\n",
        "        print('priority:', priority)\n",
        "        print('original_application:', original_application)\n",
        "        print('publication:', publication)\n",
        "        print('abstract:', abstract)\n",
        "        print('others:', others)\n",
        "        break\n",
        "\n",
        "    data_line2.append(app_num)\n",
        "    data_line2.append(applicant)\n",
        "    data_line2.append(authors)\n",
        "    data_line2.append(ipc)\n",
        "    data_line2.append(priority)\n",
        "    data_line2.append(original_application)\n",
        "    data_line2.append(publication)\n",
        "    data_line2.append(title)\n",
        "    data_line2.append(abstract)\n",
        "    data_line2.append(others)\n",
        "\n",
        "    header = ['patent_number2', 'applicant2', 'authors2', 'ipc2', 'priority2', 'original2', 'publication2', 'title', 'abstract',\n",
        "              'other_applications']\n",
        "\n",
        "    return (data_line2)"
      ],
      "metadata": {
        "id": "EymjlcKBgyy1"
      },
      "execution_count": 37,
      "outputs": []
    },
    {
      "cell_type": "markdown",
      "source": [
        "# code"
      ],
      "metadata": {
        "id": "hiI7Tjyhgzcu"
      }
    },
    {
      "cell_type": "code",
      "source": [],
      "metadata": {
        "id": "uZo2lxo38E4n"
      },
      "execution_count": 37,
      "outputs": []
    },
    {
      "cell_type": "code",
      "source": [
        "# original numbers for parsing\n",
        "numbers = '''ES2424143T3\n",
        "ES2768232T3\n",
        "BR112019012400A2\n",
        "WO2010089902A1\n",
        "TW593514B\n",
        "WO2014181991A1\n",
        "WO2005040253A1\n",
        "WO2019107773A1\n",
        "WO2022035343A1\n",
        "WO2006048539A1\n",
        "WO2013083402A1\n",
        "WO2013124417A1\n",
        "WO2018130639A1\n",
        "BRPI0807516B1\n",
        "BRPI0923153B1\n",
        "TWI239339B\n",
        "TW572959B\n",
        "BRPI0914314B1\n",
        "EP3307792A1\n",
        "BR112020024317A2\n",
        "WO2012018969A2\n",
        "BR112021013496A2\n",
        "ES2404780A1\n",
        "FR2903991A1\n",
        "FR2877347A1\n",
        "BR112021002594A2\n",
        "WO2021041218A1\n",
        "SE525758C2\n",
        "WO2023146872A2\n",
        "BRPI0819478B1\n",
        "ES2439629T3\n",
        "BRPI0811640B1\n",
        "BR112020024309A2\n",
        "BR112012031519B1\n",
        "BRPI0710456B1\n",
        "BR112013008906B1\n",
        "WO2011125078A1\n",
        "WO2023235746A1\n",
        "'''\n",
        "numbers = '''US7923513B2\n",
        "US7928166B2\n",
        "US7972478B2\n",
        "US7981512B2\n",
        "US7994259B2\n",
        "US8022153B2\n",
        "US8039563B2\n",
        "US8053511B2\n",
        "US8088252B2\n",
        "US8158243B2\n",
        "US8163825B2\n",
        "US8188190B2\n",
        "US8324305B2\n",
        "US8361553B2\n",
        "US8524809B2\n",
        "US8540974B2\n",
        "US8742016B2\n",
        "US8771815B2\n",
        "US8912265B2\n",
        "US9051496B2\n",
        "'''"
      ],
      "metadata": {
        "id": "xtTpXM8eemTY"
      },
      "execution_count": 38,
      "outputs": []
    },
    {
      "cell_type": "code",
      "source": [
        "all_numbers = numbers.split()\n",
        "print('lenght of all_numbers', len(all_numbers))"
      ],
      "metadata": {
        "colab": {
          "base_uri": "https://localhost:8080/"
        },
        "id": "VeYrJwLHe896",
        "outputId": "3da8f663-1fa0-498b-8b3e-1c73aee164c0"
      },
      "execution_count": 39,
      "outputs": [
        {
          "output_type": "stream",
          "name": "stdout",
          "text": [
            "lenght of all_numbers 20\n"
          ]
        }
      ]
    },
    {
      "cell_type": "code",
      "source": [],
      "metadata": {
        "id": "teRpcnpK5RNW"
      },
      "execution_count": 39,
      "outputs": []
    },
    {
      "cell_type": "code",
      "source": [
        "file_for_saving_results = \"/content/saved_results.txt\"\n",
        "\n",
        "header_1 = ['patent number', 'applicant2', 'authors2', 'ipc2', 'priority2', 'original2', 'publication2', 'title_2', 'abstract_2',\n",
        "              'other_applications_2']\n",
        "header_2 = ['patent number', 'application_number', 'title', 'INV/UM', 'filing_date', 'applicant', 'authors',\n",
        "                            'publiction_date', 'ipc', 'claims', 'status', 'abstract', 'other_applications']\n",
        "try:\n",
        "    saved_data = pd.read_csv(file_for_saving_results, sep='\\t')\n",
        "    parsed_numbers = saved_data['original_number'].values\n",
        "except:\n",
        "    parsed_numbers = []\n",
        "    with open(file_for_saving_results, 'a', encoding=\"utf-8\") as file:\n",
        "        file.writelines('\\t'.join(['original_number'] + header_2 + header_1) + '\\n')\n",
        "    print(\"creating new file\")\n",
        "\n",
        "remaining_numbers = list(set(all_numbers) - set(parsed_numbers))\n",
        "print('remaining_numbers', remaining_numbers)\n",
        "print('total remaining', len(remaining_numbers))"
      ],
      "metadata": {
        "colab": {
          "base_uri": "https://localhost:8080/"
        },
        "id": "3Og82OWytW_G",
        "outputId": "40d9fd0c-e77a-49b3-d089-6128f60ad994"
      },
      "execution_count": 40,
      "outputs": [
        {
          "output_type": "stream",
          "name": "stdout",
          "text": [
            "remaining_numbers ['US8088252B2', 'US8324305B2', 'US8540974B2', 'US8742016B2', 'US8039563B2', 'US7928166B2', 'US7923513B2', 'US8053511B2', 'US8158243B2', 'US7994259B2', 'US7972478B2', 'US8912265B2', 'US8361553B2', 'US8188190B2', 'US8771815B2', 'US8022153B2', 'US9051496B2', 'US8163825B2', 'US8524809B2', 'US7981512B2']\n",
            "total remaining 20\n"
          ]
        }
      ]
    },
    {
      "cell_type": "code",
      "source": [
        "# correct app_numbers\n",
        "remaining_numbers_corrected = []\n",
        "for number in remaining_numbers:\n",
        "    if number[:2] == 'WO' and len(number) == 12:\n",
        "        number = 'WO20' + number[2:] + '/en'\n",
        "    remaining_numbers_corrected.append(number)\n",
        "\n",
        "final_urls = []\n",
        "for app_num in remaining_numbers_corrected:\n",
        "  if app_num[:3] == 'US2' and len(app_num) == 14:\n",
        "      url =  app_num[:].replace('-', '')[:6] + '0' + app_num[:].replace('-', '')[6:] + '/en'\n",
        "      url = 'https://patents.google.com/patent/' + url\n",
        "      #print('corrected url', url)\n",
        "  else:\n",
        "      url = 'https://patents.google.com/patent/' + app_num[:].replace('-', '').replace('\\n', '') + '/en'\n",
        "      #print('url', url)\n",
        "  final_urls.append(url)\n",
        "\n",
        "print(final_urls)\n",
        ""
      ],
      "metadata": {
        "colab": {
          "base_uri": "https://localhost:8080/"
        },
        "id": "8336h8hXfbfr",
        "outputId": "58bce09a-de43-4090-8695-3a901a2b28ef"
      },
      "execution_count": 41,
      "outputs": [
        {
          "output_type": "stream",
          "name": "stdout",
          "text": [
            "['https://patents.google.com/patent/US8088252B2/en', 'https://patents.google.com/patent/US8324305B2/en', 'https://patents.google.com/patent/US8540974B2/en', 'https://patents.google.com/patent/US8742016B2/en', 'https://patents.google.com/patent/US8039563B2/en', 'https://patents.google.com/patent/US7928166B2/en', 'https://patents.google.com/patent/US7923513B2/en', 'https://patents.google.com/patent/US8053511B2/en', 'https://patents.google.com/patent/US8158243B2/en', 'https://patents.google.com/patent/US7994259B2/en', 'https://patents.google.com/patent/US7972478B2/en', 'https://patents.google.com/patent/US8912265B2/en', 'https://patents.google.com/patent/US8361553B2/en', 'https://patents.google.com/patent/US8188190B2/en', 'https://patents.google.com/patent/US8771815B2/en', 'https://patents.google.com/patent/US8022153B2/en', 'https://patents.google.com/patent/US9051496B2/en', 'https://patents.google.com/patent/US8163825B2/en', 'https://patents.google.com/patent/US8524809B2/en', 'https://patents.google.com/patent/US7981512B2/en']\n"
          ]
        }
      ]
    },
    {
      "cell_type": "code",
      "source": [
        "# get data by url\n",
        "counter = 1\n",
        "for original_number, url in zip(remaining_numbers, final_urls[:]):\n",
        "  print(counter, '/', len(remaining_numbers))\n",
        "  counter += 1\n",
        "  print(url)\n",
        "  #try:\n",
        "  options = Options()\n",
        "  options.add_argument(\"--headless\")\n",
        "  options.add_argument('--no-sandbox')\n",
        "  options.add_argument('--user-agent=Mozilla/5.0 (X11; Linux x86_64) AppleWebKit/537.36 (KHTML, like Gecko) Chrome/92.0.4515.131 Safari/537.36')\n",
        "  driver = webdriver.Chrome(options=options)\n",
        "  driver.get(url)\n",
        "  WebDriverWait(driver, 20).until(ec.visibility_of_element_located((By.ID, 'content')))\n",
        "  soup = BeautifulSoup(driver.page_source, 'lxml')\n",
        "  data_line_google = get_data_from_google_patent(soup)\n",
        "  print('data_line_google', data_line_google)\n",
        "\n",
        "  # get espacenet url\n",
        "  all_additional_urls = [url.get('href') for url in soup.find('dl', class_='links style-scope patent-result').findAll('a')]\n",
        "  for url in all_additional_urls:\n",
        "    if 'espacenet' in url:\n",
        "      #print('espacenet_url from google', url)\n",
        "      espacenet_url = url\n",
        "      break\n",
        "  print()\n",
        "\n",
        "  # get data using espacent url\n",
        "  data_line_espacenet = get_from_espacenet(espacenet_url)\n",
        "  print('data_line_espacenet', data_line_espacenet)\n",
        "\n",
        "\n",
        "  with open(file_for_saving_results, 'a', encoding=\"utf-8\") as file:\n",
        "      file.writelines('\\t'.join([original_number] + data_line_google + data_line_espacenet) + '\\n')\n",
        "      #print('writing')\n",
        "  #except:\n",
        "    #print('smth wrong with', original_number)\n",
        "  #break\n",
        "print('====================finish=========================')"
      ],
      "metadata": {
        "id": "FYec6h1Weemw"
      },
      "execution_count": null,
      "outputs": []
    },
    {
      "cell_type": "code",
      "source": [
        "# download the created file\n",
        "files.download(file_for_saving_results)"
      ],
      "metadata": {
        "colab": {
          "base_uri": "https://localhost:8080/",
          "height": 17
        },
        "id": "kP2OUbIbuTny",
        "outputId": "ae9572d4-4e28-465f-c223-90f8efab288d"
      },
      "execution_count": 43,
      "outputs": [
        {
          "output_type": "display_data",
          "data": {
            "text/plain": [
              "<IPython.core.display.Javascript object>"
            ],
            "application/javascript": [
              "\n",
              "    async function download(id, filename, size) {\n",
              "      if (!google.colab.kernel.accessAllowed) {\n",
              "        return;\n",
              "      }\n",
              "      const div = document.createElement('div');\n",
              "      const label = document.createElement('label');\n",
              "      label.textContent = `Downloading \"${filename}\": `;\n",
              "      div.appendChild(label);\n",
              "      const progress = document.createElement('progress');\n",
              "      progress.max = size;\n",
              "      div.appendChild(progress);\n",
              "      document.body.appendChild(div);\n",
              "\n",
              "      const buffers = [];\n",
              "      let downloaded = 0;\n",
              "\n",
              "      const channel = await google.colab.kernel.comms.open(id);\n",
              "      // Send a message to notify the kernel that we're ready.\n",
              "      channel.send({})\n",
              "\n",
              "      for await (const message of channel.messages) {\n",
              "        // Send a message to notify the kernel that we're ready.\n",
              "        channel.send({})\n",
              "        if (message.buffers) {\n",
              "          for (const buffer of message.buffers) {\n",
              "            buffers.push(buffer);\n",
              "            downloaded += buffer.byteLength;\n",
              "            progress.value = downloaded;\n",
              "          }\n",
              "        }\n",
              "      }\n",
              "      const blob = new Blob(buffers, {type: 'application/binary'});\n",
              "      const a = document.createElement('a');\n",
              "      a.href = window.URL.createObjectURL(blob);\n",
              "      a.download = filename;\n",
              "      div.appendChild(a);\n",
              "      a.click();\n",
              "      div.remove();\n",
              "    }\n",
              "  "
            ]
          },
          "metadata": {}
        },
        {
          "output_type": "display_data",
          "data": {
            "text/plain": [
              "<IPython.core.display.Javascript object>"
            ],
            "application/javascript": [
              "download(\"download_ebf9ebaa-13ec-4bb9-87e8-b454e58b2b95\", \"saved_results.txt\", 73216)"
            ]
          },
          "metadata": {}
        }
      ]
    },
    {
      "cell_type": "code",
      "source": [
        "url = 'https://patents.google.com/patent/ES2439629T3/en?oq=ES2439629T3'\n",
        "options = Options()\n",
        "options.add_argument(\"--headless\")\n",
        "options.add_argument('--no-sandbox')\n",
        "options.add_argument('--user-agent=Mozilla/5.0 (X11; Linux x86_64) AppleWebKit/537.36 (KHTML, like Gecko) Chrome/92.0.4515.131 Safari/537.36')\n",
        "driver = webdriver.Chrome(options=options)\n",
        "driver.get(url)\n",
        "WebDriverWait(driver, 20).until(ec.visibility_of_element_located((By.ID, 'content')))\n",
        "claim = driver.find_element(by=By.XPATH, value='//*[@id=\"text\"]/claims/claim[1]/claim-text[1]')\n",
        "print('claim', claim)\n",
        "soup = BeautifulSoup(driver.page_source, 'lxml')\n",
        "#data_line_google = get_data_from_google_patent(soup)\n",
        "print('data_line_google', data_line_google)"
      ],
      "metadata": {
        "colab": {
          "base_uri": "https://localhost:8080/"
        },
        "id": "IbEnPfif2-mD",
        "outputId": "12a8d43d-bd05-4e53-eecf-ed75a606a022"
      },
      "execution_count": 44,
      "outputs": [
        {
          "output_type": "stream",
          "name": "stdout",
          "text": [
            "claim <selenium.webdriver.remote.webelement.WebElement (session=\"74d69aaae97a80f306b79829aa91098f\", element=\"76ADF3E4E03417D36C84CB7E68FDF447_element_36\")>\n",
            "data_line_google ['US7981512B2', 'US11/773,801', 'Organic polymer-magnetic particles and process for producing same', 'no_data', '2007-07-05', 'JSR Corp;', 'Kouji Tamori;Eiji Takamoto;Takahiro Kawai;', '2011-07-19', 'C08G63/181', '1. Organic polymer particles, comprising:mother particles comprising nuclear particles and a magnetic material layer of superparamagnetic fine particles formed on the surface of the nuclear particles, anda copolymer layer comprising a structure shown by the following formula (1): whereinthe copolymer layer covers the mother particles,the copolymer layer comprises a copolymer made from a compound (A) having the structure shown by the following formula (1) and a polymerizable unsaturated group and another copolymerizable monomer (B),', 'Active', 'Abstracttranslated from Organic polymer particles having a structure shown by the following formula (1) are disclosed.          wherein A represents an alkylidene group, an alkylene group, a cyclohexylene group, or a phenylene group, and B represents a linear or branched alkylene group or an alkylidene group having 1 to 6 carbon atoms.', 'JP,US,US']\n"
          ]
        }
      ]
    },
    {
      "cell_type": "code",
      "source": [
        "espacenet_url"
      ],
      "metadata": {
        "colab": {
          "base_uri": "https://localhost:8080/",
          "height": 36
        },
        "id": "d8CL2RxvU_ob",
        "outputId": "42d9ef15-166b-4e9f-f3d4-85eea7dc3861"
      },
      "execution_count": 50,
      "outputs": [
        {
          "output_type": "execute_result",
          "data": {
            "text/plain": [
              "'https://worldwide.espacenet.com/publicationDetails/biblio?CC=US&NR=7981512B2&KC=B2&FT=D'"
            ],
            "application/vnd.google.colaboratory.intrinsic+json": {
              "type": "string"
            }
          },
          "metadata": {},
          "execution_count": 50
        }
      ]
    },
    {
      "cell_type": "code",
      "source": [],
      "metadata": {
        "id": "g_sAh4c4VAvT"
      },
      "execution_count": null,
      "outputs": []
    },
    {
      "cell_type": "code",
      "source": [
        "# prompt: requests using fake user agetn\n",
        "\n",
        "options = Options()\n",
        "options.add_argument(\"--headless\")\n",
        "options.add_argument('--no-sandbox')\n",
        "options.add_argument('--user-agent=Mozilla/5.0 (X11; Linux x86_64) AppleWebKit/537.36 (KHTML, like Gecko) Chrome/92.0.4515.131 Safari/537.36')\n",
        "driver = webdriver.Chrome(options=options)\n"
      ],
      "metadata": {
        "id": "CSZpxGt_VPYs"
      },
      "execution_count": null,
      "outputs": []
    }
  ]
}