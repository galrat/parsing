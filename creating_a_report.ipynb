{
  "nbformat": 4,
  "nbformat_minor": 0,
  "metadata": {
    "colab": {
      "provenance": [],
      "collapsed_sections": [
        "KotShBRmd_DU"
      ],
      "authorship_tag": "ABX9TyMAX7bFne+zcZCChIe0VBFR",
      "include_colab_link": true
    },
    "kernelspec": {
      "name": "python3",
      "display_name": "Python 3"
    },
    "language_info": {
      "name": "python"
    }
  },
  "cells": [
    {
      "cell_type": "markdown",
      "metadata": {
        "id": "view-in-github",
        "colab_type": "text"
      },
      "source": [
        "<a href=\"https://colab.research.google.com/github/galrat/parsing/blob/main/creating_a_report.ipynb\" target=\"_parent\"><img src=\"https://colab.research.google.com/assets/colab-badge.svg\" alt=\"Open In Colab\"/></a>"
      ]
    },
    {
      "cell_type": "markdown",
      "source": [
        "для автоматического составления отчета мне необходимо подгрузить сюда ряд документов:\n",
        "\n",
        "1. Договор. Из него я беру данные договора и название объекта для поиска\n",
        "2. Таблицу с данными для поиска. Из нее я беру ключевые слова\n",
        "3. Результаты поиска в виде таблицы документов. Из нее я беру данные о:\n",
        "- МПК,\n",
        "- выявленных документах\n",
        "4. Результаты анализа патентов. Из этого документа я беру данные для раскрытых и не раскрытых признаках."
      ],
      "metadata": {
        "id": "eYRyWgt_UzvG"
      }
    },
    {
      "cell_type": "code",
      "source": [
        "from docx import Document\n",
        "\n",
        "# Open an existing DOCX file\n",
        "doc = Document(\"/content/!типовой договор ЭКОФО doc.docx\")\n",
        "\n",
        "# Access and manipulate the content of the document as needed\n",
        "i = 0\n",
        "for paragraph in doc.paragraphs[:10]:\n",
        "    print(paragraph.text)  # Print the text of each paragraph\n",
        "    i = i +1\n",
        "    if 'ДОГОВОР ' in paragraph.text:\n",
        "      contract_number = paragraph.text.split('ДОГОВОР ')[-1]\n",
        "    if 'патентный поиск решения с предварительным названием' in paragraph.text:\n",
        "      theme = paragraph.text.split('патентный поиск решения с предварительным названием')[-1].split('»')[0] + '»'\n",
        "# You can also access tables, headers, footers, etc., in a similar manner\n",
        "\n",
        "# After making any changes, save the document\n",
        "contract_number, theme"
      ],
      "metadata": {
        "colab": {
          "base_uri": "https://localhost:8080/"
        },
        "id": "M58x-bAO_ajX",
        "outputId": "3114c37f-2ad6-4aec-ee4d-b7fdbbf685f9"
      },
      "execution_count": 173,
      "outputs": [
        {
          "output_type": "stream",
          "name": "stdout",
          "text": [
            "ДОГОВОР №ЭКОФО22023\n",
            "на выполнение работ/ оказание услуг \n",
            "\n",
            "ОБЩЕСТВО С ОГРАНИЧЕННОЙ ОТВЕТСТВЕННОСТЬЮ \"ЭКОФО\", именуемое в дальнейшем «ДОВЕРИТЕЛЬ», в лице генерального директора Моисеева Александра Юрьевича, действующего на основании Устава, с одной стороны, и Галимов Айрат Ильшатович, Патентный поверенный РФ рег. № 1925, именуемый в дальнейшем «ПОВЕРЕННЫЙ», с другой стороны, заключили настоящий Договор о нижеследующем:\n",
            "1. ПРЕДМЕТ ДОГОВОРА\n",
            "1.1.\tПОВЕРЕННЫЙ обязуется по поручению ДОВЕРИТЕЛЯ совершать юридические и иные действия (далее работы) относительно приобретения, правовой охраны и передачи прав на интеллектуальную собственность от имени и за счет ДОВЕРИТЕЛЯ, а ДОВЕРИТЕЛЬ обязуется принять указанные работы, оплатить понесенные ПОВЕРЕННЫМ в процессе выполнения работ расходы (международные пошлины, патентные пошлины, тарифы Патентного ведомства РФ и т.п.) и вознаграждение ПОВЕРЕННОГО.\n",
            "1.2. ПОВЕРЕННЫЙ обязуется по поручению ДОВЕРИТЕЛЯ провести патентный поиск решения с предварительным названием «Оксигенатор Вертикальный» и по согласованию с ДОВЕРИТЕЛЕМ подать заявку на изобретение или полезную модель в Роспатент.\n",
            "1.3. ПОВЕРЕННЫЙ обязуется по поручению ДОВЕРИТЕЛЯ подать заявку с предварительным названием «Оксигенатор Вертикальный» в Роспатент.\n",
            "2. ОБЯЗАННОСТИ СТОРОН\n",
            "2.1.\tПОВЕРЕННЫЙ обязан:\n"
          ]
        },
        {
          "output_type": "execute_result",
          "data": {
            "text/plain": [
              "('№ЭКОФО22023', ' «Оксигенатор Вертикальный»')"
            ]
          },
          "metadata": {},
          "execution_count": 173
        }
      ]
    },
    {
      "cell_type": "code",
      "source": [
        "for table in doc.tables[:1]:\n",
        "    # Iterate over rows in the table\n",
        "    for row in table.rows:\n",
        "        # Iterate over cells in the row\n",
        "        for cell in row.cells:\n",
        "            # Access and manipulate cell content as needed\n",
        "            print(cell.text)\n",
        "            contract_date = cell.text\n",
        "            break\n",
        "        break\n",
        "contract_date"
      ],
      "metadata": {
        "colab": {
          "base_uri": "https://localhost:8080/",
          "height": 52
        },
        "id": "Iy5ZywAoCXpO",
        "outputId": "03276178-987a-452a-ad1f-c95249bac4b7"
      },
      "execution_count": 174,
      "outputs": [
        {
          "output_type": "stream",
          "name": "stdout",
          "text": [
            "\"11\" сентября 2023 г.\n"
          ]
        },
        {
          "output_type": "execute_result",
          "data": {
            "text/plain": [
              "'\"11\" сентября 2023 г.'"
            ],
            "application/vnd.google.colaboratory.intrinsic+json": {
              "type": "string"
            }
          },
          "metadata": {},
          "execution_count": 174
        }
      ]
    },
    {
      "cell_type": "code",
      "source": [],
      "metadata": {
        "id": "0U9aviL6_bJm"
      },
      "execution_count": 142,
      "outputs": []
    },
    {
      "cell_type": "code",
      "source": [],
      "metadata": {
        "id": "EIsRjKAF_bMR"
      },
      "execution_count": 142,
      "outputs": []
    },
    {
      "cell_type": "code",
      "source": [],
      "metadata": {
        "id": "nmw4frhr_bO0"
      },
      "execution_count": 142,
      "outputs": []
    },
    {
      "cell_type": "code",
      "source": [],
      "metadata": {
        "id": "VobzC9Pt_bQ2"
      },
      "execution_count": null,
      "outputs": []
    },
    {
      "cell_type": "code",
      "source": [],
      "metadata": {
        "colab": {
          "base_uri": "https://localhost:8080/"
        },
        "id": "FDN8otjdYP7R",
        "outputId": "145bfd6a-9b08-401d-b906-c0e76e2acd12"
      },
      "execution_count": 127,
      "outputs": [
        {
          "output_type": "stream",
          "name": "stdout",
          "text": [
            "Today's date: 2024-06-06\n",
            "Date two weeks later: 2024-06-20 2024\n"
          ]
        }
      ]
    },
    {
      "cell_type": "code",
      "source": [
        "pip install python-docx\n",
        "\n",
        "from docx import Document\n",
        "from docx.shared import Pt\n",
        "from docx.enum.text import WD_COLOR_INDEX\n",
        "from docx.shared import RGBColor\n",
        "from docx.shared import Pt\n",
        "from docx.shared import Inches\n",
        "from docx.enum.text import WD_ALIGN_PARAGRAPH\n",
        "from docx.enum.text import WD_BREAK"
      ],
      "metadata": {
        "id": "CsHHx7wFEPEM"
      },
      "execution_count": null,
      "outputs": []
    },
    {
      "cell_type": "markdown",
      "source": [
        "# defs"
      ],
      "metadata": {
        "id": "gldXwxNaEHrR"
      }
    },
    {
      "cell_type": "code",
      "source": [],
      "metadata": {
        "id": "tdc5janbEHS0"
      },
      "execution_count": null,
      "outputs": []
    },
    {
      "cell_type": "code",
      "source": [
        "def usual_sentense(doc, text):\n",
        "  paragraph = doc.add_paragraph()\n",
        "  run =paragraph.add_run(text)\n",
        "  run.font.size = Pt(14)\n",
        "  paragraph.paragraph_format.first_line_indent = Inches(0.5)\n",
        "  paragraph.alignment = WD_ALIGN_PARAGRAPH.JUSTIFY\n",
        "  paragraph.paragraph_format.space_after = Pt(0)\n",
        "  #doc.save('report_page_01.docx')\n",
        ""
      ],
      "metadata": {
        "id": "d0736ySKYc_h"
      },
      "execution_count": 177,
      "outputs": []
    },
    {
      "cell_type": "code",
      "source": [],
      "metadata": {
        "id": "M-vIjUe9FzT6"
      },
      "execution_count": null,
      "outputs": []
    },
    {
      "cell_type": "markdown",
      "source": [
        "# get some data from contract, etc."
      ],
      "metadata": {
        "id": "HH2Ny4F8EKUS"
      }
    },
    {
      "cell_type": "code",
      "source": [
        "# get time data for report\n",
        "\n",
        "\n",
        "# Get today's date\n",
        "today = datetime.now().date()\n",
        "\n",
        "# Add 2 weeks to today's date\n",
        "two_weeks_later = (today + timedelta(weeks=2)).strftime(\"%Y-%m-%d\")\n",
        "this_year = today.strftime(\"%Y\")\n",
        "today_day = today.strftime(\"%Y-%m-%d\")\n",
        "\n",
        "print(\"Today's date:\", today_day)\n",
        "print(\"Date two weeks later:\", two_weeks_later, this_year)\n",
        "\n"
      ],
      "metadata": {
        "colab": {
          "base_uri": "https://localhost:8080/"
        },
        "id": "Td7UbushENnD",
        "outputId": "9ffeba82-7ab6-461b-8c2a-d7aee2527a1b"
      },
      "execution_count": 176,
      "outputs": [
        {
          "output_type": "stream",
          "name": "stdout",
          "text": [
            "Today's date: 2024-06-06\n",
            "Date two weeks later: 2024-06-20 2024\n"
          ]
        }
      ]
    },
    {
      "cell_type": "code",
      "source": [
        "\n",
        "# Open an existing DOCX file\n",
        "doc = Document(\"/content/!типовой договор ЭКОФО doc.docx\")\n",
        "\n",
        "# Access and manipulate the content of the document as needed\n",
        "i = 0\n",
        "for paragraph in doc.paragraphs[:10]:\n",
        "    #print(paragraph.text)  # Print the text of each paragraph\n",
        "    i = i +1\n",
        "    if 'ДОГОВОР ' in paragraph.text:\n",
        "      contract_number = paragraph.text.split('ДОГОВОР ')[-1]\n",
        "    if 'патентный поиск решения с предварительным названием' in paragraph.text:\n",
        "      theme = paragraph.text.split('патентный поиск решения с предварительным названием')[-1].split('»')[0] + '»'\n",
        "# You can also access tables, headers, footers, etc., in a similar manner\n",
        "\n",
        "# After making any changes, save the document\n",
        "contract_number, theme"
      ],
      "metadata": {
        "colab": {
          "base_uri": "https://localhost:8080/"
        },
        "id": "PXG5GKtWF5cK",
        "outputId": "009b7c72-8a83-47b6-9eea-915129bce863"
      },
      "execution_count": 179,
      "outputs": [
        {
          "output_type": "execute_result",
          "data": {
            "text/plain": [
              "('№ЭКОФО22023', ' «Оксигенатор Вертикальный»')"
            ]
          },
          "metadata": {},
          "execution_count": 179
        }
      ]
    },
    {
      "cell_type": "code",
      "source": [
        "for table in doc.tables[:1]:\n",
        "    # Iterate over rows in the table\n",
        "    for row in table.rows:\n",
        "        # Iterate over cells in the row\n",
        "        for cell in row.cells:\n",
        "            # Access and manipulate cell content as needed\n",
        "            #print(cell.text)\n",
        "            contract_date = cell.text\n",
        "            break\n",
        "        break\n",
        "contract_date"
      ],
      "metadata": {
        "colab": {
          "base_uri": "https://localhost:8080/",
          "height": 52
        },
        "id": "Vn7HlGA1EaIC",
        "outputId": "33d9e229-8eed-4e66-d70e-8f6f52c28657"
      },
      "execution_count": 180,
      "outputs": [
        {
          "output_type": "stream",
          "name": "stdout",
          "text": [
            "\"11\" сентября 2023 г.\n"
          ]
        },
        {
          "output_type": "execute_result",
          "data": {
            "text/plain": [
              "'\"11\" сентября 2023 г.'"
            ],
            "application/vnd.google.colaboratory.intrinsic+json": {
              "type": "string"
            }
          },
          "metadata": {},
          "execution_count": 180
        }
      ]
    },
    {
      "cell_type": "markdown",
      "source": [
        "# title page\n"
      ],
      "metadata": {
        "id": "U0zqzCTVP4uD"
      }
    },
    {
      "cell_type": "code",
      "source": [
        "report = Document()\n",
        "doc = Document()\n",
        "\n",
        "doc.add_paragraph()\n",
        "\n",
        "paragraph = doc.add_paragraph()\n",
        "paragraph.add_run(\"Патентный поверенный №1925\")\n",
        "# Adjust indentation\n",
        "paragraph.paragraph_format.left_indent = Inches(3.5)\n",
        "\n",
        "paragraph = doc.add_paragraph()\n",
        "paragraph.add_run(\"Галимов Айрат Ильшатович\")\n",
        "# Adjust indentation\n",
        "paragraph.paragraph_format.left_indent = Inches(3.5)\n",
        "paragraph = doc.add_paragraph()\n",
        "paragraph.add_run(\"_____________________\")\n",
        "# Adjust indentation\n",
        "paragraph.paragraph_format.left_indent = Inches(3.5)\n",
        "\n",
        "paragraph = doc.add_paragraph()\n",
        "run = paragraph.add_run(\"\\n\\n\\n\\n\")\n",
        "run.font.size = Pt(12)\n",
        "\n",
        "paragraph = doc.add_paragraph()\n",
        "run = paragraph.add_run(\"ОТЧЕТ №  \" + contract_number)\n",
        "run.font.size = Pt(24)\n",
        "run.bold = True\n",
        "paragraph.alignment = WD_ALIGN_PARAGRAPH.CENTER\n",
        "\n",
        "paragraph = doc.add_paragraph()\n",
        "run = paragraph.add_run(\"О ПАТЕНТНОМ ПОИСКЕ\")\n",
        "run.font.size = Pt(24)\n",
        "run.bold = True\n",
        "paragraph.alignment = WD_ALIGN_PARAGRAPH.CENTER\n",
        "\n",
        "paragraph = doc.add_paragraph()\n",
        "run = paragraph.add_run(\"по теме\")\n",
        "run.font.size = Pt(14)\n",
        "run.bold = False\n",
        "paragraph.alignment = WD_ALIGN_PARAGRAPH.CENTER\n",
        "\n",
        "paragraph = doc.add_paragraph()\n",
        "run = paragraph.add_run(theme)\n",
        "run.font.size = Pt(20)\n",
        "run.bold = False\n",
        "paragraph.alignment = WD_ALIGN_PARAGRAPH.CENTER\n",
        "\n",
        "\n",
        "paragraph = doc.add_paragraph()\n",
        "run = paragraph.add_run(\"\\n\\n\\n\\n\\n\")\n",
        "run.font.size = Pt(12)\n",
        "\n",
        "\n",
        "paragraph = doc.add_paragraph()\n",
        "run = paragraph.add_run(\"По договору \" + contract_number)\n",
        "run.font.size = Pt(14)\n",
        "run.bold = False\n",
        "paragraph.alignment = WD_ALIGN_PARAGRAPH.CENTER\n",
        "\n",
        "paragraph = doc.add_paragraph()\n",
        "run = paragraph.add_run(\"на выполнение работ/оказание услуг от \" + contract_date)\n",
        "run.font.size = Pt(14)\n",
        "run.bold = False\n",
        "paragraph.alignment = WD_ALIGN_PARAGRAPH.CENTER\n",
        "\n",
        "\n",
        "paragraph = doc.add_paragraph()\n",
        "run = paragraph.add_run(\"\\n\\n\\n\\n\")\n",
        "run.font.size = Pt(12)\n",
        "\n",
        "\n",
        "paragraph = doc.add_paragraph()\n",
        "run = paragraph.add_run(\"Казань \" + this_year)\n",
        "run.font.size = Pt(14)\n",
        "run.bold = True\n",
        "paragraph.alignment = WD_ALIGN_PARAGRAPH.CENTER\n",
        "\n",
        "doc.add_paragraph().add_run().add_break(WD_BREAK.PAGE)\n",
        "\n",
        "\n",
        "doc.save('report_page_01.docx')"
      ],
      "metadata": {
        "id": "Zx-ExTphNO3w"
      },
      "execution_count": 181,
      "outputs": []
    },
    {
      "cell_type": "markdown",
      "source": [
        "# content"
      ],
      "metadata": {
        "id": "KotShBRmd_DU"
      }
    },
    {
      "cell_type": "code",
      "source": [
        "paragraph = doc.add_paragraph()\n",
        "run = paragraph.add_run(\"СОДЕРЖАНИЕ\")\n",
        "run.font.size = Pt(24)\n",
        "run.bold = True\n",
        "paragraph.alignment = WD_ALIGN_PARAGRAPH.CENTER\n",
        "\n",
        "doc.add_paragraph().add_run().add_break(WD_BREAK.PAGE)\n",
        "\n",
        "doc.save('report_page_01.docx')"
      ],
      "metadata": {
        "id": "pMMI1OBwNO6A"
      },
      "execution_count": 130,
      "outputs": []
    },
    {
      "cell_type": "markdown",
      "source": [
        "# 1. ОБЩИЕ ДАННЫЕ ОБ ОБЪЕКТЕ ИССЛЕДОВАНИЯ"
      ],
      "metadata": {
        "id": "QGmUK4_efAl5"
      }
    },
    {
      "cell_type": "code",
      "source": [
        "heading = doc.add_heading('1. ОБЩИЕ ДАННЫЕ ОБ ОБЪЕКТЕ ИССЛЕДОВАНИЯ', level=1)\n",
        "heading.alignment = WD_ALIGN_PARAGRAPH.CENTER  # Center align the heading\n",
        "heading.font.size = Pt(16)  # Set the font size (16 points)\n",
        "heading.bold = True\n",
        "\n",
        "doc.save('report_page_01.docx')\n",
        "\n",
        "paragraph = doc.add_paragraph()\n",
        "paragraph.add_run(\"Тема:\")\n",
        "run.font.size = Pt(14)\n",
        "\n",
        "paragraph = doc.add_paragraph()\n",
        "paragraph.add_run(\"Начало и окончание работы: \" + today_day + ' - ' + two_weeks_later)\n",
        "run.font.size = Pt(14)\n",
        "\n",
        "paragraph = doc.add_paragraph()\n",
        "paragraph.add_run(\"Патентные исследования проводились на основании информационных материалов, представленных разработчиком (Приложение 1).\")\n",
        "run.font.size = Pt(14)\n",
        "\n",
        "paragraph = doc.add_paragraph()\n",
        "paragraph.add_run(\"Объектом исследования, в отношении которого проведен патентный поиск, является \") # взять из таблицы\n",
        "run.font.size = Pt(14)\n",
        "\n",
        "paragraph = doc.add_paragraph()\n",
        "paragraph.add_run(\"Объект исследования относится к области  \") # взять самое популярное МПК\n",
        "run.font.size = Pt(14)\n",
        "\n",
        "paragraph = doc.add_paragraph()\n",
        "run = paragraph.add_run(\"Описание исследуемого объекта\")\n",
        "run.font.size = Pt(14)\n",
        "run.bold = True\n",
        "paragraph.alignment = WD_ALIGN_PARAGRAPH.CENTER\n",
        "\n",
        "# Список признаков из таблицы\n",
        "paragraph = doc.add_paragraph()\n",
        "paragraph.add_run(\"Исследуемое решение характеризуется следующими признаками:\") # взять самое популярное МПК\n",
        "run.font.size = Pt(14)\n",
        "\n",
        "\n",
        "\n",
        "paragraph = doc.add_paragraph()\n",
        "run = paragraph.add_run(\"Достигаемый технический результат\")\n",
        "run.font.size = Pt(14)\n",
        "run.bold = True\n",
        "paragraph.alignment = WD_ALIGN_PARAGRAPH.CENTER\n",
        "\n",
        " # заявленный результат из таблицы\n",
        "paragraph = doc.add_paragraph()\n",
        "paragraph.add_run(\"Повышение надежности\") # взять самое популярное МПК\n",
        "run.font.size = Pt(14)\n",
        "\n",
        "\n",
        "doc.add_paragraph().add_run().add_break(WD_BREAK.PAGE)\n",
        "\n",
        "doc.save('report_page_01.docx')"
      ],
      "metadata": {
        "id": "SOUaEuUfNO8W"
      },
      "execution_count": 131,
      "outputs": []
    },
    {
      "cell_type": "markdown",
      "source": [
        "# 2 АНАЛИТИЧЕСКАЯ ЧАСТЬ"
      ],
      "metadata": {
        "id": "TqXeayEJx3W-"
      }
    },
    {
      "cell_type": "code",
      "source": [
        "heading = doc.add_heading('2.АНАЛИТИЧЕСКАЯ ЧАСТЬ', level=1)\n",
        "heading.alignment = WD_ALIGN_PARAGRAPH.CENTER  # Center align the heading\n",
        "heading.font.size = Pt(16)  # Set the font size (16 points)\n",
        "heading.bold = True\n",
        "\n",
        "heading = doc.add_heading(\"2.1 Определение критериев поиска\", level=2)\n",
        "heading.alignment = WD_ALIGN_PARAGRAPH.CENTER  # Center align the heading\n",
        "heading.font.size = Pt(14)  # Set the font size (16 points)\n",
        "heading.bold = True\n",
        "\n",
        "usual_sentense(doc, 'Содержание и цель патентных исследований: выявление релевантных технических решений, определение уровня техники, проверка соответствия представленных технических решений, установленным Гражданским кодексом РФ условиям патентоспособности изобретения/полезной модели (Приложение 2) на основании отобранных материалов.')\n",
        "usual_sentense(doc, 'В рамках настоящей работы уровень техники определяется в объёме опубликованных заявок и патентов Российской Федерации и стран мира.')\n",
        "usual_sentense(doc, 'В соответствии со статьей 1350 четвертой части Гражданского кодекса РФ уровень техники включает любые сведения, ставшие общедоступными в мире до даты проведения исследования.')\n",
        "usual_sentense(doc, 'Исследования проведены по территории РФ и зарубежным странам.')\n",
        "usual_sentense(doc, 'Глубина исследования: без ограничений.')\n",
        "usual_sentense(doc, 'Патентный поиск проводился по опубликованным изданиям в следующих базах данных:')\n",
        "usual_sentense(doc, '1.\tБазы патентных документов Патентного ведомства РФ:')\n",
        "usual_sentense(doc, '•\tБД RUPAT «Изобретения (полные тексты)» – полные тексты Российских патентов на изобретение и (частично) заявок на изобретение, графическая информация;')\n",
        "usual_sentense(doc, '•\tБД RUPATABRU «Изобретения (рефераты)» – рефераты Российских патентов на изобретение, графическая информация – основной рисунок;')\n",
        "usual_sentense(doc, '•\tБД RUPM «Полезные модели (полные тексты)» – полные тексты Российских патентов и свидетельств на полезные модели, графическая информация;')\n",
        "usual_sentense(doc, '•\tБД RUPMАВ «Полезные модели (рефераты)» – формулы Российских полезных моделей, графическая информация – основной рисунок.')\n",
        "usual_sentense(doc, '2.\tБаза патентных документов Европейского патентного ведомства «Espacenet» – содержит более 37 серверов, в том числе патентные документы Европейской патентной организации, Всемирной организации интеллектуальной собственности, США, Японии, Австрии, Бельгии, Кипра, Дании, Финляндии, Франции, Германии, Греции, Ирландии, Италии, Лихтенштейна, Люксембурга, Монако, Нидерландов, Португалии, Испании, Швеции, Швейцарии, Англии.')\n",
        "\n",
        "usual_sentense(doc, '3.\tБаза данных сервиса Google Patents.')\n",
        "usual_sentense(doc, 'При проведении поиска по источникам патентной информации применялись систематический и лексический виды поиска')\n",
        "usual_sentense(doc, 'Систематический вид поиска проводился по следующим классам Между-народной патентной классификации (МПК):')\n",
        "\n",
        "usual_sentense(doc, '----------------IPC-------------------')\n",
        "\n",
        "usual_sentense(doc, 'Лексический вид поиска велся по следующим ключевым словам и их комбинациям:')\n",
        "usual_sentense(doc, '------------------terms-------------------')\n",
        "\n",
        "usual_sentense(doc, 'и другие')\n",
        "\n"
      ],
      "metadata": {
        "id": "44Jc5wrBe_2r"
      },
      "execution_count": 136,
      "outputs": []
    },
    {
      "cell_type": "markdown",
      "source": [
        "#2.2 Определение патентоспособности"
      ],
      "metadata": {
        "id": "Y-vrXc7f8DYD"
      }
    },
    {
      "cell_type": "code",
      "source": [
        "ru_numbers = '10'\n",
        "for_numbers = '20'\n",
        "\n",
        "heading = doc.add_heading(\"2.2 Выявленные решения\", level=2)\n",
        "\n",
        "# Customize heading formatting\n",
        "heading.alignment = WD_ALIGN_PARAGRAPH.CENTER  # Center align the heading\n",
        "for run in heading.runs:\n",
        "    run.bold = True  # Make the heading bold\n",
        "    run.font.size = Pt(14)  # Set the font size (16 points)\n",
        "\n",
        "\n",
        "\n",
        "usual_sentense(doc, 'В результате проведённого патентного поиска отобрано: по РФ – '+ ru_numbers + ', по странам мира – ' + for_numbers + 'релевантных технических решений (Приложение 3)')\n",
        "usual_sentense(doc,'Далее представлена краткая информация о наиболее близких к представленному объекту технических решениях (аналогах).')\n"
      ],
      "metadata": {
        "id": "3mlr8StZe_46"
      },
      "execution_count": 141,
      "outputs": []
    },
    {
      "cell_type": "code",
      "source": [
        "# достаю информацию об аналогах\n"
      ],
      "metadata": {
        "id": "_qQcjFPY-mBm"
      },
      "execution_count": null,
      "outputs": []
    },
    {
      "cell_type": "code",
      "source": [
        "heading = doc.add_heading(\"2.3 Анализ патентоспособности\", level=2)\n",
        "\n",
        "# Customize heading formatting\n",
        "heading.alignment = WD_ALIGN_PARAGRAPH.CENTER  # Center align the heading\n",
        "for run in heading.runs:\n",
        "    run.bold = True  # Make the heading bold\n",
        "    run.font.size = Pt(14)  # Set the font size (16 points)\n",
        "\n"
      ],
      "metadata": {
        "id": "ibrFo7GQ-yxO"
      },
      "execution_count": null,
      "outputs": []
    },
    {
      "cell_type": "code",
      "source": [
        "heading = doc.add_heading(\"ЗАКЛЮЧЕНИЕ\", level=1)\n",
        "\n",
        "# Customize heading formatting\n",
        "heading.alignment = WD_ALIGN_PARAGRAPH.CENTER  # Center align the heading\n",
        "for run in heading.runs:\n",
        "    run.bold = True  # Make the heading bold\n",
        "    run.font.size = Pt(14)  # Set the font size (16 points)"
      ],
      "metadata": {
        "id": "k1lQlOOW_KSP"
      },
      "execution_count": null,
      "outputs": []
    },
    {
      "cell_type": "code",
      "source": [
        "doc.save('report_page_01.docx')"
      ],
      "metadata": {
        "id": "Ngbw5TZUe_7W"
      },
      "execution_count": 142,
      "outputs": []
    },
    {
      "cell_type": "markdown",
      "source": [
        "# test"
      ],
      "metadata": {
        "id": "FGD9hzws7BxQ"
      }
    },
    {
      "cell_type": "code",
      "source": [
        "table = doc.add_table(rows=2, cols=2)\n",
        "table.cell(0, 0).text = 'Cell 1'\n",
        "table.cell(0, 1).text = 'Cell 2'\n",
        "table.cell(1, 0).text = 'Cell 3'\n",
        "table.cell(1, 1).text = 'Cell 4'\n"
      ],
      "metadata": {
        "id": "wvX6MKNK7C4I"
      },
      "execution_count": 139,
      "outputs": []
    }
  ]
}